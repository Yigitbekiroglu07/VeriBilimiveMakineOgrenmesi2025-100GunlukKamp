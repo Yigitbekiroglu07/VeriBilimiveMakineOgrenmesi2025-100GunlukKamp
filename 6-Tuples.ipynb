{
 "cells": [
  {
   "cell_type": "code",
   "execution_count": 1,
   "id": "d24c8eaf-13e7-40a6-82da-04045b0ffb19",
   "metadata": {},
   "outputs": [],
   "source": [
    "myList = [10,\"a\",\"b\",3.14]"
   ]
  },
  {
   "cell_type": "code",
   "execution_count": 2,
   "id": "e2a56d2d-7ab0-489f-b9d0-d3a07c449818",
   "metadata": {},
   "outputs": [],
   "source": [
    "myList[0] = 100"
   ]
  },
  {
   "cell_type": "code",
   "execution_count": 3,
   "id": "84f678b9-6891-41a7-b171-e10c18a44d82",
   "metadata": {},
   "outputs": [
    {
     "data": {
      "text/plain": [
       "[100, 'a', 'b', 3.14]"
      ]
     },
     "execution_count": 3,
     "metadata": {},
     "output_type": "execute_result"
    }
   ],
   "source": [
    "myList"
   ]
  },
  {
   "cell_type": "code",
   "execution_count": 4,
   "id": "e564be8e-f355-4fdf-aafc-140f79ad8995",
   "metadata": {},
   "outputs": [],
   "source": [
    "#Tuple"
   ]
  },
  {
   "cell_type": "code",
   "execution_count": 9,
   "id": "df5302a8-312c-4bd2-aea1-c6cb7caf5186",
   "metadata": {},
   "outputs": [],
   "source": [
    "myTuple = (10,\"a\",\"b\",3.14)"
   ]
  },
  {
   "cell_type": "code",
   "execution_count": 10,
   "id": "e687b876-7b78-4e05-b57c-fcee86167caf",
   "metadata": {},
   "outputs": [
    {
     "data": {
      "text/plain": [
       "tuple"
      ]
     },
     "execution_count": 10,
     "metadata": {},
     "output_type": "execute_result"
    }
   ],
   "source": [
    "type(myTuple)"
   ]
  },
  {
   "cell_type": "code",
   "execution_count": 13,
   "id": "afd9d6e5-7abc-4cbf-b10c-08f4294ff82d",
   "metadata": {},
   "outputs": [
    {
     "data": {
      "text/plain": [
       "(10, 'a', 'b', 3.14)"
      ]
     },
     "execution_count": 13,
     "metadata": {},
     "output_type": "execute_result"
    }
   ],
   "source": [
    "myTuple"
   ]
  },
  {
   "cell_type": "code",
   "execution_count": 14,
   "id": "103ee0a4-5917-47b6-8b9b-d67fae4ce74f",
   "metadata": {},
   "outputs": [
    {
     "data": {
      "text/plain": [
       "1"
      ]
     },
     "execution_count": 14,
     "metadata": {},
     "output_type": "execute_result"
    }
   ],
   "source": [
    "myTuple.index(\"a\")"
   ]
  },
  {
   "cell_type": "code",
   "execution_count": 16,
   "id": "9f58bfe7-b36e-48af-9622-a5abbd943b58",
   "metadata": {},
   "outputs": [
    {
     "data": {
      "text/plain": [
       "1"
      ]
     },
     "execution_count": 16,
     "metadata": {},
     "output_type": "execute_result"
    }
   ],
   "source": [
    "myTuple.count(\"a\")"
   ]
  },
  {
   "cell_type": "code",
   "execution_count": null,
   "id": "4276adb2-f06e-440e-bbd6-c231c6db399c",
   "metadata": {},
   "outputs": [],
   "source": []
  }
 ],
 "metadata": {
  "kernelspec": {
   "display_name": "Python 3 (ipykernel)",
   "language": "python",
   "name": "python3"
  },
  "language_info": {
   "codemirror_mode": {
    "name": "ipython",
    "version": 3
   },
   "file_extension": ".py",
   "mimetype": "text/x-python",
   "name": "python",
   "nbconvert_exporter": "python",
   "pygments_lexer": "ipython3",
   "version": "3.12.7"
  }
 },
 "nbformat": 4,
 "nbformat_minor": 5
}
