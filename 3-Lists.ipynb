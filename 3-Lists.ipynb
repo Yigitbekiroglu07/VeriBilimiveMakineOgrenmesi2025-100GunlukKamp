{
 "cells": [
  {
   "cell_type": "code",
   "execution_count": 1,
   "id": "d621f88a-e797-49cc-9285-0928963c71ff",
   "metadata": {},
   "outputs": [],
   "source": [
    "myString = \"Hello Python\""
   ]
  },
  {
   "cell_type": "code",
   "execution_count": 4,
   "id": "0dd1231f-261e-4d01-9517-fd7cd229e253",
   "metadata": {},
   "outputs": [
    {
     "data": {
      "text/plain": [
       "['Hello', 'Python']"
      ]
     },
     "execution_count": 4,
     "metadata": {},
     "output_type": "execute_result"
    }
   ],
   "source": [
    "myString.split()"
   ]
  },
  {
   "cell_type": "code",
   "execution_count": 5,
   "id": "b0c9ebcd-6d96-47fb-9b70-b490c93f99b2",
   "metadata": {},
   "outputs": [
    {
     "data": {
      "text/plain": [
       "list"
      ]
     },
     "execution_count": 5,
     "metadata": {},
     "output_type": "execute_result"
    }
   ],
   "source": [
    "type(myString.split())"
   ]
  },
  {
   "cell_type": "code",
   "execution_count": 6,
   "id": "09a792e8-d59e-4312-9d4e-43160cedc7d0",
   "metadata": {},
   "outputs": [],
   "source": [
    "#List"
   ]
  },
  {
   "cell_type": "code",
   "execution_count": 8,
   "id": "cae6ebe4-0ae7-4fcb-b6c1-78a9faec95ef",
   "metadata": {},
   "outputs": [
    {
     "data": {
      "text/plain": [
       "'Hello Python'"
      ]
     },
     "execution_count": 8,
     "metadata": {},
     "output_type": "execute_result"
    }
   ],
   "source": [
    "myString"
   ]
  },
  {
   "cell_type": "code",
   "execution_count": 10,
   "id": "2619de3a-13ac-44a0-bc0b-e66e215ebc32",
   "metadata": {},
   "outputs": [
    {
     "data": {
      "text/plain": [
       "'H'"
      ]
     },
     "execution_count": 10,
     "metadata": {},
     "output_type": "execute_result"
    }
   ],
   "source": [
    "myString[0]"
   ]
  },
  {
   "cell_type": "code",
   "execution_count": 12,
   "id": "75fd077d-a63e-44d6-b8f0-6a8556e2313e",
   "metadata": {},
   "outputs": [],
   "source": [
    "#myString[0] = \"a\""
   ]
  },
  {
   "cell_type": "code",
   "execution_count": 13,
   "id": "6df0ae69-0c2b-4398-8517-3eb921aa4f34",
   "metadata": {},
   "outputs": [],
   "source": [
    "#immutable - immutability"
   ]
  },
  {
   "cell_type": "markdown",
   "id": "fd1db9de-b5b5-4a91-8841-b1fe2562031e",
   "metadata": {},
   "source": [
    "List"
   ]
  },
  {
   "cell_type": "code",
   "execution_count": 14,
   "id": "b4c42491-9f00-4c8e-b8f4-9a52dbdca807",
   "metadata": {},
   "outputs": [],
   "source": [
    "myList = [10.20,30]"
   ]
  },
  {
   "cell_type": "code",
   "execution_count": 15,
   "id": "0a7409cd-47f7-4510-97a7-e64cf994fd99",
   "metadata": {},
   "outputs": [
    {
     "data": {
      "text/plain": [
       "list"
      ]
     },
     "execution_count": 15,
     "metadata": {},
     "output_type": "execute_result"
    }
   ],
   "source": [
    "type(myList)"
   ]
  },
  {
   "cell_type": "code",
   "execution_count": 16,
   "id": "b10460a7-7fdb-4960-8f02-d7087fb7757f",
   "metadata": {},
   "outputs": [],
   "source": [
    "x = 10\n",
    "y = 20\n",
    "z = 30"
   ]
  },
  {
   "cell_type": "code",
   "execution_count": 17,
   "id": "46d65ebc-75d1-4343-8f48-9c52579122b3",
   "metadata": {},
   "outputs": [],
   "source": [
    "myList=[x,y,z]"
   ]
  },
  {
   "cell_type": "code",
   "execution_count": 18,
   "id": "563e89fc-2ec5-4fb9-bcc9-373bcc2165c7",
   "metadata": {},
   "outputs": [
    {
     "data": {
      "text/plain": [
       "[10, 20, 30]"
      ]
     },
     "execution_count": 18,
     "metadata": {},
     "output_type": "execute_result"
    }
   ],
   "source": [
    "myList"
   ]
  },
  {
   "cell_type": "code",
   "execution_count": 19,
   "id": "072b7c3f-bfcb-4a04-9f83-f33a8e98bf29",
   "metadata": {},
   "outputs": [],
   "source": [
    "myList[0] = 100"
   ]
  },
  {
   "cell_type": "code",
   "execution_count": 20,
   "id": "a17f5057-9599-4cbe-aa96-0d1b457d739e",
   "metadata": {},
   "outputs": [
    {
     "data": {
      "text/plain": [
       "100"
      ]
     },
     "execution_count": 20,
     "metadata": {},
     "output_type": "execute_result"
    }
   ],
   "source": [
    "myList[0]"
   ]
  },
  {
   "cell_type": "code",
   "execution_count": 21,
   "id": "b359ea53-443c-4bba-85aa-ec776fca6f89",
   "metadata": {},
   "outputs": [
    {
     "data": {
      "text/plain": [
       "[100, 20, 30]"
      ]
     },
     "execution_count": 21,
     "metadata": {},
     "output_type": "execute_result"
    }
   ],
   "source": [
    "myList"
   ]
  },
  {
   "cell_type": "code",
   "execution_count": 22,
   "id": "05c52492-75ec-48fe-bc6f-5e29f222b483",
   "metadata": {},
   "outputs": [
    {
     "data": {
      "text/plain": [
       "3"
      ]
     },
     "execution_count": 22,
     "metadata": {},
     "output_type": "execute_result"
    }
   ],
   "source": [
    "len(myList)"
   ]
  },
  {
   "cell_type": "code",
   "execution_count": 28,
   "id": "3249ebab-ff09-4b36-9bd9-0fa69871cd45",
   "metadata": {},
   "outputs": [
    {
     "data": {
      "text/plain": [
       "30"
      ]
     },
     "execution_count": 28,
     "metadata": {},
     "output_type": "execute_result"
    }
   ],
   "source": [
    "myList[len(myList) -1]"
   ]
  },
  {
   "cell_type": "code",
   "execution_count": 29,
   "id": "f7275179-010a-433e-b100-d047a3a0cfe0",
   "metadata": {},
   "outputs": [
    {
     "data": {
      "text/plain": [
       "30"
      ]
     },
     "execution_count": 29,
     "metadata": {},
     "output_type": "execute_result"
    }
   ],
   "source": [
    "myList[-1]"
   ]
  },
  {
   "cell_type": "code",
   "execution_count": 30,
   "id": "fa91aad7-8c6e-42ea-a8cb-af1879b61b00",
   "metadata": {},
   "outputs": [
    {
     "data": {
      "text/plain": [
       "20"
      ]
     },
     "execution_count": 30,
     "metadata": {},
     "output_type": "execute_result"
    }
   ],
   "source": [
    "myList[-2]"
   ]
  },
  {
   "cell_type": "code",
   "execution_count": 31,
   "id": "e3370909-be43-40ac-ac4b-6a108c6ecb43",
   "metadata": {},
   "outputs": [],
   "source": [
    "myList.append(80)"
   ]
  },
  {
   "cell_type": "code",
   "execution_count": 32,
   "id": "4346ae9e-0624-4742-bf3b-fbb9cb102c5b",
   "metadata": {},
   "outputs": [
    {
     "data": {
      "text/plain": [
       "[100, 20, 30, 80]"
      ]
     },
     "execution_count": 32,
     "metadata": {},
     "output_type": "execute_result"
    }
   ],
   "source": [
    "myList"
   ]
  },
  {
   "cell_type": "code",
   "execution_count": 33,
   "id": "8f5a5075-612a-465c-b08c-6b6b9e3eb105",
   "metadata": {},
   "outputs": [
    {
     "data": {
      "text/plain": [
       "1"
      ]
     },
     "execution_count": 33,
     "metadata": {},
     "output_type": "execute_result"
    }
   ],
   "source": [
    "myList.count(80)"
   ]
  },
  {
   "cell_type": "code",
   "execution_count": 36,
   "id": "0f85b963-7c27-40d3-a563-dfc2d0dabe20",
   "metadata": {},
   "outputs": [],
   "source": [
    "myList.insert(2,35)"
   ]
  },
  {
   "cell_type": "code",
   "execution_count": 37,
   "id": "ffe8f768-562f-41a2-8984-b280ca029659",
   "metadata": {},
   "outputs": [
    {
     "data": {
      "text/plain": [
       "[100, 20, 35, 30, 80]"
      ]
     },
     "execution_count": 37,
     "metadata": {},
     "output_type": "execute_result"
    }
   ],
   "source": [
    "myList"
   ]
  },
  {
   "cell_type": "code",
   "execution_count": 38,
   "id": "2a804f01-c0dd-413d-9db5-7d993d80ffd1",
   "metadata": {},
   "outputs": [],
   "source": [
    "myList.reverse()"
   ]
  },
  {
   "cell_type": "code",
   "execution_count": 39,
   "id": "bb343365-c295-4f53-a531-bc391f170506",
   "metadata": {},
   "outputs": [
    {
     "data": {
      "text/plain": [
       "[80, 30, 35, 20, 100]"
      ]
     },
     "execution_count": 39,
     "metadata": {},
     "output_type": "execute_result"
    }
   ],
   "source": [
    "myList"
   ]
  },
  {
   "cell_type": "code",
   "execution_count": 40,
   "id": "6fd51323-108e-4cac-b8e3-2c471885cf6c",
   "metadata": {},
   "outputs": [],
   "source": [
    "myList.sort()"
   ]
  },
  {
   "cell_type": "code",
   "execution_count": 41,
   "id": "def1f676-6488-4d03-bd81-0fda4e36e8b5",
   "metadata": {},
   "outputs": [
    {
     "data": {
      "text/plain": [
       "[20, 30, 35, 80, 100]"
      ]
     },
     "execution_count": 41,
     "metadata": {},
     "output_type": "execute_result"
    }
   ],
   "source": [
    "myList"
   ]
  },
  {
   "cell_type": "code",
   "execution_count": 43,
   "id": "6b028bab-833c-484e-84d6-7e54abdfbc4d",
   "metadata": {},
   "outputs": [
    {
     "name": "stdin",
     "output_type": "stream",
     "text": [
      "enter x  10\n"
     ]
    }
   ],
   "source": [
    "x = input(\"enter x \")"
   ]
  },
  {
   "cell_type": "code",
   "execution_count": 44,
   "id": "7c2f3ee1-8d36-48a8-bde0-115303343c6c",
   "metadata": {},
   "outputs": [
    {
     "data": {
      "text/plain": [
       "'10'"
      ]
     },
     "execution_count": 44,
     "metadata": {},
     "output_type": "execute_result"
    }
   ],
   "source": [
    "x"
   ]
  },
  {
   "cell_type": "code",
   "execution_count": 45,
   "id": "ef35eadb-6cd6-424c-8373-f3381bb1efc5",
   "metadata": {},
   "outputs": [
    {
     "data": {
      "text/plain": [
       "str"
      ]
     },
     "execution_count": 45,
     "metadata": {},
     "output_type": "execute_result"
    }
   ],
   "source": [
    "type(x)"
   ]
  },
  {
   "cell_type": "code",
   "execution_count": 46,
   "id": "473111e9-61e1-43b6-8637-a85d21bb7c22",
   "metadata": {},
   "outputs": [
    {
     "name": "stdin",
     "output_type": "stream",
     "text": [
      "enter y:  20\n"
     ]
    }
   ],
   "source": [
    "y = input(\"enter y: \")"
   ]
  },
  {
   "cell_type": "code",
   "execution_count": 47,
   "id": "fd1a9f72-eb09-48e8-a415-7d146ee972cf",
   "metadata": {},
   "outputs": [
    {
     "name": "stdin",
     "output_type": "stream",
     "text": [
      "enter z:  30\n"
     ]
    }
   ],
   "source": [
    "z = input(\"enter z: \")"
   ]
  },
  {
   "cell_type": "code",
   "execution_count": 48,
   "id": "ace0ddd3-c894-4f26-918d-66885cbef924",
   "metadata": {},
   "outputs": [
    {
     "data": {
      "text/plain": [
       "'20'"
      ]
     },
     "execution_count": 48,
     "metadata": {},
     "output_type": "execute_result"
    }
   ],
   "source": [
    "y"
   ]
  },
  {
   "cell_type": "code",
   "execution_count": 49,
   "id": "78b38d15-9b30-492d-9248-76a571361450",
   "metadata": {},
   "outputs": [
    {
     "data": {
      "text/plain": [
       "'30'"
      ]
     },
     "execution_count": 49,
     "metadata": {},
     "output_type": "execute_result"
    }
   ],
   "source": [
    "z"
   ]
  },
  {
   "cell_type": "code",
   "execution_count": 50,
   "id": "f0eeb034-ac99-4141-b6ea-a8b5340c6849",
   "metadata": {},
   "outputs": [],
   "source": [
    "inputList = []"
   ]
  },
  {
   "cell_type": "code",
   "execution_count": 51,
   "id": "c7799d4c-4879-4341-b354-29c77777213b",
   "metadata": {},
   "outputs": [
    {
     "data": {
      "text/plain": [
       "[]"
      ]
     },
     "execution_count": 51,
     "metadata": {},
     "output_type": "execute_result"
    }
   ],
   "source": [
    "inputList"
   ]
  },
  {
   "cell_type": "code",
   "execution_count": 52,
   "id": "629284f5-582f-4a66-a7cd-a3a95f0e7091",
   "metadata": {},
   "outputs": [
    {
     "data": {
      "text/plain": [
       "list"
      ]
     },
     "execution_count": 52,
     "metadata": {},
     "output_type": "execute_result"
    }
   ],
   "source": [
    "type(inputList)"
   ]
  },
  {
   "cell_type": "code",
   "execution_count": 53,
   "id": "40768782-6449-476d-9168-64ef0ec2d499",
   "metadata": {},
   "outputs": [
    {
     "data": {
      "text/plain": [
       "0"
      ]
     },
     "execution_count": 53,
     "metadata": {},
     "output_type": "execute_result"
    }
   ],
   "source": [
    "len(inputList)"
   ]
  },
  {
   "cell_type": "code",
   "execution_count": 54,
   "id": "cbfbe11e-3c2f-49f6-803d-a7730cae235e",
   "metadata": {},
   "outputs": [],
   "source": [
    "inputList.append(x)\n",
    "inputList.append(y)\n",
    "inputList.append(z)"
   ]
  },
  {
   "cell_type": "code",
   "execution_count": 55,
   "id": "5abed622-877b-4a18-86e3-54e4877b9c1e",
   "metadata": {},
   "outputs": [
    {
     "data": {
      "text/plain": [
       "['10', '20', '30']"
      ]
     },
     "execution_count": 55,
     "metadata": {},
     "output_type": "execute_result"
    }
   ],
   "source": [
    "inputList"
   ]
  },
  {
   "cell_type": "code",
   "execution_count": 56,
   "id": "414ec6b6-ea8b-49a0-8874-7d84a116beea",
   "metadata": {},
   "outputs": [
    {
     "data": {
      "text/plain": [
       "'20'"
      ]
     },
     "execution_count": 56,
     "metadata": {},
     "output_type": "execute_result"
    }
   ],
   "source": [
    "inputList[1]"
   ]
  },
  {
   "cell_type": "code",
   "execution_count": 57,
   "id": "1f5ab7ab-2ef1-43d9-9ca6-2fc7f0d12a55",
   "metadata": {},
   "outputs": [
    {
     "data": {
      "text/plain": [
       "'2020'"
      ]
     },
     "execution_count": 57,
     "metadata": {},
     "output_type": "execute_result"
    }
   ],
   "source": [
    "inputList[1] * 2"
   ]
  },
  {
   "cell_type": "code",
   "execution_count": 58,
   "id": "75bc1f1e-ac40-420a-930e-dd1c0a724191",
   "metadata": {},
   "outputs": [
    {
     "data": {
      "text/plain": [
       "str"
      ]
     },
     "execution_count": 58,
     "metadata": {},
     "output_type": "execute_result"
    }
   ],
   "source": [
    "type(inputList[1])"
   ]
  },
  {
   "cell_type": "code",
   "execution_count": 59,
   "id": "e25a15dc-c119-404d-8d56-018e9ecf84f9",
   "metadata": {},
   "outputs": [],
   "source": [
    "myInteger = 50"
   ]
  },
  {
   "cell_type": "code",
   "execution_count": 60,
   "id": "9da3398c-a44c-4f0b-b13a-7b3e5b658c5b",
   "metadata": {},
   "outputs": [
    {
     "data": {
      "text/plain": [
       "'50'"
      ]
     },
     "execution_count": 60,
     "metadata": {},
     "output_type": "execute_result"
    }
   ],
   "source": [
    "str(myInteger)"
   ]
  },
  {
   "cell_type": "code",
   "execution_count": 61,
   "id": "257d38b4-0f34-4188-9477-5220bc00a466",
   "metadata": {},
   "outputs": [],
   "source": [
    "myString = \"200\""
   ]
  },
  {
   "cell_type": "code",
   "execution_count": 62,
   "id": "30d4e270-3e14-4c3c-8893-c1b4450865d4",
   "metadata": {},
   "outputs": [
    {
     "data": {
      "text/plain": [
       "200"
      ]
     },
     "execution_count": 62,
     "metadata": {},
     "output_type": "execute_result"
    }
   ],
   "source": [
    "int(myString)"
   ]
  },
  {
   "cell_type": "code",
   "execution_count": 63,
   "id": "5d0603b7-5a59-40ec-a2a7-3c9258a83dcc",
   "metadata": {},
   "outputs": [
    {
     "data": {
      "text/plain": [
       "200.0"
      ]
     },
     "execution_count": 63,
     "metadata": {},
     "output_type": "execute_result"
    }
   ],
   "source": [
    "float(myString)"
   ]
  },
  {
   "cell_type": "code",
   "execution_count": 64,
   "id": "66ef024e-71fa-4c5f-8c9b-b8ae452ccbdc",
   "metadata": {},
   "outputs": [],
   "source": [
    "myString = \"Pyhton\""
   ]
  },
  {
   "cell_type": "code",
   "execution_count": 67,
   "id": "54d866e4-ce2b-4620-a9e2-92881efa52d2",
   "metadata": {},
   "outputs": [],
   "source": [
    "#int(myString) --> hata alınır"
   ]
  },
  {
   "cell_type": "code",
   "execution_count": 68,
   "id": "0e503dcf-d0b1-4e43-8d17-82340aaf1eb7",
   "metadata": {},
   "outputs": [
    {
     "data": {
      "text/plain": [
       "['10', '20', '30']"
      ]
     },
     "execution_count": 68,
     "metadata": {},
     "output_type": "execute_result"
    }
   ],
   "source": [
    "inputList"
   ]
  },
  {
   "cell_type": "code",
   "execution_count": 70,
   "id": "9ffb3fb2-9567-4e62-8153-8d8593ecf42b",
   "metadata": {},
   "outputs": [
    {
     "data": {
      "text/plain": [
       "40"
      ]
     },
     "execution_count": 70,
     "metadata": {},
     "output_type": "execute_result"
    }
   ],
   "source": [
    "int(inputList[1]) * 2"
   ]
  },
  {
   "cell_type": "code",
   "execution_count": 71,
   "id": "4e2e406a-39b4-427c-949f-4f90cf2bf1c2",
   "metadata": {},
   "outputs": [
    {
     "data": {
      "text/plain": [
       "['10', '20', '30']"
      ]
     },
     "execution_count": 71,
     "metadata": {},
     "output_type": "execute_result"
    }
   ],
   "source": [
    "inputList"
   ]
  },
  {
   "cell_type": "code",
   "execution_count": 72,
   "id": "d31f21f8-5070-49a9-9200-0dfb52b1d091",
   "metadata": {},
   "outputs": [
    {
     "data": {
      "text/plain": [
       "\"['10', '20', '30']\""
      ]
     },
     "execution_count": 72,
     "metadata": {},
     "output_type": "execute_result"
    }
   ],
   "source": [
    "str(inputList)"
   ]
  },
  {
   "cell_type": "code",
   "execution_count": 73,
   "id": "7fd6ee87-f9ca-4aa8-bb9f-75fcc8b5f905",
   "metadata": {},
   "outputs": [],
   "source": [
    "nameList = [\"atıl\",\"yiğit\",\"a\",\"b\"]"
   ]
  },
  {
   "cell_type": "code",
   "execution_count": 74,
   "id": "505ae3df-c763-48b9-8f82-7be6e7ec0376",
   "metadata": {},
   "outputs": [
    {
     "data": {
      "text/plain": [
       "list"
      ]
     },
     "execution_count": 74,
     "metadata": {},
     "output_type": "execute_result"
    }
   ],
   "source": [
    "type(nameList)"
   ]
  },
  {
   "cell_type": "code",
   "execution_count": 75,
   "id": "fd31a35a-0942-475d-ac03-3d8c6141d3ec",
   "metadata": {},
   "outputs": [],
   "source": [
    "floatList = [3.14,2.5,25.0]"
   ]
  },
  {
   "cell_type": "code",
   "execution_count": 76,
   "id": "e248aafc-ad95-4ad6-8752-234dca5e8a3c",
   "metadata": {},
   "outputs": [
    {
     "data": {
      "text/plain": [
       "list"
      ]
     },
     "execution_count": 76,
     "metadata": {},
     "output_type": "execute_result"
    }
   ],
   "source": [
    "type(floatList)"
   ]
  },
  {
   "cell_type": "code",
   "execution_count": 77,
   "id": "028d77c0-c28b-4572-8fa2-7ec38a77c1a9",
   "metadata": {},
   "outputs": [],
   "source": [
    "mixedList = [\"atil\",100,3.14]"
   ]
  },
  {
   "cell_type": "code",
   "execution_count": 78,
   "id": "253f5b77-e141-47f5-8cc1-ad63948519e8",
   "metadata": {},
   "outputs": [
    {
     "data": {
      "text/plain": [
       "list"
      ]
     },
     "execution_count": 78,
     "metadata": {},
     "output_type": "execute_result"
    }
   ],
   "source": [
    "type(mixedList)"
   ]
  },
  {
   "cell_type": "code",
   "execution_count": 79,
   "id": "378bc37e-7587-4ef5-9fb1-6ea468ac1ce3",
   "metadata": {},
   "outputs": [],
   "source": [
    "list1 = [10,20,30]\n",
    "list2 = [40,50,60]"
   ]
  },
  {
   "cell_type": "code",
   "execution_count": 81,
   "id": "5cac4abf-788e-4448-bc6f-30d3b801dd3c",
   "metadata": {},
   "outputs": [
    {
     "data": {
      "text/plain": [
       "[10, 20, 30, 40, 50, 60]"
      ]
     },
     "execution_count": 81,
     "metadata": {},
     "output_type": "execute_result"
    }
   ],
   "source": [
    "list1 + list2"
   ]
  },
  {
   "cell_type": "code",
   "execution_count": 83,
   "id": "94ee25ea-5e38-457c-af80-b0a14a537a12",
   "metadata": {},
   "outputs": [
    {
     "data": {
      "text/plain": [
       "[10, 20, 30, 10, 20, 30]"
      ]
     },
     "execution_count": 83,
     "metadata": {},
     "output_type": "execute_result"
    }
   ],
   "source": [
    "list1 * 2"
   ]
  },
  {
   "cell_type": "code",
   "execution_count": 85,
   "id": "f6ba8c2f-7560-4bb4-932b-f7d310db1a94",
   "metadata": {},
   "outputs": [],
   "source": [
    "#list1/5"
   ]
  },
  {
   "cell_type": "code",
   "execution_count": 86,
   "id": "1f62b895-6faf-4739-8af1-17fc90e36d28",
   "metadata": {},
   "outputs": [
    {
     "data": {
      "text/plain": [
       "['atil', 100, 3.14]"
      ]
     },
     "execution_count": 86,
     "metadata": {},
     "output_type": "execute_result"
    }
   ],
   "source": [
    "mixedList"
   ]
  },
  {
   "cell_type": "code",
   "execution_count": 88,
   "id": "b1bb6389-9e5b-41b3-bf00-dd9f24e07ec5",
   "metadata": {},
   "outputs": [
    {
     "data": {
      "text/plain": [
       "str"
      ]
     },
     "execution_count": 88,
     "metadata": {},
     "output_type": "execute_result"
    }
   ],
   "source": [
    "type(mixedList[0])"
   ]
  },
  {
   "cell_type": "code",
   "execution_count": 89,
   "id": "0e5504c5-9663-4935-bf10-194ef1bb1483",
   "metadata": {},
   "outputs": [
    {
     "data": {
      "text/plain": [
       "int"
      ]
     },
     "execution_count": 89,
     "metadata": {},
     "output_type": "execute_result"
    }
   ],
   "source": [
    "type(mixedList[1])"
   ]
  },
  {
   "cell_type": "code",
   "execution_count": 90,
   "id": "b1dde6e5-7ee3-467f-9118-3d85f8b445ad",
   "metadata": {},
   "outputs": [],
   "source": [
    "#nestedList --> iç içe geçmiş listeler"
   ]
  },
  {
   "cell_type": "code",
   "execution_count": 92,
   "id": "e481c3ff-d417-4e44-b6c9-77317559526d",
   "metadata": {},
   "outputs": [],
   "source": [
    "myNestedList = [10,20,3.14,\"yiğit\",[1,2,3,4,5]]"
   ]
  },
  {
   "cell_type": "code",
   "execution_count": 93,
   "id": "3244524e-7311-409a-ad78-4014eecfb598",
   "metadata": {},
   "outputs": [
    {
     "data": {
      "text/plain": [
       "10"
      ]
     },
     "execution_count": 93,
     "metadata": {},
     "output_type": "execute_result"
    }
   ],
   "source": [
    "myNestedList[0]"
   ]
  },
  {
   "cell_type": "code",
   "execution_count": 94,
   "id": "a90f2a2e-453b-4a64-a015-bd106063eea4",
   "metadata": {},
   "outputs": [
    {
     "data": {
      "text/plain": [
       "20"
      ]
     },
     "execution_count": 94,
     "metadata": {},
     "output_type": "execute_result"
    }
   ],
   "source": [
    "myNestedList[1]"
   ]
  },
  {
   "cell_type": "code",
   "execution_count": 95,
   "id": "41673a8d-f9f8-48df-862b-2a8fec5a2681",
   "metadata": {},
   "outputs": [
    {
     "data": {
      "text/plain": [
       "3.14"
      ]
     },
     "execution_count": 95,
     "metadata": {},
     "output_type": "execute_result"
    }
   ],
   "source": [
    "myNestedList[2]"
   ]
  },
  {
   "cell_type": "code",
   "execution_count": 96,
   "id": "d628c228-c538-4d81-b18c-7501343098e3",
   "metadata": {},
   "outputs": [
    {
     "data": {
      "text/plain": [
       "'yiğit'"
      ]
     },
     "execution_count": 96,
     "metadata": {},
     "output_type": "execute_result"
    }
   ],
   "source": [
    "myNestedList[3]"
   ]
  },
  {
   "cell_type": "code",
   "execution_count": 97,
   "id": "f920d3ae-eea7-4494-bcc6-441f2683a038",
   "metadata": {},
   "outputs": [
    {
     "data": {
      "text/plain": [
       "[1, 2, 3, 4, 5]"
      ]
     },
     "execution_count": 97,
     "metadata": {},
     "output_type": "execute_result"
    }
   ],
   "source": [
    "myNestedList[4]"
   ]
  },
  {
   "cell_type": "code",
   "execution_count": 101,
   "id": "c68021c6-a584-47f7-acb8-fb744faf0452",
   "metadata": {},
   "outputs": [],
   "source": [
    "x = myNestedList[0]"
   ]
  },
  {
   "cell_type": "code",
   "execution_count": 100,
   "id": "858048a8-6be1-4e0a-ad44-6eac18567e55",
   "metadata": {},
   "outputs": [
    {
     "data": {
      "text/plain": [
       "list"
      ]
     },
     "execution_count": 100,
     "metadata": {},
     "output_type": "execute_result"
    }
   ],
   "source": [
    "type(x)"
   ]
  },
  {
   "cell_type": "code",
   "execution_count": 102,
   "id": "fea96829-ad58-448d-a4a6-90e938f25b37",
   "metadata": {},
   "outputs": [
    {
     "data": {
      "text/plain": [
       "10"
      ]
     },
     "execution_count": 102,
     "metadata": {},
     "output_type": "execute_result"
    }
   ],
   "source": [
    "x"
   ]
  },
  {
   "cell_type": "code",
   "execution_count": 103,
   "id": "64854572-6aa5-4218-b50a-78172a69c9bb",
   "metadata": {},
   "outputs": [],
   "source": [
    "smallList = myNestedList[4]"
   ]
  },
  {
   "cell_type": "code",
   "execution_count": 104,
   "id": "11394c4e-7d6e-4685-bf8a-f07588eee531",
   "metadata": {},
   "outputs": [
    {
     "data": {
      "text/plain": [
       "[1, 2, 3, 4, 5]"
      ]
     },
     "execution_count": 104,
     "metadata": {},
     "output_type": "execute_result"
    }
   ],
   "source": [
    "smallList"
   ]
  },
  {
   "cell_type": "code",
   "execution_count": 105,
   "id": "1e6eceff-e923-47c2-b408-9c7a1a302447",
   "metadata": {},
   "outputs": [
    {
     "data": {
      "text/plain": [
       "[10, 20, 3.14, 'yiğit', [1, 2, 3, 4, 5]]"
      ]
     },
     "execution_count": 105,
     "metadata": {},
     "output_type": "execute_result"
    }
   ],
   "source": [
    "myNestedList"
   ]
  },
  {
   "cell_type": "code",
   "execution_count": 106,
   "id": "d23b4f78-cc6b-4e94-93b8-a66bb49e2685",
   "metadata": {},
   "outputs": [
    {
     "data": {
      "text/plain": [
       "3"
      ]
     },
     "execution_count": 106,
     "metadata": {},
     "output_type": "execute_result"
    }
   ],
   "source": [
    "myNestedList[4][2]"
   ]
  },
  {
   "cell_type": "code",
   "execution_count": 107,
   "id": "b3f333c8-249b-475e-a071-820dce96b21f",
   "metadata": {},
   "outputs": [],
   "source": [
    "lastList = [\"a\",\"b\",[\"c,d,e\"],\"f\"]"
   ]
  },
  {
   "cell_type": "code",
   "execution_count": 108,
   "id": "83b72c49-a2fe-44ec-bcf4-40b4d5b4aa6d",
   "metadata": {},
   "outputs": [
    {
     "data": {
      "text/plain": [
       "['a', 'b', ['c,d,e'], 'f']"
      ]
     },
     "execution_count": 108,
     "metadata": {},
     "output_type": "execute_result"
    }
   ],
   "source": [
    "lastList"
   ]
  },
  {
   "cell_type": "code",
   "execution_count": 109,
   "id": "8b5e22a8-59d6-4cee-9304-0569a7a722dd",
   "metadata": {},
   "outputs": [
    {
     "data": {
      "text/plain": [
       "4"
      ]
     },
     "execution_count": 109,
     "metadata": {},
     "output_type": "execute_result"
    }
   ],
   "source": [
    "len(lastList)"
   ]
  },
  {
   "cell_type": "code",
   "execution_count": 110,
   "id": "3363bbbf-342f-4152-be6a-66402b4bfad0",
   "metadata": {},
   "outputs": [],
   "source": [
    "firstList = [10,20,30,40,50,60,70]"
   ]
  },
  {
   "cell_type": "code",
   "execution_count": 113,
   "id": "252e2392-452a-40b6-a210-980591b69c25",
   "metadata": {},
   "outputs": [
    {
     "data": {
      "text/plain": [
       "[30, 40, 50, 60, 70]"
      ]
     },
     "execution_count": 113,
     "metadata": {},
     "output_type": "execute_result"
    }
   ],
   "source": [
    "firstList[2::]"
   ]
  },
  {
   "cell_type": "code",
   "execution_count": 114,
   "id": "cd48c02b-167b-423b-b720-2f14eb15687f",
   "metadata": {},
   "outputs": [
    {
     "data": {
      "text/plain": [
       "[10, 20, 30, 40, 50]"
      ]
     },
     "execution_count": 114,
     "metadata": {},
     "output_type": "execute_result"
    }
   ],
   "source": [
    "firstList[:5:]"
   ]
  },
  {
   "cell_type": "code",
   "execution_count": 115,
   "id": "2d11c013-cdbd-43c2-b638-bc6fa606b488",
   "metadata": {},
   "outputs": [
    {
     "data": {
      "text/plain": [
       "[10, 30, 50, 70]"
      ]
     },
     "execution_count": 115,
     "metadata": {},
     "output_type": "execute_result"
    }
   ],
   "source": [
    "firstList[::2]"
   ]
  },
  {
   "cell_type": "code",
   "execution_count": 116,
   "id": "1e85e426-c366-4526-93e7-3f0d441814da",
   "metadata": {},
   "outputs": [
    {
     "data": {
      "text/plain": [
       "[20, 40, 60]"
      ]
     },
     "execution_count": 116,
     "metadata": {},
     "output_type": "execute_result"
    }
   ],
   "source": [
    "firstList[1:6:2]"
   ]
  },
  {
   "cell_type": "code",
   "execution_count": null,
   "id": "e4003208-187e-43c9-acc3-fc19b30b5cf8",
   "metadata": {},
   "outputs": [],
   "source": []
  }
 ],
 "metadata": {
  "kernelspec": {
   "display_name": "Python 3 (ipykernel)",
   "language": "python",
   "name": "python3"
  },
  "language_info": {
   "codemirror_mode": {
    "name": "ipython",
    "version": 3
   },
   "file_extension": ".py",
   "mimetype": "text/x-python",
   "name": "python",
   "nbconvert_exporter": "python",
   "pygments_lexer": "ipython3",
   "version": "3.12.7"
  }
 },
 "nbformat": 4,
 "nbformat_minor": 5
}
