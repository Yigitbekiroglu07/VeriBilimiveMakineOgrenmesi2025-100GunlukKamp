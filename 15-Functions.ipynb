{
 "cells": [
  {
   "cell_type": "code",
   "execution_count": 1,
   "id": "c7a3d595-2c96-45da-a577-c34d516ea721",
   "metadata": {},
   "outputs": [],
   "source": [
    "# method vs functions"
   ]
  },
  {
   "cell_type": "code",
   "execution_count": 2,
   "id": "7bcc142a-f79a-4b0a-9326-b317cd3a1be6",
   "metadata": {},
   "outputs": [],
   "source": [
    "my_name = \"yiğit\""
   ]
  },
  {
   "cell_type": "code",
   "execution_count": 3,
   "id": "3fba5f54-9314-433a-866e-c8f4d03795d6",
   "metadata": {},
   "outputs": [
    {
     "data": {
      "text/plain": [
       "'YIĞIT'"
      ]
     },
     "execution_count": 3,
     "metadata": {},
     "output_type": "execute_result"
    }
   ],
   "source": [
    "my_name.upper()"
   ]
  },
  {
   "cell_type": "code",
   "execution_count": 4,
   "id": "a1ee188b-ee78-4484-846b-953d57a37272",
   "metadata": {},
   "outputs": [
    {
     "data": {
      "text/plain": [
       "'yiğit'"
      ]
     },
     "execution_count": 4,
     "metadata": {},
     "output_type": "execute_result"
    }
   ],
   "source": [
    "my_name"
   ]
  },
  {
   "cell_type": "code",
   "execution_count": 5,
   "id": "5cc02ea9-f658-4281-b55b-4c1f560da3dc",
   "metadata": {},
   "outputs": [],
   "source": [
    "my_name_upper = my_name.upper()"
   ]
  },
  {
   "cell_type": "code",
   "execution_count": 6,
   "id": "673bcd86-a929-4fed-920d-86c4dc1f9b9a",
   "metadata": {},
   "outputs": [
    {
     "data": {
      "text/plain": [
       "'YIĞIT'"
      ]
     },
     "execution_count": 6,
     "metadata": {},
     "output_type": "execute_result"
    }
   ],
   "source": [
    "my_name_upper"
   ]
  },
  {
   "cell_type": "code",
   "execution_count": 7,
   "id": "c02cf4d6-8b04-4ffe-87d5-d004d879f8a9",
   "metadata": {},
   "outputs": [
    {
     "data": {
      "text/plain": [
       "'yiğit'"
      ]
     },
     "execution_count": 7,
     "metadata": {},
     "output_type": "execute_result"
    }
   ],
   "source": [
    "my_name"
   ]
  },
  {
   "cell_type": "code",
   "execution_count": 9,
   "id": "a23a59a1-dee9-481d-969c-fa3314a8ca4f",
   "metadata": {},
   "outputs": [
    {
     "name": "stdout",
     "output_type": "stream",
     "text": [
      "Help on built-in function upper:\n",
      "\n",
      "upper() method of builtins.str instance\n",
      "    Return a copy of the string converted to uppercase.\n",
      "\n"
     ]
    }
   ],
   "source": [
    "help(my_name.upper)"
   ]
  },
  {
   "cell_type": "code",
   "execution_count": 10,
   "id": "70ffb111-9ab5-431e-b8a7-e5ffbf76b4fa",
   "metadata": {},
   "outputs": [],
   "source": [
    "#functions"
   ]
  },
  {
   "cell_type": "code",
   "execution_count": 11,
   "id": "ed8c0c31-dfac-45d2-9981-3bfa8ae601fd",
   "metadata": {},
   "outputs": [],
   "source": [
    "def hello_python():\n",
    "    print(\"hello\")\n",
    "    print(\"python\")"
   ]
  },
  {
   "cell_type": "code",
   "execution_count": 12,
   "id": "2c589912-7d01-4a96-aeb5-4b7b6adc830b",
   "metadata": {},
   "outputs": [
    {
     "data": {
      "text/plain": [
       "<function __main__.hello_python()>"
      ]
     },
     "execution_count": 12,
     "metadata": {},
     "output_type": "execute_result"
    }
   ],
   "source": [
    "hello_python"
   ]
  },
  {
   "cell_type": "code",
   "execution_count": 13,
   "id": "dab32b7a-d324-444a-982f-71b14600d643",
   "metadata": {},
   "outputs": [
    {
     "name": "stdout",
     "output_type": "stream",
     "text": [
      "hello\n",
      "python\n"
     ]
    }
   ],
   "source": [
    "hello_python()"
   ]
  },
  {
   "cell_type": "code",
   "execution_count": 14,
   "id": "1892f7c7-e5b5-4723-8ded-0d453446bd55",
   "metadata": {},
   "outputs": [],
   "source": [
    "#input"
   ]
  },
  {
   "cell_type": "code",
   "execution_count": 15,
   "id": "c3f8be77-886f-44b1-bab9-0ff7260cf9b1",
   "metadata": {},
   "outputs": [],
   "source": [
    "def hello_name(name):\n",
    "    print(\"merhaba\")\n",
    "    print(name)"
   ]
  },
  {
   "cell_type": "code",
   "execution_count": 16,
   "id": "8b885c6a-b5ba-44b4-a50c-9e73fe05e71a",
   "metadata": {},
   "outputs": [
    {
     "name": "stdout",
     "output_type": "stream",
     "text": [
      "merhaba\n",
      "yiğit\n"
     ]
    }
   ],
   "source": [
    "hello_name(\"yiğit\")"
   ]
  },
  {
   "cell_type": "code",
   "execution_count": 17,
   "id": "31b51a86-1e3a-4b98-bd08-7f598225804b",
   "metadata": {},
   "outputs": [
    {
     "name": "stdout",
     "output_type": "stream",
     "text": [
      "merhaba\n",
      "python\n"
     ]
    }
   ],
   "source": [
    "hello_name(\"python\")"
   ]
  },
  {
   "cell_type": "code",
   "execution_count": 18,
   "id": "95ea8b82-150b-4fea-9a88-16270d6cec8e",
   "metadata": {},
   "outputs": [],
   "source": [
    "def sum_example(sum1,sum2):\n",
    "    print(sum1 + sum2)"
   ]
  },
  {
   "cell_type": "code",
   "execution_count": 19,
   "id": "f5ba2fcb-fa86-49f5-9901-39b9075190ad",
   "metadata": {},
   "outputs": [
    {
     "name": "stdout",
     "output_type": "stream",
     "text": [
      "15\n"
     ]
    }
   ],
   "source": [
    "sum_example(5,10)"
   ]
  },
  {
   "cell_type": "code",
   "execution_count": 29,
   "id": "57c32c3a-fc2d-4239-b417-ba0731c79226",
   "metadata": {},
   "outputs": [],
   "source": [
    "def my_surname(surname = \"bekiroğlu\"):\n",
    "    print(\"hello\")\n",
    "    print(surname)"
   ]
  },
  {
   "cell_type": "code",
   "execution_count": 30,
   "id": "c78cb110-f938-418c-9065-da901ed0391b",
   "metadata": {},
   "outputs": [
    {
     "name": "stdout",
     "output_type": "stream",
     "text": [
      "hello\n",
      "mutlu\n"
     ]
    }
   ],
   "source": [
    "my_surname(\"mutlu\")"
   ]
  },
  {
   "cell_type": "code",
   "execution_count": 31,
   "id": "0a432d8b-b5fb-42af-b3a7-393c851461fd",
   "metadata": {},
   "outputs": [
    {
     "name": "stdout",
     "output_type": "stream",
     "text": [
      "hello\n",
      "bekiroğlu\n"
     ]
    }
   ],
   "source": [
    "my_surname()"
   ]
  },
  {
   "cell_type": "code",
   "execution_count": 32,
   "id": "9864d924-a309-44b3-9607-fc97103396d8",
   "metadata": {},
   "outputs": [],
   "source": [
    "#output"
   ]
  },
  {
   "cell_type": "code",
   "execution_count": 34,
   "id": "0f87c94c-c480-4179-b149-c06273e33b83",
   "metadata": {},
   "outputs": [],
   "source": [
    "def summation(sum1,sum2,sum3):\n",
    "    print(sum1 + sum2 + sum3)"
   ]
  },
  {
   "cell_type": "code",
   "execution_count": 35,
   "id": "5f6ea2f1-ca54-46ee-9a2f-277f785f864c",
   "metadata": {},
   "outputs": [
    {
     "name": "stdout",
     "output_type": "stream",
     "text": [
      "14\n"
     ]
    }
   ],
   "source": [
    "summation(2,5,7)"
   ]
  },
  {
   "cell_type": "code",
   "execution_count": 36,
   "id": "409d220b-10f0-45e8-846f-b13db7de030f",
   "metadata": {},
   "outputs": [
    {
     "name": "stdout",
     "output_type": "stream",
     "text": [
      "14\n"
     ]
    }
   ],
   "source": [
    "x = summation(2,5,7)"
   ]
  },
  {
   "cell_type": "code",
   "execution_count": 37,
   "id": "2fb6805f-9513-4bce-b10c-a8c12c4072de",
   "metadata": {},
   "outputs": [],
   "source": [
    "x"
   ]
  },
  {
   "cell_type": "code",
   "execution_count": 38,
   "id": "f3ecd5bf-0ca0-475b-a399-1b39c9429b9c",
   "metadata": {},
   "outputs": [
    {
     "name": "stdout",
     "output_type": "stream",
     "text": [
      "None\n"
     ]
    }
   ],
   "source": [
    "print(x)"
   ]
  },
  {
   "cell_type": "code",
   "execution_count": 39,
   "id": "d23b0ccd-79c2-4e5f-aa32-3cc4f6be458f",
   "metadata": {},
   "outputs": [
    {
     "data": {
      "text/plain": [
       "NoneType"
      ]
     },
     "execution_count": 39,
     "metadata": {},
     "output_type": "execute_result"
    }
   ],
   "source": [
    "type(x)"
   ]
  },
  {
   "cell_type": "code",
   "execution_count": 40,
   "id": "e37f4bd5-e585-439c-80ab-a1160268735d",
   "metadata": {},
   "outputs": [],
   "source": [
    "def return_summation(sum1,sum2,sum3):\n",
    "    return sum1 + sum2 + sum3"
   ]
  },
  {
   "cell_type": "code",
   "execution_count": 41,
   "id": "6b613afd-42f1-4a23-845e-32b5784448c1",
   "metadata": {},
   "outputs": [
    {
     "data": {
      "text/plain": [
       "60"
      ]
     },
     "execution_count": 41,
     "metadata": {},
     "output_type": "execute_result"
    }
   ],
   "source": [
    "return_summation(10,20,30)"
   ]
  },
  {
   "cell_type": "code",
   "execution_count": 42,
   "id": "7b561e3a-8838-4b6c-9c01-34fbb17efb65",
   "metadata": {},
   "outputs": [],
   "source": [
    "x = return_summation(10,20,30)"
   ]
  },
  {
   "cell_type": "code",
   "execution_count": 43,
   "id": "632be8a6-29b1-4990-9175-7011ccf13a6b",
   "metadata": {},
   "outputs": [
    {
     "data": {
      "text/plain": [
       "60"
      ]
     },
     "execution_count": 43,
     "metadata": {},
     "output_type": "execute_result"
    }
   ],
   "source": [
    "x"
   ]
  },
  {
   "cell_type": "code",
   "execution_count": 45,
   "id": "015bc764-7b7c-4e4a-bf15-aba0d7f500d8",
   "metadata": {},
   "outputs": [],
   "source": [
    "def control_string(s):\n",
    "    if s[0] == \"a\":\n",
    "        print(\"a\")"
   ]
  },
  {
   "cell_type": "code",
   "execution_count": 46,
   "id": "aa4f0661-511a-4013-a159-ab39d20095f2",
   "metadata": {},
   "outputs": [
    {
     "name": "stdout",
     "output_type": "stream",
     "text": [
      "a\n"
     ]
    }
   ],
   "source": [
    "control_string(\"ahmet\")"
   ]
  },
  {
   "cell_type": "code",
   "execution_count": 47,
   "id": "69586cba-1529-4edb-a753-7ab20ef3c7c6",
   "metadata": {},
   "outputs": [],
   "source": [
    "control_string(\"mehmet\")"
   ]
  },
  {
   "cell_type": "code",
   "execution_count": 48,
   "id": "b6212633-f5c9-4646-93dc-b4cbde0db122",
   "metadata": {},
   "outputs": [],
   "source": [
    "#args, kwargs (arguments, key words arguments)"
   ]
  },
  {
   "cell_type": "code",
   "execution_count": 52,
   "id": "44d14436-d795-4b47-80fe-ef10a940d890",
   "metadata": {},
   "outputs": [],
   "source": [
    "def args_sum(*args):\n",
    "    return sum(args)"
   ]
  },
  {
   "cell_type": "code",
   "execution_count": 53,
   "id": "415ef687-40d1-4ca6-8325-456181f49185",
   "metadata": {},
   "outputs": [
    {
     "data": {
      "text/plain": [
       "210"
      ]
     },
     "execution_count": 53,
     "metadata": {},
     "output_type": "execute_result"
    }
   ],
   "source": [
    "args_sum(10,20,30,40,50,60)"
   ]
  },
  {
   "cell_type": "code",
   "execution_count": 54,
   "id": "4c0a5af1-20d0-4d2a-8a39-79f67d9f2fce",
   "metadata": {},
   "outputs": [],
   "source": [
    "def kwargs_example(**kwargs):\n",
    "    print(kwargs)"
   ]
  },
  {
   "cell_type": "code",
   "execution_count": 55,
   "id": "8455a412-08ad-4fd2-9803-4e7241bf6259",
   "metadata": {},
   "outputs": [
    {
     "name": "stdout",
     "output_type": "stream",
     "text": [
      "{'apple': 100, 'banana': 150, 'melon': 200}\n"
     ]
    }
   ],
   "source": [
    "kwargs_example(apple=100,banana=150,melon=200)"
   ]
  },
  {
   "cell_type": "code",
   "execution_count": 69,
   "id": "c286eefa-a6f9-4890-ba0e-7d2b6332d6ae",
   "metadata": {},
   "outputs": [],
   "source": [
    "def kwargs_example2(**kwargs):\n",
    "    if \"apple\" in kwargs:\n",
    "        print(\"elma vardır.\")\n",
    "    else:\n",
    "        print(\":(\")"
   ]
  },
  {
   "cell_type": "code",
   "execution_count": 70,
   "id": "3f8092d9-14a6-4da2-8e70-dc1a0975e90e",
   "metadata": {},
   "outputs": [
    {
     "name": "stdout",
     "output_type": "stream",
     "text": [
      "elma vardır.\n"
     ]
    }
   ],
   "source": [
    "kwargs_example2(apple = 100, banana = 300, melon = 400)"
   ]
  },
  {
   "cell_type": "code",
   "execution_count": 71,
   "id": "3d5145a8-3860-43cd-a395-a70430466b46",
   "metadata": {},
   "outputs": [
    {
     "name": "stdout",
     "output_type": "stream",
     "text": [
      ":(\n"
     ]
    }
   ],
   "source": [
    "kwargs_example2(banana = 400, melon = 500)"
   ]
  },
  {
   "cell_type": "code",
   "execution_count": null,
   "id": "7f896369-4c4a-413b-8c52-17b9efb3784d",
   "metadata": {},
   "outputs": [],
   "source": []
  }
 ],
 "metadata": {
  "kernelspec": {
   "display_name": "Python 3 (ipykernel)",
   "language": "python",
   "name": "python3"
  },
  "language_info": {
   "codemirror_mode": {
    "name": "ipython",
    "version": 3
   },
   "file_extension": ".py",
   "mimetype": "text/x-python",
   "name": "python",
   "nbconvert_exporter": "python",
   "pygments_lexer": "ipython3",
   "version": "3.12.7"
  }
 },
 "nbformat": 4,
 "nbformat_minor": 5
}
