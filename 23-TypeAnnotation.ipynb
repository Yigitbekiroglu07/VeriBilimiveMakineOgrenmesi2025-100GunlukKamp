{
 "cells": [
  {
   "cell_type": "code",
   "execution_count": 3,
   "id": "8574dff5-ecb7-4832-b799-835f11799214",
   "metadata": {},
   "outputs": [],
   "source": [
    "name: str = \"yiğit\"\n",
    "age : int = 23\n",
    "is_student: bool = True"
   ]
  },
  {
   "cell_type": "code",
   "execution_count": 4,
   "id": "002bd8ae-53f1-42c1-ba8d-eef884e0cd7a",
   "metadata": {},
   "outputs": [],
   "source": [
    "def addNumbers(a: int, b: int)-> int:\n",
    "    return a + b"
   ]
  },
  {
   "cell_type": "code",
   "execution_count": 5,
   "id": "b5b4d725-daee-4c6d-8e81-356c7613c6d9",
   "metadata": {},
   "outputs": [
    {
     "data": {
      "text/plain": [
       "9"
      ]
     },
     "execution_count": 5,
     "metadata": {},
     "output_type": "execute_result"
    }
   ],
   "source": [
    "addNumbers(4,5)"
   ]
  },
  {
   "cell_type": "code",
   "execution_count": 13,
   "id": "7298153f-9296-4a8a-addc-974a3683eb86",
   "metadata": {},
   "outputs": [],
   "source": [
    "# python 3.10\n",
    "def processValue(value: int | str) -> str:\n",
    "    if isinstance(value, int):\n",
    "        return f\"processed integer {value}\"\n",
    "    else:\n",
    "        return f\"processed string {value}\""
   ]
  },
  {
   "cell_type": "code",
   "execution_count": 14,
   "id": "6a067c10-461f-48b2-bd14-f976f7c41087",
   "metadata": {},
   "outputs": [
    {
     "data": {
      "text/plain": [
       "'processed integer 50'"
      ]
     },
     "execution_count": 14,
     "metadata": {},
     "output_type": "execute_result"
    }
   ],
   "source": [
    "processValue(50)"
   ]
  },
  {
   "cell_type": "code",
   "execution_count": 15,
   "id": "f4520612-d642-474b-a587-35dcde70a988",
   "metadata": {},
   "outputs": [
    {
     "data": {
      "text/plain": [
       "'processed string asd'"
      ]
     },
     "execution_count": 15,
     "metadata": {},
     "output_type": "execute_result"
    }
   ],
   "source": [
    "processValue(\"asd\")"
   ]
  },
  {
   "cell_type": "code",
   "execution_count": 16,
   "id": "cc3c7d54-e2bd-4aad-9e89-f19c1b0c2e38",
   "metadata": {},
   "outputs": [
    {
     "data": {
      "text/plain": [
       "'processed string [10, 20, 30]'"
      ]
     },
     "execution_count": 16,
     "metadata": {},
     "output_type": "execute_result"
    }
   ],
   "source": [
    "processValue([10,20,30])"
   ]
  },
  {
   "cell_type": "code",
   "execution_count": 20,
   "id": "594c6dd8-3bdf-4c06-823e-8b6fef624733",
   "metadata": {},
   "outputs": [],
   "source": [
    "# python 3.9\n",
    "from typing import List\n",
    "\n",
    "def sum_list(numbers: List[int]) -> int:\n",
    "    return sum(numbers)"
   ]
  },
  {
   "cell_type": "code",
   "execution_count": 24,
   "id": "bdef6403-7177-4217-bd7e-2177d5938a61",
   "metadata": {},
   "outputs": [],
   "source": [
    "numbers = [1,2,3,4]\n",
    "total =sum_list(numbers)"
   ]
  },
  {
   "cell_type": "code",
   "execution_count": 25,
   "id": "ea92753e-fd1b-4454-bc70-4cde13966b07",
   "metadata": {},
   "outputs": [
    {
     "data": {
      "text/plain": [
       "10"
      ]
     },
     "execution_count": 25,
     "metadata": {},
     "output_type": "execute_result"
    }
   ],
   "source": [
    "total"
   ]
  }
 ],
 "metadata": {
  "kernelspec": {
   "display_name": "Python 3 (ipykernel)",
   "language": "python",
   "name": "python3"
  },
  "language_info": {
   "codemirror_mode": {
    "name": "ipython",
    "version": 3
   },
   "file_extension": ".py",
   "mimetype": "text/x-python",
   "name": "python",
   "nbconvert_exporter": "python",
   "pygments_lexer": "ipython3",
   "version": "3.12.7"
  }
 },
 "nbformat": 4,
 "nbformat_minor": 5
}
