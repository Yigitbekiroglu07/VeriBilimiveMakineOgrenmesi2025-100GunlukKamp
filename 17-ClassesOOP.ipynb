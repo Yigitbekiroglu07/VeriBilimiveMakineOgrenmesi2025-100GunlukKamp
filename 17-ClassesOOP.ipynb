{
 "cells": [
  {
   "cell_type": "code",
   "execution_count": 53,
   "id": "125e26e9-2a01-4b0a-b007-539844edcd15",
   "metadata": {},
   "outputs": [],
   "source": [
    "class Person():\n",
    "    #Property\n",
    "    #name = \"\"\n",
    "    #age = 0\n",
    "    #gender = \"\"\n",
    "    job = \"developer\"\n",
    "    # initializer method\n",
    "    def __init__(self,name,age,gender):\n",
    "        self.name = name\n",
    "        self.age = age\n",
    "        self.gender = gender\n",
    "    #method\n",
    "    def printName(self):\n",
    "        print(self.name)"
   ]
  },
  {
   "cell_type": "code",
   "execution_count": 54,
   "id": "9ecef863-1f6c-41d2-b148-cb96f7fdbfc9",
   "metadata": {},
   "outputs": [],
   "source": [
    "yigit = Person(\"yiğit\",23,\"male\");"
   ]
  },
  {
   "cell_type": "code",
   "execution_count": 55,
   "id": "7951b9a7-70d8-4d06-8f9b-79a7d6c0f822",
   "metadata": {},
   "outputs": [
    {
     "data": {
      "text/plain": [
       "'yiğit'"
      ]
     },
     "execution_count": 55,
     "metadata": {},
     "output_type": "execute_result"
    }
   ],
   "source": [
    "yigit.name"
   ]
  },
  {
   "cell_type": "code",
   "execution_count": 56,
   "id": "adf5365e-e081-4606-b565-26ccca956dc5",
   "metadata": {},
   "outputs": [
    {
     "data": {
      "text/plain": [
       "23"
      ]
     },
     "execution_count": 56,
     "metadata": {},
     "output_type": "execute_result"
    }
   ],
   "source": [
    "yigit.age"
   ]
  },
  {
   "cell_type": "code",
   "execution_count": 57,
   "id": "ab1ba7a8-f96e-4297-953f-07090baf3e97",
   "metadata": {},
   "outputs": [
    {
     "data": {
      "text/plain": [
       "'male'"
      ]
     },
     "execution_count": 57,
     "metadata": {},
     "output_type": "execute_result"
    }
   ],
   "source": [
    "yigit.gender"
   ]
  },
  {
   "cell_type": "code",
   "execution_count": 58,
   "id": "094e5e6e-e2f1-41c1-8eaa-66c93e063144",
   "metadata": {},
   "outputs": [
    {
     "name": "stdout",
     "output_type": "stream",
     "text": [
      "yiğit\n"
     ]
    }
   ],
   "source": [
    "yigit.printName()"
   ]
  },
  {
   "cell_type": "code",
   "execution_count": 59,
   "id": "3180f8af-4300-406a-8e3f-ad0c802b74d8",
   "metadata": {},
   "outputs": [
    {
     "data": {
      "text/plain": [
       "'developer'"
      ]
     },
     "execution_count": 59,
     "metadata": {},
     "output_type": "execute_result"
    }
   ],
   "source": [
    "yigit.job"
   ]
  },
  {
   "cell_type": "code",
   "execution_count": 60,
   "id": "c27ed913-d2cd-43ac-8585-bc2cb2eab0f7",
   "metadata": {},
   "outputs": [],
   "source": [
    "yigit.job = \"instructor\""
   ]
  },
  {
   "cell_type": "code",
   "execution_count": 61,
   "id": "e12e4893-d661-4561-8f2b-c4560ee67c0b",
   "metadata": {},
   "outputs": [
    {
     "data": {
      "text/plain": [
       "'instructor'"
      ]
     },
     "execution_count": 61,
     "metadata": {},
     "output_type": "execute_result"
    }
   ],
   "source": [
    "yigit.job"
   ]
  },
  {
   "cell_type": "code",
   "execution_count": 106,
   "id": "856c96e3-cbd3-4361-a961-edc86c684eec",
   "metadata": {},
   "outputs": [],
   "source": [
    "class Dog():\n",
    "    year = 7\n",
    "    def __init__(self,age = 5):  # 5 default bir değerdir.\n",
    "        self.age = age \n",
    "        self.dogHumanAge = age * self.year\n",
    "    def humanAge(self):\n",
    "        return self.age * self.year # Dog.year = self.year"
   ]
  },
  {
   "cell_type": "code",
   "execution_count": 100,
   "id": "26a35c9a-89c5-46bc-9c2a-b53d060d3029",
   "metadata": {},
   "outputs": [],
   "source": [
    "myDog = Dog(3)"
   ]
  },
  {
   "cell_type": "code",
   "execution_count": 101,
   "id": "785209d1-e756-4858-ac3f-f3b4e5a8e98d",
   "metadata": {},
   "outputs": [
    {
     "data": {
      "text/plain": [
       "3"
      ]
     },
     "execution_count": 101,
     "metadata": {},
     "output_type": "execute_result"
    }
   ],
   "source": [
    "myDog.age"
   ]
  },
  {
   "cell_type": "code",
   "execution_count": 102,
   "id": "2ed0790a-53ff-4457-82da-7c337954710a",
   "metadata": {},
   "outputs": [
    {
     "data": {
      "text/plain": [
       "21"
      ]
     },
     "execution_count": 102,
     "metadata": {},
     "output_type": "execute_result"
    }
   ],
   "source": [
    "myDog.humanAge()"
   ]
  },
  {
   "cell_type": "code",
   "execution_count": 103,
   "id": "c178d7be-1f89-4864-a864-42031c0207e1",
   "metadata": {},
   "outputs": [
    {
     "data": {
      "text/plain": [
       "21"
      ]
     },
     "execution_count": 103,
     "metadata": {},
     "output_type": "execute_result"
    }
   ],
   "source": [
    "myDog.dogHumanAge"
   ]
  },
  {
   "cell_type": "code",
   "execution_count": 104,
   "id": "748127cd-aa34-4b74-8519-739a28248678",
   "metadata": {},
   "outputs": [],
   "source": [
    "barley = Dog()"
   ]
  },
  {
   "cell_type": "code",
   "execution_count": 105,
   "id": "08147adc-5e96-440d-b556-4956fb8b00cb",
   "metadata": {},
   "outputs": [
    {
     "data": {
      "text/plain": [
       "5"
      ]
     },
     "execution_count": 105,
     "metadata": {},
     "output_type": "execute_result"
    }
   ],
   "source": [
    "barley.age"
   ]
  },
  {
   "cell_type": "code",
   "execution_count": null,
   "id": "1f7a815c-fa03-46f7-9880-7e316425100b",
   "metadata": {},
   "outputs": [],
   "source": []
  }
 ],
 "metadata": {
  "kernelspec": {
   "display_name": "Python 3 (ipykernel)",
   "language": "python",
   "name": "python3"
  },
  "language_info": {
   "codemirror_mode": {
    "name": "ipython",
    "version": 3
   },
   "file_extension": ".py",
   "mimetype": "text/x-python",
   "name": "python",
   "nbconvert_exporter": "python",
   "pygments_lexer": "ipython3",
   "version": "3.12.7"
  }
 },
 "nbformat": 4,
 "nbformat_minor": 5
}
