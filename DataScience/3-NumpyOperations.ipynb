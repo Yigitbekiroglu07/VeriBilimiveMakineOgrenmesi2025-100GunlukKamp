{
 "cells": [
  {
   "cell_type": "code",
   "execution_count": 1,
   "id": "99431084-adeb-4d38-92a1-4f2bb7f1388f",
   "metadata": {},
   "outputs": [],
   "source": [
    "import numpy as np"
   ]
  },
  {
   "cell_type": "code",
   "execution_count": 2,
   "id": "226c44f3-1538-4304-a7a2-b2c4fa51db60",
   "metadata": {},
   "outputs": [],
   "source": [
    "new_array = np.random.randint(1,100,20)"
   ]
  },
  {
   "cell_type": "code",
   "execution_count": 3,
   "id": "901f2336-6383-4174-b58b-d2a5e772cbbe",
   "metadata": {},
   "outputs": [
    {
     "data": {
      "text/plain": [
       "array([81,  3, 37, 63, 21, 23, 15, 48, 92, 20, 78, 49, 73, 80, 49, 40, 27,\n",
       "       93, 66, 88])"
      ]
     },
     "execution_count": 3,
     "metadata": {},
     "output_type": "execute_result"
    }
   ],
   "source": [
    "new_array"
   ]
  },
  {
   "cell_type": "code",
   "execution_count": 4,
   "id": "cd1f0188-e228-4c09-9064-808d83daa1ed",
   "metadata": {},
   "outputs": [
    {
     "data": {
      "text/plain": [
       "array([ True, False,  True,  True, False, False, False,  True,  True,\n",
       "       False,  True,  True,  True,  True,  True,  True,  True,  True,\n",
       "        True,  True])"
      ]
     },
     "execution_count": 4,
     "metadata": {},
     "output_type": "execute_result"
    }
   ],
   "source": [
    "new_array > 25"
   ]
  },
  {
   "cell_type": "code",
   "execution_count": 6,
   "id": "715cefb9-461d-4779-be1c-67322300af30",
   "metadata": {},
   "outputs": [
    {
     "data": {
      "text/plain": [
       "array([81, 37, 63, 48, 92, 78, 49, 73, 80, 49, 40, 27, 93, 66, 88])"
      ]
     },
     "execution_count": 6,
     "metadata": {},
     "output_type": "execute_result"
    }
   ],
   "source": [
    "new_array[new_array > 25]"
   ]
  },
  {
   "cell_type": "code",
   "execution_count": 7,
   "id": "172411ea-2d43-462b-96fb-fb8177905c78",
   "metadata": {},
   "outputs": [
    {
     "data": {
      "text/plain": [
       "array([ 3, 21, 23, 15, 20])"
      ]
     },
     "execution_count": 7,
     "metadata": {},
     "output_type": "execute_result"
    }
   ],
   "source": [
    "new_array[new_array < 25]"
   ]
  },
  {
   "cell_type": "code",
   "execution_count": 8,
   "id": "a0246bfe-eb38-4642-b94d-ffc58873ad2d",
   "metadata": {},
   "outputs": [],
   "source": [
    "# transpose & reshape"
   ]
  },
  {
   "cell_type": "code",
   "execution_count": 11,
   "id": "6b892648-50a3-44cf-a146-7b26d8ee6781",
   "metadata": {},
   "outputs": [],
   "source": [
    "matrix_array = np.array([[10,20],[20,30],[30,40]])"
   ]
  },
  {
   "cell_type": "code",
   "execution_count": 12,
   "id": "a1b2f838-0a7a-4062-9b28-6ca68ad8d675",
   "metadata": {},
   "outputs": [
    {
     "data": {
      "text/plain": [
       "(3, 2)"
      ]
     },
     "execution_count": 12,
     "metadata": {},
     "output_type": "execute_result"
    }
   ],
   "source": [
    "matrix_array.shape"
   ]
  },
  {
   "cell_type": "code",
   "execution_count": 13,
   "id": "cf1705c8-2e44-418a-8850-b57fa1a37766",
   "metadata": {},
   "outputs": [
    {
     "data": {
      "text/plain": [
       "array([[10, 20, 30],\n",
       "       [20, 30, 40]])"
      ]
     },
     "execution_count": 13,
     "metadata": {},
     "output_type": "execute_result"
    }
   ],
   "source": [
    "matrix_array.transpose()"
   ]
  },
  {
   "cell_type": "code",
   "execution_count": 14,
   "id": "dd44194b-be29-4dda-88df-3def397c2ed1",
   "metadata": {},
   "outputs": [
    {
     "data": {
      "text/plain": [
       "array([[10, 20, 30],\n",
       "       [20, 30, 40]])"
      ]
     },
     "execution_count": 14,
     "metadata": {},
     "output_type": "execute_result"
    }
   ],
   "source": [
    "matrix_array.T"
   ]
  },
  {
   "cell_type": "code",
   "execution_count": 16,
   "id": "3db7b408-a6ad-4c43-bc7d-9f4fc2c823ec",
   "metadata": {},
   "outputs": [],
   "source": [
    "random_array = np.random.random((6,1))"
   ]
  },
  {
   "cell_type": "code",
   "execution_count": 17,
   "id": "a461f30d-133a-4094-83b1-29fa39f48f57",
   "metadata": {},
   "outputs": [
    {
     "data": {
      "text/plain": [
       "array([[0.1514199 ],\n",
       "       [0.22814061],\n",
       "       [0.58679519],\n",
       "       [0.9946619 ],\n",
       "       [0.0082883 ],\n",
       "       [0.38607851]])"
      ]
     },
     "execution_count": 17,
     "metadata": {},
     "output_type": "execute_result"
    }
   ],
   "source": [
    "random_array"
   ]
  },
  {
   "cell_type": "code",
   "execution_count": 18,
   "id": "efc6fba0-1722-480e-b9d0-488d7db06281",
   "metadata": {},
   "outputs": [
    {
     "data": {
      "text/plain": [
       "(6, 1)"
      ]
     },
     "execution_count": 18,
     "metadata": {},
     "output_type": "execute_result"
    }
   ],
   "source": [
    "random_array.shape"
   ]
  },
  {
   "cell_type": "code",
   "execution_count": 20,
   "id": "c431fb98-c303-4556-83f1-9de7a957939d",
   "metadata": {},
   "outputs": [
    {
     "data": {
      "text/plain": [
       "array([[0.1514199 , 0.22814061, 0.58679519],\n",
       "       [0.9946619 , 0.0082883 , 0.38607851]])"
      ]
     },
     "execution_count": 20,
     "metadata": {},
     "output_type": "execute_result"
    }
   ],
   "source": [
    "random_array.reshape(2,3)"
   ]
  },
  {
   "cell_type": "code",
   "execution_count": 21,
   "id": "5a34580a-ca90-4a90-8618-4ffc000c441e",
   "metadata": {},
   "outputs": [
    {
     "data": {
      "text/plain": [
       "array([[0.1514199 , 0.22814061],\n",
       "       [0.58679519, 0.9946619 ],\n",
       "       [0.0082883 , 0.38607851]])"
      ]
     },
     "execution_count": 21,
     "metadata": {},
     "output_type": "execute_result"
    }
   ],
   "source": [
    "random_array.reshape(3,2)"
   ]
  },
  {
   "cell_type": "code",
   "execution_count": 23,
   "id": "53a2b085-7e71-4f38-aa7c-9031d5fb5631",
   "metadata": {},
   "outputs": [],
   "source": [
    "# z-score"
   ]
  },
  {
   "cell_type": "code",
   "execution_count": 24,
   "id": "e0b68ea5-1aff-46fe-81fa-894550f4667f",
   "metadata": {},
   "outputs": [],
   "source": [
    "data = np.array([10,12,13,15,18,25,100,105])"
   ]
  },
  {
   "cell_type": "code",
   "execution_count": 25,
   "id": "5bbb3bb0-82e9-44b1-ae9d-09c608a2f850",
   "metadata": {},
   "outputs": [],
   "source": [
    "# outlier"
   ]
  },
  {
   "cell_type": "code",
   "execution_count": 26,
   "id": "62c9500c-7483-40e3-b1cb-ca725f04e958",
   "metadata": {},
   "outputs": [],
   "source": [
    "mean = np.mean(data)"
   ]
  },
  {
   "cell_type": "code",
   "execution_count": 27,
   "id": "c72e220d-80e1-45ef-92b4-79db70f9e950",
   "metadata": {},
   "outputs": [
    {
     "data": {
      "text/plain": [
       "37.25"
      ]
     },
     "execution_count": 27,
     "metadata": {},
     "output_type": "execute_result"
    }
   ],
   "source": [
    "mean"
   ]
  },
  {
   "cell_type": "code",
   "execution_count": 29,
   "id": "ee3f98b0-d34c-462a-b1b1-c293faa00c29",
   "metadata": {},
   "outputs": [
    {
     "data": {
      "text/plain": [
       "37.25"
      ]
     },
     "execution_count": 29,
     "metadata": {},
     "output_type": "execute_result"
    }
   ],
   "source": [
    "data.sum() / len(data)"
   ]
  },
  {
   "cell_type": "code",
   "execution_count": 30,
   "id": "434ed111-3683-43ce-a1a9-2dc42392d74a",
   "metadata": {},
   "outputs": [],
   "source": [
    "std = np.std(data)"
   ]
  },
  {
   "cell_type": "code",
   "execution_count": 31,
   "id": "652052f3-97c1-4a37-af19-961209698ea7",
   "metadata": {},
   "outputs": [
    {
     "data": {
      "text/plain": [
       "37.9333296719389"
      ]
     },
     "execution_count": 31,
     "metadata": {},
     "output_type": "execute_result"
    }
   ],
   "source": [
    "std"
   ]
  },
  {
   "cell_type": "code",
   "execution_count": 34,
   "id": "ac8e29ab-6370-4703-946f-38575f865f29",
   "metadata": {},
   "outputs": [],
   "source": [
    "z_score = (data - mean) / std"
   ]
  },
  {
   "cell_type": "code",
   "execution_count": 35,
   "id": "5d967bb6-4483-4fa8-9667-1d60ad3ff76b",
   "metadata": {},
   "outputs": [
    {
     "data": {
      "text/plain": [
       "array([-0.71836562, -0.66564154, -0.6392795 , -0.58655542, -0.50746929,\n",
       "       -0.322935  ,  1.65421809,  1.78602829])"
      ]
     },
     "execution_count": 35,
     "metadata": {},
     "output_type": "execute_result"
    }
   ],
   "source": [
    "z_score"
   ]
  },
  {
   "cell_type": "code",
   "execution_count": 36,
   "id": "108755ce-2654-446e-9c84-460265ef80a2",
   "metadata": {},
   "outputs": [
    {
     "data": {
      "text/plain": [
       "array([100, 105])"
      ]
     },
     "execution_count": 36,
     "metadata": {},
     "output_type": "execute_result"
    }
   ],
   "source": [
    "data[z_score > 1]"
   ]
  },
  {
   "cell_type": "code",
   "execution_count": 38,
   "id": "a0f03211-3049-4aaa-b7bc-db9edef13167",
   "metadata": {},
   "outputs": [],
   "source": [
    "# math equations"
   ]
  },
  {
   "cell_type": "code",
   "execution_count": 39,
   "id": "dfca18ca-bc2e-4e5b-b733-a4c08233b757",
   "metadata": {},
   "outputs": [],
   "source": [
    "# 2x + 3y = 8 and 5x + 7y = 19"
   ]
  },
  {
   "cell_type": "code",
   "execution_count": 45,
   "id": "154e8e79-58d7-4e3d-8c4b-a39b608f6bd3",
   "metadata": {},
   "outputs": [],
   "source": [
    "#coefficient"
   ]
  },
  {
   "cell_type": "code",
   "execution_count": 50,
   "id": "f1f12bdd-b082-4793-b7ee-4fe33699cd72",
   "metadata": {},
   "outputs": [],
   "source": [
    "A = np.array([[2,3],[5,7]])"
   ]
  },
  {
   "cell_type": "code",
   "execution_count": 51,
   "id": "7d27352e-0a5b-4ec4-ac2e-3105f548e673",
   "metadata": {},
   "outputs": [
    {
     "data": {
      "text/plain": [
       "array([[2, 3],\n",
       "       [5, 7]])"
      ]
     },
     "execution_count": 51,
     "metadata": {},
     "output_type": "execute_result"
    }
   ],
   "source": [
    "A"
   ]
  },
  {
   "cell_type": "code",
   "execution_count": 52,
   "id": "3b17599f-992f-49a6-9a2d-6f9a26410ede",
   "metadata": {},
   "outputs": [],
   "source": [
    "#constant"
   ]
  },
  {
   "cell_type": "code",
   "execution_count": 53,
   "id": "58a9f402-c3d2-4fcd-990f-adfad615c45b",
   "metadata": {},
   "outputs": [],
   "source": [
    "b = np.array([8,19])"
   ]
  },
  {
   "cell_type": "code",
   "execution_count": 54,
   "id": "f7720916-4238-4d0e-b385-2d20a33c82b7",
   "metadata": {},
   "outputs": [
    {
     "data": {
      "text/plain": [
       "array([ 8, 19])"
      ]
     },
     "execution_count": 54,
     "metadata": {},
     "output_type": "execute_result"
    }
   ],
   "source": [
    "b"
   ]
  },
  {
   "cell_type": "code",
   "execution_count": 56,
   "id": "8b157e4b-e001-456b-afdc-d8c0019b5f68",
   "metadata": {},
   "outputs": [],
   "source": [
    "solution = np.linalg.solve(A,b)"
   ]
  },
  {
   "cell_type": "code",
   "execution_count": 57,
   "id": "bbc70ebb-ce90-4757-ad11-85015137d2ac",
   "metadata": {},
   "outputs": [
    {
     "data": {
      "text/plain": [
       "array([1., 2.])"
      ]
     },
     "execution_count": 57,
     "metadata": {},
     "output_type": "execute_result"
    }
   ],
   "source": [
    "solution"
   ]
  }
 ],
 "metadata": {
  "kernelspec": {
   "display_name": "Python 3 (ipykernel)",
   "language": "python",
   "name": "python3"
  },
  "language_info": {
   "codemirror_mode": {
    "name": "ipython",
    "version": 3
   },
   "file_extension": ".py",
   "mimetype": "text/x-python",
   "name": "python",
   "nbconvert_exporter": "python",
   "pygments_lexer": "ipython3",
   "version": "3.12.7"
  }
 },
 "nbformat": 4,
 "nbformat_minor": 5
}
