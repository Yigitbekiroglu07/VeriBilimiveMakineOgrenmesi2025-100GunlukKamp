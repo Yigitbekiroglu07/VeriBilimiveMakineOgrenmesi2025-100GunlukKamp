{
 "cells": [
  {
   "cell_type": "code",
   "execution_count": 1,
   "id": "f4a04efc-5b07-487d-8107-af909755d5bc",
   "metadata": {},
   "outputs": [],
   "source": [
    "import pandas as pd"
   ]
  },
  {
   "cell_type": "code",
   "execution_count": 2,
   "id": "edab500d-22ec-4a77-9999-2c4c8aa9b086",
   "metadata": {},
   "outputs": [],
   "source": [
    "import numpy as np"
   ]
  },
  {
   "cell_type": "code",
   "execution_count": 3,
   "id": "f0247ceb-8242-4cc3-badc-1aa7c4c75e00",
   "metadata": {},
   "outputs": [],
   "source": [
    "grades = {\"Feray\": 70, \"Yiğit\":90, \"Alperen\": 50}"
   ]
  },
  {
   "cell_type": "code",
   "execution_count": 4,
   "id": "a16ac93b-4d5f-4b9b-90cc-756d95f3b6cd",
   "metadata": {},
   "outputs": [
    {
     "data": {
      "text/plain": [
       "Feray      70\n",
       "Yiğit      90\n",
       "Alperen    50\n",
       "dtype: int64"
      ]
     },
     "execution_count": 4,
     "metadata": {},
     "output_type": "execute_result"
    }
   ],
   "source": [
    "pd.Series(grades)"
   ]
  },
  {
   "cell_type": "code",
   "execution_count": 5,
   "id": "9334b2b7-c116-45d9-99c0-d55111f75e63",
   "metadata": {},
   "outputs": [],
   "source": [
    "names = [\"Feray\",\"Yiğit\",\"Alperen\"]\n",
    "grades = [70,90,50]"
   ]
  },
  {
   "cell_type": "code",
   "execution_count": 6,
   "id": "9efdc6d7-fe94-4869-9050-9f5da0f6368b",
   "metadata": {},
   "outputs": [
    {
     "data": {
      "text/plain": [
       "0      Feray\n",
       "1      Yiğit\n",
       "2    Alperen\n",
       "dtype: object"
      ]
     },
     "execution_count": 6,
     "metadata": {},
     "output_type": "execute_result"
    }
   ],
   "source": [
    "pd.Series(names)"
   ]
  },
  {
   "cell_type": "code",
   "execution_count": 7,
   "id": "df60e88a-a162-4744-ac3b-8f066daac980",
   "metadata": {},
   "outputs": [
    {
     "data": {
      "text/plain": [
       "0    70\n",
       "1    90\n",
       "2    50\n",
       "dtype: int64"
      ]
     },
     "execution_count": 7,
     "metadata": {},
     "output_type": "execute_result"
    }
   ],
   "source": [
    "pd.Series(grades)"
   ]
  },
  {
   "cell_type": "code",
   "execution_count": 8,
   "id": "b37df72a-b3cf-4c7b-a9ec-12474d6120b2",
   "metadata": {},
   "outputs": [
    {
     "data": {
      "text/plain": [
       "70      Feray\n",
       "90      Yiğit\n",
       "50    Alperen\n",
       "dtype: object"
      ]
     },
     "execution_count": 8,
     "metadata": {},
     "output_type": "execute_result"
    }
   ],
   "source": [
    "pd.Series(names,grades)"
   ]
  },
  {
   "cell_type": "code",
   "execution_count": 9,
   "id": "05e35e10-e94a-4f80-b436-0d051ed5cdd1",
   "metadata": {},
   "outputs": [],
   "source": [
    "# with numpy"
   ]
  },
  {
   "cell_type": "code",
   "execution_count": 10,
   "id": "9debe408-cd78-4d92-8b7a-a162a9d66e58",
   "metadata": {},
   "outputs": [],
   "source": [
    "np_array = np.array([10,20,30,40])"
   ]
  },
  {
   "cell_type": "code",
   "execution_count": 11,
   "id": "06636cd2-17b4-4b6b-adb2-7af6822237d4",
   "metadata": {},
   "outputs": [
    {
     "data": {
      "text/plain": [
       "0    10\n",
       "1    20\n",
       "2    30\n",
       "3    40\n",
       "dtype: int32"
      ]
     },
     "execution_count": 11,
     "metadata": {},
     "output_type": "execute_result"
    }
   ],
   "source": [
    "pd.Series(np_array)"
   ]
  },
  {
   "cell_type": "code",
   "execution_count": 12,
   "id": "4f1a88a4-db7e-491d-8436-d3d26b7fedeb",
   "metadata": {},
   "outputs": [],
   "source": [
    "# arithmetic"
   ]
  },
  {
   "cell_type": "code",
   "execution_count": 13,
   "id": "32689c9e-d1e0-4f60-bb17-11e0de6a9a63",
   "metadata": {},
   "outputs": [],
   "source": [
    "contest_result = pd.Series(data = [10,20,30], index = [\"Ahmet\",\"Mehmet\",\"Osman\"])"
   ]
  },
  {
   "cell_type": "code",
   "execution_count": 25,
   "id": "0a830a5d-2fdf-49fe-aab4-5430579bee6b",
   "metadata": {},
   "outputs": [],
   "source": [
    "contest_result2 = pd.Series(data = [20,50,100], index = [\"Ahmet\",\"Mehmet\",\"Osman\"])"
   ]
  },
  {
   "cell_type": "code",
   "execution_count": 26,
   "id": "8a147dd3-86a3-4703-87f3-b0421ad891ad",
   "metadata": {},
   "outputs": [
    {
     "data": {
      "text/plain": [
       "Ahmet     10\n",
       "Mehmet    20\n",
       "Osman     30\n",
       "dtype: int64"
      ]
     },
     "execution_count": 26,
     "metadata": {},
     "output_type": "execute_result"
    }
   ],
   "source": [
    "contest_result"
   ]
  },
  {
   "cell_type": "code",
   "execution_count": 27,
   "id": "3fa26f78-5048-4224-af96-ac3ef1775fab",
   "metadata": {},
   "outputs": [
    {
     "data": {
      "text/plain": [
       "10"
      ]
     },
     "execution_count": 27,
     "metadata": {},
     "output_type": "execute_result"
    }
   ],
   "source": [
    "contest_result[\"Ahmet\"]"
   ]
  },
  {
   "cell_type": "code",
   "execution_count": 29,
   "id": "1017c226-d6f9-41ae-8566-a41d1d73b90e",
   "metadata": {},
   "outputs": [
    {
     "data": {
      "text/plain": [
       "20"
      ]
     },
     "execution_count": 29,
     "metadata": {},
     "output_type": "execute_result"
    }
   ],
   "source": [
    "contest_result2[\"Ahmet\"]"
   ]
  },
  {
   "cell_type": "code",
   "execution_count": 30,
   "id": "a8600453-d1f0-4446-8bd9-c6a0ec3ee2e9",
   "metadata": {},
   "outputs": [],
   "source": [
    "final_result = contest_result + contest_result2"
   ]
  },
  {
   "cell_type": "code",
   "execution_count": 31,
   "id": "78e0c8d1-7eeb-47b2-a5c9-99ad5ccec9d1",
   "metadata": {},
   "outputs": [
    {
     "data": {
      "text/plain": [
       "Ahmet      30\n",
       "Mehmet     70\n",
       "Osman     130\n",
       "dtype: int64"
      ]
     },
     "execution_count": 31,
     "metadata": {},
     "output_type": "execute_result"
    }
   ],
   "source": [
    "final_result"
   ]
  },
  {
   "cell_type": "code",
   "execution_count": null,
   "id": "5283b357-01e8-43dd-b022-164ce14b7f96",
   "metadata": {},
   "outputs": [],
   "source": []
  }
 ],
 "metadata": {
  "kernelspec": {
   "display_name": "Python 3 (ipykernel)",
   "language": "python",
   "name": "python3"
  },
  "language_info": {
   "codemirror_mode": {
    "name": "ipython",
    "version": 3
   },
   "file_extension": ".py",
   "mimetype": "text/x-python",
   "name": "python",
   "nbconvert_exporter": "python",
   "pygments_lexer": "ipython3",
   "version": "3.12.7"
  }
 },
 "nbformat": 4,
 "nbformat_minor": 5
}
