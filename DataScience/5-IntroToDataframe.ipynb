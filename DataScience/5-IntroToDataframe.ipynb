{
 "cells": [
  {
   "cell_type": "code",
   "execution_count": 1,
   "id": "d7ec388c-778c-4800-babf-e4c39fe1148f",
   "metadata": {},
   "outputs": [],
   "source": [
    "import pandas as pd"
   ]
  },
  {
   "cell_type": "code",
   "execution_count": 2,
   "id": "b1197615-bf53-443b-acfb-56639fb0c3f2",
   "metadata": {},
   "outputs": [],
   "source": [
    "import numpy as np"
   ]
  },
  {
   "cell_type": "code",
   "execution_count": 3,
   "id": "cf0eab06-f598-4997-b91b-88fa94dbe217",
   "metadata": {},
   "outputs": [],
   "source": [
    "data = np.random.randn(4,3)"
   ]
  },
  {
   "cell_type": "code",
   "execution_count": 4,
   "id": "b0d65f55-01df-44d6-aac3-b5c72a2ba500",
   "metadata": {},
   "outputs": [
    {
     "data": {
      "text/plain": [
       "array([[ 0.62706628, -0.42370729, -1.68289323],\n",
       "       [ 0.5648839 ,  0.29836295,  0.03979917],\n",
       "       [ 0.93337626, -0.81893246,  0.57363282],\n",
       "       [ 1.16592875,  0.40170736,  0.73632529]])"
      ]
     },
     "execution_count": 4,
     "metadata": {},
     "output_type": "execute_result"
    }
   ],
   "source": [
    "data"
   ]
  },
  {
   "cell_type": "code",
   "execution_count": 5,
   "id": "0a02e970-1580-4195-a500-8223ca8db0ec",
   "metadata": {},
   "outputs": [],
   "source": [
    "data_frame = pd.DataFrame(data)"
   ]
  },
  {
   "cell_type": "code",
   "execution_count": 6,
   "id": "6610f091-d31f-4e93-ad64-352da41ccdb9",
   "metadata": {},
   "outputs": [
    {
     "data": {
      "text/html": [
       "<div>\n",
       "<style scoped>\n",
       "    .dataframe tbody tr th:only-of-type {\n",
       "        vertical-align: middle;\n",
       "    }\n",
       "\n",
       "    .dataframe tbody tr th {\n",
       "        vertical-align: top;\n",
       "    }\n",
       "\n",
       "    .dataframe thead th {\n",
       "        text-align: right;\n",
       "    }\n",
       "</style>\n",
       "<table border=\"1\" class=\"dataframe\">\n",
       "  <thead>\n",
       "    <tr style=\"text-align: right;\">\n",
       "      <th></th>\n",
       "      <th>0</th>\n",
       "      <th>1</th>\n",
       "      <th>2</th>\n",
       "    </tr>\n",
       "  </thead>\n",
       "  <tbody>\n",
       "    <tr>\n",
       "      <th>0</th>\n",
       "      <td>0.627066</td>\n",
       "      <td>-0.423707</td>\n",
       "      <td>-1.682893</td>\n",
       "    </tr>\n",
       "    <tr>\n",
       "      <th>1</th>\n",
       "      <td>0.564884</td>\n",
       "      <td>0.298363</td>\n",
       "      <td>0.039799</td>\n",
       "    </tr>\n",
       "    <tr>\n",
       "      <th>2</th>\n",
       "      <td>0.933376</td>\n",
       "      <td>-0.818932</td>\n",
       "      <td>0.573633</td>\n",
       "    </tr>\n",
       "    <tr>\n",
       "      <th>3</th>\n",
       "      <td>1.165929</td>\n",
       "      <td>0.401707</td>\n",
       "      <td>0.736325</td>\n",
       "    </tr>\n",
       "  </tbody>\n",
       "</table>\n",
       "</div>"
      ],
      "text/plain": [
       "          0         1         2\n",
       "0  0.627066 -0.423707 -1.682893\n",
       "1  0.564884  0.298363  0.039799\n",
       "2  0.933376 -0.818932  0.573633\n",
       "3  1.165929  0.401707  0.736325"
      ]
     },
     "execution_count": 6,
     "metadata": {},
     "output_type": "execute_result"
    }
   ],
   "source": [
    "data_frame"
   ]
  },
  {
   "cell_type": "code",
   "execution_count": 7,
   "id": "d3a68975-360a-45b7-8ee8-ca6fb0fcd73a",
   "metadata": {},
   "outputs": [
    {
     "data": {
      "text/plain": [
       "pandas.core.frame.DataFrame"
      ]
     },
     "execution_count": 7,
     "metadata": {},
     "output_type": "execute_result"
    }
   ],
   "source": [
    "type(data_frame)"
   ]
  },
  {
   "cell_type": "code",
   "execution_count": 8,
   "id": "a5b3980c-c0ef-4510-b1bf-eb3b41aed494",
   "metadata": {},
   "outputs": [
    {
     "data": {
      "text/plain": [
       "pandas.core.series.Series"
      ]
     },
     "execution_count": 8,
     "metadata": {},
     "output_type": "execute_result"
    }
   ],
   "source": [
    "type(data_frame[0])"
   ]
  },
  {
   "cell_type": "code",
   "execution_count": 9,
   "id": "1bab53f5-8bce-416f-bf6b-c6b4ae4ebeff",
   "metadata": {},
   "outputs": [],
   "source": [
    "new_df = pd.DataFrame(data, index = [\"Yiğit\",\"Alperen\",\"Bekiroğlu\",\"Şen\"], columns = [\"Salary\",\"Age\",\"Seniority\"])"
   ]
  },
  {
   "cell_type": "code",
   "execution_count": 10,
   "id": "4b97493e-5c7a-4fe9-a64a-bb9c0e9f565f",
   "metadata": {},
   "outputs": [
    {
     "data": {
      "text/html": [
       "<div>\n",
       "<style scoped>\n",
       "    .dataframe tbody tr th:only-of-type {\n",
       "        vertical-align: middle;\n",
       "    }\n",
       "\n",
       "    .dataframe tbody tr th {\n",
       "        vertical-align: top;\n",
       "    }\n",
       "\n",
       "    .dataframe thead th {\n",
       "        text-align: right;\n",
       "    }\n",
       "</style>\n",
       "<table border=\"1\" class=\"dataframe\">\n",
       "  <thead>\n",
       "    <tr style=\"text-align: right;\">\n",
       "      <th></th>\n",
       "      <th>Salary</th>\n",
       "      <th>Age</th>\n",
       "      <th>Seniority</th>\n",
       "    </tr>\n",
       "  </thead>\n",
       "  <tbody>\n",
       "    <tr>\n",
       "      <th>Yiğit</th>\n",
       "      <td>0.627066</td>\n",
       "      <td>-0.423707</td>\n",
       "      <td>-1.682893</td>\n",
       "    </tr>\n",
       "    <tr>\n",
       "      <th>Alperen</th>\n",
       "      <td>0.564884</td>\n",
       "      <td>0.298363</td>\n",
       "      <td>0.039799</td>\n",
       "    </tr>\n",
       "    <tr>\n",
       "      <th>Bekiroğlu</th>\n",
       "      <td>0.933376</td>\n",
       "      <td>-0.818932</td>\n",
       "      <td>0.573633</td>\n",
       "    </tr>\n",
       "    <tr>\n",
       "      <th>Şen</th>\n",
       "      <td>1.165929</td>\n",
       "      <td>0.401707</td>\n",
       "      <td>0.736325</td>\n",
       "    </tr>\n",
       "  </tbody>\n",
       "</table>\n",
       "</div>"
      ],
      "text/plain": [
       "             Salary       Age  Seniority\n",
       "Yiğit      0.627066 -0.423707  -1.682893\n",
       "Alperen    0.564884  0.298363   0.039799\n",
       "Bekiroğlu  0.933376 -0.818932   0.573633\n",
       "Şen        1.165929  0.401707   0.736325"
      ]
     },
     "execution_count": 10,
     "metadata": {},
     "output_type": "execute_result"
    }
   ],
   "source": [
    "new_df"
   ]
  },
  {
   "cell_type": "code",
   "execution_count": 11,
   "id": "bfc0f34b-68ec-4957-8bb4-3c572e1746e6",
   "metadata": {},
   "outputs": [
    {
     "data": {
      "text/plain": [
       "Yiğit        0.627066\n",
       "Alperen      0.564884\n",
       "Bekiroğlu    0.933376\n",
       "Şen          1.165929\n",
       "Name: Salary, dtype: float64"
      ]
     },
     "execution_count": 11,
     "metadata": {},
     "output_type": "execute_result"
    }
   ],
   "source": [
    "new_df[\"Salary\"]"
   ]
  },
  {
   "cell_type": "code",
   "execution_count": 12,
   "id": "6a47ca50-9c06-4127-991e-4f134757e98e",
   "metadata": {},
   "outputs": [
    {
     "data": {
      "text/plain": [
       "Yiğit       -0.423707\n",
       "Alperen      0.298363\n",
       "Bekiroğlu   -0.818932\n",
       "Şen          0.401707\n",
       "Name: Age, dtype: float64"
      ]
     },
     "execution_count": 12,
     "metadata": {},
     "output_type": "execute_result"
    }
   ],
   "source": [
    "new_df[\"Age\"]"
   ]
  },
  {
   "cell_type": "code",
   "execution_count": 13,
   "id": "bca1de76-4eb0-4ff3-9659-1dae35b746b5",
   "metadata": {},
   "outputs": [
    {
     "data": {
      "text/html": [
       "<div>\n",
       "<style scoped>\n",
       "    .dataframe tbody tr th:only-of-type {\n",
       "        vertical-align: middle;\n",
       "    }\n",
       "\n",
       "    .dataframe tbody tr th {\n",
       "        vertical-align: top;\n",
       "    }\n",
       "\n",
       "    .dataframe thead th {\n",
       "        text-align: right;\n",
       "    }\n",
       "</style>\n",
       "<table border=\"1\" class=\"dataframe\">\n",
       "  <thead>\n",
       "    <tr style=\"text-align: right;\">\n",
       "      <th></th>\n",
       "      <th>Age</th>\n",
       "      <th>Salary</th>\n",
       "    </tr>\n",
       "  </thead>\n",
       "  <tbody>\n",
       "    <tr>\n",
       "      <th>Yiğit</th>\n",
       "      <td>-0.423707</td>\n",
       "      <td>0.627066</td>\n",
       "    </tr>\n",
       "    <tr>\n",
       "      <th>Alperen</th>\n",
       "      <td>0.298363</td>\n",
       "      <td>0.564884</td>\n",
       "    </tr>\n",
       "    <tr>\n",
       "      <th>Bekiroğlu</th>\n",
       "      <td>-0.818932</td>\n",
       "      <td>0.933376</td>\n",
       "    </tr>\n",
       "    <tr>\n",
       "      <th>Şen</th>\n",
       "      <td>0.401707</td>\n",
       "      <td>1.165929</td>\n",
       "    </tr>\n",
       "  </tbody>\n",
       "</table>\n",
       "</div>"
      ],
      "text/plain": [
       "                Age    Salary\n",
       "Yiğit     -0.423707  0.627066\n",
       "Alperen    0.298363  0.564884\n",
       "Bekiroğlu -0.818932  0.933376\n",
       "Şen        0.401707  1.165929"
      ]
     },
     "execution_count": 13,
     "metadata": {},
     "output_type": "execute_result"
    }
   ],
   "source": [
    "new_df[[\"Age\",\"Salary\"]]"
   ]
  },
  {
   "cell_type": "code",
   "execution_count": 15,
   "id": "05233352-642a-4ea1-a95f-7fa484d28858",
   "metadata": {},
   "outputs": [
    {
     "data": {
      "text/plain": [
       "Salary       0.627066\n",
       "Age         -0.423707\n",
       "Seniority   -1.682893\n",
       "Name: Yiğit, dtype: float64"
      ]
     },
     "execution_count": 15,
     "metadata": {},
     "output_type": "execute_result"
    }
   ],
   "source": [
    "new_df.loc[\"Yiğit\"]"
   ]
  },
  {
   "cell_type": "code",
   "execution_count": 16,
   "id": "6812ee81-72c0-4678-bf84-96e70b311d02",
   "metadata": {},
   "outputs": [
    {
     "data": {
      "text/plain": [
       "Salary       0.627066\n",
       "Age         -0.423707\n",
       "Seniority   -1.682893\n",
       "Name: Yiğit, dtype: float64"
      ]
     },
     "execution_count": 16,
     "metadata": {},
     "output_type": "execute_result"
    }
   ],
   "source": [
    "new_df.iloc[0]"
   ]
  },
  {
   "cell_type": "code",
   "execution_count": 17,
   "id": "ee5ab24e-feb7-4400-b42c-2d34c7011b60",
   "metadata": {},
   "outputs": [
    {
     "data": {
      "text/plain": [
       "Yiğit       -1.682893\n",
       "Alperen      0.039799\n",
       "Bekiroğlu    0.573633\n",
       "Şen          0.736325\n",
       "Name: Seniority, dtype: float64"
      ]
     },
     "execution_count": 17,
     "metadata": {},
     "output_type": "execute_result"
    }
   ],
   "source": [
    "new_df.iloc[:,2]"
   ]
  },
  {
   "cell_type": "code",
   "execution_count": 18,
   "id": "0ac6bd64-ddfd-449f-b48b-08f47d75fd20",
   "metadata": {},
   "outputs": [],
   "source": [
    "new_df[\"Ekstra\"] = 10"
   ]
  },
  {
   "cell_type": "code",
   "execution_count": 19,
   "id": "36a65e8a-03b1-4ac6-872e-351d44977962",
   "metadata": {},
   "outputs": [
    {
     "data": {
      "text/html": [
       "<div>\n",
       "<style scoped>\n",
       "    .dataframe tbody tr th:only-of-type {\n",
       "        vertical-align: middle;\n",
       "    }\n",
       "\n",
       "    .dataframe tbody tr th {\n",
       "        vertical-align: top;\n",
       "    }\n",
       "\n",
       "    .dataframe thead th {\n",
       "        text-align: right;\n",
       "    }\n",
       "</style>\n",
       "<table border=\"1\" class=\"dataframe\">\n",
       "  <thead>\n",
       "    <tr style=\"text-align: right;\">\n",
       "      <th></th>\n",
       "      <th>Salary</th>\n",
       "      <th>Age</th>\n",
       "      <th>Seniority</th>\n",
       "      <th>Ekstra</th>\n",
       "    </tr>\n",
       "  </thead>\n",
       "  <tbody>\n",
       "    <tr>\n",
       "      <th>Yiğit</th>\n",
       "      <td>0.627066</td>\n",
       "      <td>-0.423707</td>\n",
       "      <td>-1.682893</td>\n",
       "      <td>10</td>\n",
       "    </tr>\n",
       "    <tr>\n",
       "      <th>Alperen</th>\n",
       "      <td>0.564884</td>\n",
       "      <td>0.298363</td>\n",
       "      <td>0.039799</td>\n",
       "      <td>10</td>\n",
       "    </tr>\n",
       "    <tr>\n",
       "      <th>Bekiroğlu</th>\n",
       "      <td>0.933376</td>\n",
       "      <td>-0.818932</td>\n",
       "      <td>0.573633</td>\n",
       "      <td>10</td>\n",
       "    </tr>\n",
       "    <tr>\n",
       "      <th>Şen</th>\n",
       "      <td>1.165929</td>\n",
       "      <td>0.401707</td>\n",
       "      <td>0.736325</td>\n",
       "      <td>10</td>\n",
       "    </tr>\n",
       "  </tbody>\n",
       "</table>\n",
       "</div>"
      ],
      "text/plain": [
       "             Salary       Age  Seniority  Ekstra\n",
       "Yiğit      0.627066 -0.423707  -1.682893      10\n",
       "Alperen    0.564884  0.298363   0.039799      10\n",
       "Bekiroğlu  0.933376 -0.818932   0.573633      10\n",
       "Şen        1.165929  0.401707   0.736325      10"
      ]
     },
     "execution_count": 19,
     "metadata": {},
     "output_type": "execute_result"
    }
   ],
   "source": [
    "new_df"
   ]
  },
  {
   "cell_type": "code",
   "execution_count": 21,
   "id": "8c003145-ccee-4a12-977a-0b7d206efb38",
   "metadata": {},
   "outputs": [
    {
     "data": {
      "text/html": [
       "<div>\n",
       "<style scoped>\n",
       "    .dataframe tbody tr th:only-of-type {\n",
       "        vertical-align: middle;\n",
       "    }\n",
       "\n",
       "    .dataframe tbody tr th {\n",
       "        vertical-align: top;\n",
       "    }\n",
       "\n",
       "    .dataframe thead th {\n",
       "        text-align: right;\n",
       "    }\n",
       "</style>\n",
       "<table border=\"1\" class=\"dataframe\">\n",
       "  <thead>\n",
       "    <tr style=\"text-align: right;\">\n",
       "      <th></th>\n",
       "      <th>Salary</th>\n",
       "      <th>Age</th>\n",
       "      <th>Seniority</th>\n",
       "    </tr>\n",
       "  </thead>\n",
       "  <tbody>\n",
       "    <tr>\n",
       "      <th>Yiğit</th>\n",
       "      <td>0.627066</td>\n",
       "      <td>-0.423707</td>\n",
       "      <td>-1.682893</td>\n",
       "    </tr>\n",
       "    <tr>\n",
       "      <th>Alperen</th>\n",
       "      <td>0.564884</td>\n",
       "      <td>0.298363</td>\n",
       "      <td>0.039799</td>\n",
       "    </tr>\n",
       "    <tr>\n",
       "      <th>Bekiroğlu</th>\n",
       "      <td>0.933376</td>\n",
       "      <td>-0.818932</td>\n",
       "      <td>0.573633</td>\n",
       "    </tr>\n",
       "    <tr>\n",
       "      <th>Şen</th>\n",
       "      <td>1.165929</td>\n",
       "      <td>0.401707</td>\n",
       "      <td>0.736325</td>\n",
       "    </tr>\n",
       "  </tbody>\n",
       "</table>\n",
       "</div>"
      ],
      "text/plain": [
       "             Salary       Age  Seniority\n",
       "Yiğit      0.627066 -0.423707  -1.682893\n",
       "Alperen    0.564884  0.298363   0.039799\n",
       "Bekiroğlu  0.933376 -0.818932   0.573633\n",
       "Şen        1.165929  0.401707   0.736325"
      ]
     },
     "execution_count": 21,
     "metadata": {},
     "output_type": "execute_result"
    }
   ],
   "source": [
    "new_df.drop(\"Ekstra\", axis = 1)"
   ]
  },
  {
   "cell_type": "code",
   "execution_count": 22,
   "id": "67708e1d-e2b3-479c-b6ef-4ed65453038a",
   "metadata": {},
   "outputs": [
    {
     "data": {
      "text/html": [
       "<div>\n",
       "<style scoped>\n",
       "    .dataframe tbody tr th:only-of-type {\n",
       "        vertical-align: middle;\n",
       "    }\n",
       "\n",
       "    .dataframe tbody tr th {\n",
       "        vertical-align: top;\n",
       "    }\n",
       "\n",
       "    .dataframe thead th {\n",
       "        text-align: right;\n",
       "    }\n",
       "</style>\n",
       "<table border=\"1\" class=\"dataframe\">\n",
       "  <thead>\n",
       "    <tr style=\"text-align: right;\">\n",
       "      <th></th>\n",
       "      <th>Salary</th>\n",
       "      <th>Age</th>\n",
       "      <th>Seniority</th>\n",
       "      <th>Ekstra</th>\n",
       "    </tr>\n",
       "  </thead>\n",
       "  <tbody>\n",
       "    <tr>\n",
       "      <th>Yiğit</th>\n",
       "      <td>0.627066</td>\n",
       "      <td>-0.423707</td>\n",
       "      <td>-1.682893</td>\n",
       "      <td>10</td>\n",
       "    </tr>\n",
       "    <tr>\n",
       "      <th>Alperen</th>\n",
       "      <td>0.564884</td>\n",
       "      <td>0.298363</td>\n",
       "      <td>0.039799</td>\n",
       "      <td>10</td>\n",
       "    </tr>\n",
       "    <tr>\n",
       "      <th>Bekiroğlu</th>\n",
       "      <td>0.933376</td>\n",
       "      <td>-0.818932</td>\n",
       "      <td>0.573633</td>\n",
       "      <td>10</td>\n",
       "    </tr>\n",
       "    <tr>\n",
       "      <th>Şen</th>\n",
       "      <td>1.165929</td>\n",
       "      <td>0.401707</td>\n",
       "      <td>0.736325</td>\n",
       "      <td>10</td>\n",
       "    </tr>\n",
       "  </tbody>\n",
       "</table>\n",
       "</div>"
      ],
      "text/plain": [
       "             Salary       Age  Seniority  Ekstra\n",
       "Yiğit      0.627066 -0.423707  -1.682893      10\n",
       "Alperen    0.564884  0.298363   0.039799      10\n",
       "Bekiroğlu  0.933376 -0.818932   0.573633      10\n",
       "Şen        1.165929  0.401707   0.736325      10"
      ]
     },
     "execution_count": 22,
     "metadata": {},
     "output_type": "execute_result"
    }
   ],
   "source": [
    "new_df"
   ]
  },
  {
   "cell_type": "code",
   "execution_count": 25,
   "id": "eabf4321-aa16-446d-b954-ba7a855df752",
   "metadata": {},
   "outputs": [],
   "source": [
    "new_df.drop(\"Ekstra\",axis = 1, inplace = True)"
   ]
  },
  {
   "cell_type": "code",
   "execution_count": 26,
   "id": "ab51fdfe-9e3a-4eb0-92c8-2aea2eac0e0d",
   "metadata": {},
   "outputs": [
    {
     "data": {
      "text/html": [
       "<div>\n",
       "<style scoped>\n",
       "    .dataframe tbody tr th:only-of-type {\n",
       "        vertical-align: middle;\n",
       "    }\n",
       "\n",
       "    .dataframe tbody tr th {\n",
       "        vertical-align: top;\n",
       "    }\n",
       "\n",
       "    .dataframe thead th {\n",
       "        text-align: right;\n",
       "    }\n",
       "</style>\n",
       "<table border=\"1\" class=\"dataframe\">\n",
       "  <thead>\n",
       "    <tr style=\"text-align: right;\">\n",
       "      <th></th>\n",
       "      <th>Salary</th>\n",
       "      <th>Age</th>\n",
       "      <th>Seniority</th>\n",
       "    </tr>\n",
       "  </thead>\n",
       "  <tbody>\n",
       "    <tr>\n",
       "      <th>Yiğit</th>\n",
       "      <td>0.627066</td>\n",
       "      <td>-0.423707</td>\n",
       "      <td>-1.682893</td>\n",
       "    </tr>\n",
       "    <tr>\n",
       "      <th>Alperen</th>\n",
       "      <td>0.564884</td>\n",
       "      <td>0.298363</td>\n",
       "      <td>0.039799</td>\n",
       "    </tr>\n",
       "    <tr>\n",
       "      <th>Bekiroğlu</th>\n",
       "      <td>0.933376</td>\n",
       "      <td>-0.818932</td>\n",
       "      <td>0.573633</td>\n",
       "    </tr>\n",
       "    <tr>\n",
       "      <th>Şen</th>\n",
       "      <td>1.165929</td>\n",
       "      <td>0.401707</td>\n",
       "      <td>0.736325</td>\n",
       "    </tr>\n",
       "  </tbody>\n",
       "</table>\n",
       "</div>"
      ],
      "text/plain": [
       "             Salary       Age  Seniority\n",
       "Yiğit      0.627066 -0.423707  -1.682893\n",
       "Alperen    0.564884  0.298363   0.039799\n",
       "Bekiroğlu  0.933376 -0.818932   0.573633\n",
       "Şen        1.165929  0.401707   0.736325"
      ]
     },
     "execution_count": 26,
     "metadata": {},
     "output_type": "execute_result"
    }
   ],
   "source": [
    "new_df"
   ]
  },
  {
   "cell_type": "code",
   "execution_count": 27,
   "id": "38603e8a-1b80-48e3-b642-bc5068541daa",
   "metadata": {},
   "outputs": [
    {
     "data": {
      "text/html": [
       "<div>\n",
       "<style scoped>\n",
       "    .dataframe tbody tr th:only-of-type {\n",
       "        vertical-align: middle;\n",
       "    }\n",
       "\n",
       "    .dataframe tbody tr th {\n",
       "        vertical-align: top;\n",
       "    }\n",
       "\n",
       "    .dataframe thead th {\n",
       "        text-align: right;\n",
       "    }\n",
       "</style>\n",
       "<table border=\"1\" class=\"dataframe\">\n",
       "  <thead>\n",
       "    <tr style=\"text-align: right;\">\n",
       "      <th></th>\n",
       "      <th>Salary</th>\n",
       "      <th>Age</th>\n",
       "      <th>Seniority</th>\n",
       "    </tr>\n",
       "  </thead>\n",
       "  <tbody>\n",
       "    <tr>\n",
       "      <th>Yiğit</th>\n",
       "      <td>0.627066</td>\n",
       "      <td>-0.423707</td>\n",
       "      <td>-1.682893</td>\n",
       "    </tr>\n",
       "    <tr>\n",
       "      <th>Alperen</th>\n",
       "      <td>0.564884</td>\n",
       "      <td>0.298363</td>\n",
       "      <td>0.039799</td>\n",
       "    </tr>\n",
       "    <tr>\n",
       "      <th>Bekiroğlu</th>\n",
       "      <td>0.933376</td>\n",
       "      <td>-0.818932</td>\n",
       "      <td>0.573633</td>\n",
       "    </tr>\n",
       "  </tbody>\n",
       "</table>\n",
       "</div>"
      ],
      "text/plain": [
       "             Salary       Age  Seniority\n",
       "Yiğit      0.627066 -0.423707  -1.682893\n",
       "Alperen    0.564884  0.298363   0.039799\n",
       "Bekiroğlu  0.933376 -0.818932   0.573633"
      ]
     },
     "execution_count": 27,
     "metadata": {},
     "output_type": "execute_result"
    }
   ],
   "source": [
    "new_df.drop(\"Şen\")"
   ]
  },
  {
   "cell_type": "code",
   "execution_count": 28,
   "id": "d40f5fa6-480c-4748-a2c3-b95b1b074f42",
   "metadata": {},
   "outputs": [
    {
     "data": {
      "text/plain": [
       "Salary       0.627066\n",
       "Age         -0.423707\n",
       "Seniority   -1.682893\n",
       "Name: Yiğit, dtype: float64"
      ]
     },
     "execution_count": 28,
     "metadata": {},
     "output_type": "execute_result"
    }
   ],
   "source": [
    "new_df.loc[\"Yiğit\"]"
   ]
  },
  {
   "cell_type": "code",
   "execution_count": 29,
   "id": "b9c4e6d8-0ab2-476c-a668-2b145eea4da9",
   "metadata": {},
   "outputs": [
    {
     "data": {
      "text/plain": [
       "-0.4237072948717343"
      ]
     },
     "execution_count": 29,
     "metadata": {},
     "output_type": "execute_result"
    }
   ],
   "source": [
    "new_df.loc[\"Yiğit\"][\"Age\"]"
   ]
  },
  {
   "cell_type": "code",
   "execution_count": 30,
   "id": "fe08606f-7762-4f48-8ddc-6894231ab314",
   "metadata": {},
   "outputs": [
    {
     "data": {
      "text/plain": [
       "-0.4237072948717343"
      ]
     },
     "execution_count": 30,
     "metadata": {},
     "output_type": "execute_result"
    }
   ],
   "source": [
    "new_df.loc[\"Yiğit\",\"Age\"]"
   ]
  },
  {
   "cell_type": "code",
   "execution_count": 31,
   "id": "76de285c-21fc-4c45-bc25-3ecf956306f1",
   "metadata": {},
   "outputs": [],
   "source": [
    "new_df.loc[\"Yiğit\",\"Age\"] = 100"
   ]
  },
  {
   "cell_type": "code",
   "execution_count": 32,
   "id": "58d20c71-d22f-4b49-bd35-5f9059259268",
   "metadata": {},
   "outputs": [
    {
     "data": {
      "text/html": [
       "<div>\n",
       "<style scoped>\n",
       "    .dataframe tbody tr th:only-of-type {\n",
       "        vertical-align: middle;\n",
       "    }\n",
       "\n",
       "    .dataframe tbody tr th {\n",
       "        vertical-align: top;\n",
       "    }\n",
       "\n",
       "    .dataframe thead th {\n",
       "        text-align: right;\n",
       "    }\n",
       "</style>\n",
       "<table border=\"1\" class=\"dataframe\">\n",
       "  <thead>\n",
       "    <tr style=\"text-align: right;\">\n",
       "      <th></th>\n",
       "      <th>Salary</th>\n",
       "      <th>Age</th>\n",
       "      <th>Seniority</th>\n",
       "    </tr>\n",
       "  </thead>\n",
       "  <tbody>\n",
       "    <tr>\n",
       "      <th>Yiğit</th>\n",
       "      <td>0.627066</td>\n",
       "      <td>100.000000</td>\n",
       "      <td>-1.682893</td>\n",
       "    </tr>\n",
       "    <tr>\n",
       "      <th>Alperen</th>\n",
       "      <td>0.564884</td>\n",
       "      <td>0.298363</td>\n",
       "      <td>0.039799</td>\n",
       "    </tr>\n",
       "    <tr>\n",
       "      <th>Bekiroğlu</th>\n",
       "      <td>0.933376</td>\n",
       "      <td>-0.818932</td>\n",
       "      <td>0.573633</td>\n",
       "    </tr>\n",
       "    <tr>\n",
       "      <th>Şen</th>\n",
       "      <td>1.165929</td>\n",
       "      <td>0.401707</td>\n",
       "      <td>0.736325</td>\n",
       "    </tr>\n",
       "  </tbody>\n",
       "</table>\n",
       "</div>"
      ],
      "text/plain": [
       "             Salary         Age  Seniority\n",
       "Yiğit      0.627066  100.000000  -1.682893\n",
       "Alperen    0.564884    0.298363   0.039799\n",
       "Bekiroğlu  0.933376   -0.818932   0.573633\n",
       "Şen        1.165929    0.401707   0.736325"
      ]
     },
     "execution_count": 32,
     "metadata": {},
     "output_type": "execute_result"
    }
   ],
   "source": [
    "new_df"
   ]
  },
  {
   "cell_type": "code",
   "execution_count": 33,
   "id": "28ba5e56-0215-4b62-ae7b-750d4df8e467",
   "metadata": {},
   "outputs": [
    {
     "data": {
      "text/html": [
       "<div>\n",
       "<style scoped>\n",
       "    .dataframe tbody tr th:only-of-type {\n",
       "        vertical-align: middle;\n",
       "    }\n",
       "\n",
       "    .dataframe tbody tr th {\n",
       "        vertical-align: top;\n",
       "    }\n",
       "\n",
       "    .dataframe thead th {\n",
       "        text-align: right;\n",
       "    }\n",
       "</style>\n",
       "<table border=\"1\" class=\"dataframe\">\n",
       "  <thead>\n",
       "    <tr style=\"text-align: right;\">\n",
       "      <th></th>\n",
       "      <th>Salary</th>\n",
       "      <th>Age</th>\n",
       "      <th>Seniority</th>\n",
       "    </tr>\n",
       "  </thead>\n",
       "  <tbody>\n",
       "    <tr>\n",
       "      <th>Yiğit</th>\n",
       "      <td>True</td>\n",
       "      <td>True</td>\n",
       "      <td>False</td>\n",
       "    </tr>\n",
       "    <tr>\n",
       "      <th>Alperen</th>\n",
       "      <td>True</td>\n",
       "      <td>True</td>\n",
       "      <td>True</td>\n",
       "    </tr>\n",
       "    <tr>\n",
       "      <th>Bekiroğlu</th>\n",
       "      <td>True</td>\n",
       "      <td>False</td>\n",
       "      <td>True</td>\n",
       "    </tr>\n",
       "    <tr>\n",
       "      <th>Şen</th>\n",
       "      <td>True</td>\n",
       "      <td>True</td>\n",
       "      <td>True</td>\n",
       "    </tr>\n",
       "  </tbody>\n",
       "</table>\n",
       "</div>"
      ],
      "text/plain": [
       "           Salary    Age  Seniority\n",
       "Yiğit        True   True      False\n",
       "Alperen      True   True       True\n",
       "Bekiroğlu    True  False       True\n",
       "Şen          True   True       True"
      ]
     },
     "execution_count": 33,
     "metadata": {},
     "output_type": "execute_result"
    }
   ],
   "source": [
    "new_df > 0"
   ]
  },
  {
   "cell_type": "code",
   "execution_count": 34,
   "id": "e959c6f4-8332-40fe-9711-93d0903859a7",
   "metadata": {},
   "outputs": [],
   "source": [
    "boolean_frame = new_df > 0"
   ]
  },
  {
   "cell_type": "code",
   "execution_count": 36,
   "id": "f9e60579-6cf9-44b0-be3e-547dd94ae3ca",
   "metadata": {},
   "outputs": [
    {
     "data": {
      "text/html": [
       "<div>\n",
       "<style scoped>\n",
       "    .dataframe tbody tr th:only-of-type {\n",
       "        vertical-align: middle;\n",
       "    }\n",
       "\n",
       "    .dataframe tbody tr th {\n",
       "        vertical-align: top;\n",
       "    }\n",
       "\n",
       "    .dataframe thead th {\n",
       "        text-align: right;\n",
       "    }\n",
       "</style>\n",
       "<table border=\"1\" class=\"dataframe\">\n",
       "  <thead>\n",
       "    <tr style=\"text-align: right;\">\n",
       "      <th></th>\n",
       "      <th>Salary</th>\n",
       "      <th>Age</th>\n",
       "      <th>Seniority</th>\n",
       "    </tr>\n",
       "  </thead>\n",
       "  <tbody>\n",
       "    <tr>\n",
       "      <th>Yiğit</th>\n",
       "      <td>0.627066</td>\n",
       "      <td>100.000000</td>\n",
       "      <td>NaN</td>\n",
       "    </tr>\n",
       "    <tr>\n",
       "      <th>Alperen</th>\n",
       "      <td>0.564884</td>\n",
       "      <td>0.298363</td>\n",
       "      <td>0.039799</td>\n",
       "    </tr>\n",
       "    <tr>\n",
       "      <th>Bekiroğlu</th>\n",
       "      <td>0.933376</td>\n",
       "      <td>NaN</td>\n",
       "      <td>0.573633</td>\n",
       "    </tr>\n",
       "    <tr>\n",
       "      <th>Şen</th>\n",
       "      <td>1.165929</td>\n",
       "      <td>0.401707</td>\n",
       "      <td>0.736325</td>\n",
       "    </tr>\n",
       "  </tbody>\n",
       "</table>\n",
       "</div>"
      ],
      "text/plain": [
       "             Salary         Age  Seniority\n",
       "Yiğit      0.627066  100.000000        NaN\n",
       "Alperen    0.564884    0.298363   0.039799\n",
       "Bekiroğlu  0.933376         NaN   0.573633\n",
       "Şen        1.165929    0.401707   0.736325"
      ]
     },
     "execution_count": 36,
     "metadata": {},
     "output_type": "execute_result"
    }
   ],
   "source": [
    "new_df[boolean_frame]"
   ]
  },
  {
   "cell_type": "code",
   "execution_count": 38,
   "id": "4503a5a9-0cee-499d-9782-3b75e5336b9b",
   "metadata": {},
   "outputs": [
    {
     "data": {
      "text/html": [
       "<div>\n",
       "<style scoped>\n",
       "    .dataframe tbody tr th:only-of-type {\n",
       "        vertical-align: middle;\n",
       "    }\n",
       "\n",
       "    .dataframe tbody tr th {\n",
       "        vertical-align: top;\n",
       "    }\n",
       "\n",
       "    .dataframe thead th {\n",
       "        text-align: right;\n",
       "    }\n",
       "</style>\n",
       "<table border=\"1\" class=\"dataframe\">\n",
       "  <thead>\n",
       "    <tr style=\"text-align: right;\">\n",
       "      <th></th>\n",
       "      <th>Salary</th>\n",
       "      <th>Age</th>\n",
       "      <th>Seniority</th>\n",
       "    </tr>\n",
       "  </thead>\n",
       "  <tbody>\n",
       "    <tr>\n",
       "      <th>Yiğit</th>\n",
       "      <td>0.627066</td>\n",
       "      <td>100.000000</td>\n",
       "      <td>NaN</td>\n",
       "    </tr>\n",
       "    <tr>\n",
       "      <th>Alperen</th>\n",
       "      <td>0.564884</td>\n",
       "      <td>0.298363</td>\n",
       "      <td>0.039799</td>\n",
       "    </tr>\n",
       "    <tr>\n",
       "      <th>Bekiroğlu</th>\n",
       "      <td>0.933376</td>\n",
       "      <td>NaN</td>\n",
       "      <td>0.573633</td>\n",
       "    </tr>\n",
       "    <tr>\n",
       "      <th>Şen</th>\n",
       "      <td>1.165929</td>\n",
       "      <td>0.401707</td>\n",
       "      <td>0.736325</td>\n",
       "    </tr>\n",
       "  </tbody>\n",
       "</table>\n",
       "</div>"
      ],
      "text/plain": [
       "             Salary         Age  Seniority\n",
       "Yiğit      0.627066  100.000000        NaN\n",
       "Alperen    0.564884    0.298363   0.039799\n",
       "Bekiroğlu  0.933376         NaN   0.573633\n",
       "Şen        1.165929    0.401707   0.736325"
      ]
     },
     "execution_count": 38,
     "metadata": {},
     "output_type": "execute_result"
    }
   ],
   "source": [
    "new_df[new_df > 0]"
   ]
  },
  {
   "cell_type": "code",
   "execution_count": 39,
   "id": "9e76639c-d3b7-4aa5-ba18-1801d5427334",
   "metadata": {},
   "outputs": [
    {
     "data": {
      "text/html": [
       "<div>\n",
       "<style scoped>\n",
       "    .dataframe tbody tr th:only-of-type {\n",
       "        vertical-align: middle;\n",
       "    }\n",
       "\n",
       "    .dataframe tbody tr th {\n",
       "        vertical-align: top;\n",
       "    }\n",
       "\n",
       "    .dataframe thead th {\n",
       "        text-align: right;\n",
       "    }\n",
       "</style>\n",
       "<table border=\"1\" class=\"dataframe\">\n",
       "  <thead>\n",
       "    <tr style=\"text-align: right;\">\n",
       "      <th></th>\n",
       "      <th>Salary</th>\n",
       "      <th>Age</th>\n",
       "      <th>Seniority</th>\n",
       "    </tr>\n",
       "  </thead>\n",
       "  <tbody>\n",
       "    <tr>\n",
       "      <th>Yiğit</th>\n",
       "      <td>0.627066</td>\n",
       "      <td>100.0</td>\n",
       "      <td>-1.682893</td>\n",
       "    </tr>\n",
       "  </tbody>\n",
       "</table>\n",
       "</div>"
      ],
      "text/plain": [
       "         Salary    Age  Seniority\n",
       "Yiğit  0.627066  100.0  -1.682893"
      ]
     },
     "execution_count": 39,
     "metadata": {},
     "output_type": "execute_result"
    }
   ],
   "source": [
    "new_df[new_df[\"Age\"] > 1]"
   ]
  },
  {
   "cell_type": "code",
   "execution_count": 40,
   "id": "53c4eddc-6936-4cc7-a5a4-52b0e6d36cdc",
   "metadata": {},
   "outputs": [
    {
     "data": {
      "text/html": [
       "<div>\n",
       "<style scoped>\n",
       "    .dataframe tbody tr th:only-of-type {\n",
       "        vertical-align: middle;\n",
       "    }\n",
       "\n",
       "    .dataframe tbody tr th {\n",
       "        vertical-align: top;\n",
       "    }\n",
       "\n",
       "    .dataframe thead th {\n",
       "        text-align: right;\n",
       "    }\n",
       "</style>\n",
       "<table border=\"1\" class=\"dataframe\">\n",
       "  <thead>\n",
       "    <tr style=\"text-align: right;\">\n",
       "      <th></th>\n",
       "      <th>Salary</th>\n",
       "      <th>Age</th>\n",
       "      <th>Seniority</th>\n",
       "    </tr>\n",
       "  </thead>\n",
       "  <tbody>\n",
       "    <tr>\n",
       "      <th>Yiğit</th>\n",
       "      <td>0.627066</td>\n",
       "      <td>100.000000</td>\n",
       "      <td>-1.682893</td>\n",
       "    </tr>\n",
       "    <tr>\n",
       "      <th>Alperen</th>\n",
       "      <td>0.564884</td>\n",
       "      <td>0.298363</td>\n",
       "      <td>0.039799</td>\n",
       "    </tr>\n",
       "    <tr>\n",
       "      <th>Bekiroğlu</th>\n",
       "      <td>0.933376</td>\n",
       "      <td>-0.818932</td>\n",
       "      <td>0.573633</td>\n",
       "    </tr>\n",
       "    <tr>\n",
       "      <th>Şen</th>\n",
       "      <td>1.165929</td>\n",
       "      <td>0.401707</td>\n",
       "      <td>0.736325</td>\n",
       "    </tr>\n",
       "  </tbody>\n",
       "</table>\n",
       "</div>"
      ],
      "text/plain": [
       "             Salary         Age  Seniority\n",
       "Yiğit      0.627066  100.000000  -1.682893\n",
       "Alperen    0.564884    0.298363   0.039799\n",
       "Bekiroğlu  0.933376   -0.818932   0.573633\n",
       "Şen        1.165929    0.401707   0.736325"
      ]
     },
     "execution_count": 40,
     "metadata": {},
     "output_type": "execute_result"
    }
   ],
   "source": [
    "new_df"
   ]
  },
  {
   "cell_type": "code",
   "execution_count": 41,
   "id": "d06e14e5-0015-4d59-8b2e-820beff30b2a",
   "metadata": {},
   "outputs": [
    {
     "data": {
      "text/html": [
       "<div>\n",
       "<style scoped>\n",
       "    .dataframe tbody tr th:only-of-type {\n",
       "        vertical-align: middle;\n",
       "    }\n",
       "\n",
       "    .dataframe tbody tr th {\n",
       "        vertical-align: top;\n",
       "    }\n",
       "\n",
       "    .dataframe thead th {\n",
       "        text-align: right;\n",
       "    }\n",
       "</style>\n",
       "<table border=\"1\" class=\"dataframe\">\n",
       "  <thead>\n",
       "    <tr style=\"text-align: right;\">\n",
       "      <th></th>\n",
       "      <th>index</th>\n",
       "      <th>Salary</th>\n",
       "      <th>Age</th>\n",
       "      <th>Seniority</th>\n",
       "    </tr>\n",
       "  </thead>\n",
       "  <tbody>\n",
       "    <tr>\n",
       "      <th>0</th>\n",
       "      <td>Yiğit</td>\n",
       "      <td>0.627066</td>\n",
       "      <td>100.000000</td>\n",
       "      <td>-1.682893</td>\n",
       "    </tr>\n",
       "    <tr>\n",
       "      <th>1</th>\n",
       "      <td>Alperen</td>\n",
       "      <td>0.564884</td>\n",
       "      <td>0.298363</td>\n",
       "      <td>0.039799</td>\n",
       "    </tr>\n",
       "    <tr>\n",
       "      <th>2</th>\n",
       "      <td>Bekiroğlu</td>\n",
       "      <td>0.933376</td>\n",
       "      <td>-0.818932</td>\n",
       "      <td>0.573633</td>\n",
       "    </tr>\n",
       "    <tr>\n",
       "      <th>3</th>\n",
       "      <td>Şen</td>\n",
       "      <td>1.165929</td>\n",
       "      <td>0.401707</td>\n",
       "      <td>0.736325</td>\n",
       "    </tr>\n",
       "  </tbody>\n",
       "</table>\n",
       "</div>"
      ],
      "text/plain": [
       "       index    Salary         Age  Seniority\n",
       "0      Yiğit  0.627066  100.000000  -1.682893\n",
       "1    Alperen  0.564884    0.298363   0.039799\n",
       "2  Bekiroğlu  0.933376   -0.818932   0.573633\n",
       "3        Şen  1.165929    0.401707   0.736325"
      ]
     },
     "execution_count": 41,
     "metadata": {},
     "output_type": "execute_result"
    }
   ],
   "source": [
    "new_df.reset_index()"
   ]
  },
  {
   "cell_type": "code",
   "execution_count": 42,
   "id": "10fa5fe2-54c6-41bd-88dd-2321090da3c1",
   "metadata": {},
   "outputs": [],
   "source": [
    "reset_frame = new_df.reset_index()"
   ]
  },
  {
   "cell_type": "code",
   "execution_count": 43,
   "id": "cf84875c-ad0d-460e-a00c-381b56a77854",
   "metadata": {},
   "outputs": [
    {
     "data": {
      "text/html": [
       "<div>\n",
       "<style scoped>\n",
       "    .dataframe tbody tr th:only-of-type {\n",
       "        vertical-align: middle;\n",
       "    }\n",
       "\n",
       "    .dataframe tbody tr th {\n",
       "        vertical-align: top;\n",
       "    }\n",
       "\n",
       "    .dataframe thead th {\n",
       "        text-align: right;\n",
       "    }\n",
       "</style>\n",
       "<table border=\"1\" class=\"dataframe\">\n",
       "  <thead>\n",
       "    <tr style=\"text-align: right;\">\n",
       "      <th></th>\n",
       "      <th>index</th>\n",
       "      <th>Salary</th>\n",
       "      <th>Age</th>\n",
       "      <th>Seniority</th>\n",
       "    </tr>\n",
       "  </thead>\n",
       "  <tbody>\n",
       "    <tr>\n",
       "      <th>0</th>\n",
       "      <td>Yiğit</td>\n",
       "      <td>0.627066</td>\n",
       "      <td>100.000000</td>\n",
       "      <td>-1.682893</td>\n",
       "    </tr>\n",
       "    <tr>\n",
       "      <th>1</th>\n",
       "      <td>Alperen</td>\n",
       "      <td>0.564884</td>\n",
       "      <td>0.298363</td>\n",
       "      <td>0.039799</td>\n",
       "    </tr>\n",
       "    <tr>\n",
       "      <th>2</th>\n",
       "      <td>Bekiroğlu</td>\n",
       "      <td>0.933376</td>\n",
       "      <td>-0.818932</td>\n",
       "      <td>0.573633</td>\n",
       "    </tr>\n",
       "    <tr>\n",
       "      <th>3</th>\n",
       "      <td>Şen</td>\n",
       "      <td>1.165929</td>\n",
       "      <td>0.401707</td>\n",
       "      <td>0.736325</td>\n",
       "    </tr>\n",
       "  </tbody>\n",
       "</table>\n",
       "</div>"
      ],
      "text/plain": [
       "       index    Salary         Age  Seniority\n",
       "0      Yiğit  0.627066  100.000000  -1.682893\n",
       "1    Alperen  0.564884    0.298363   0.039799\n",
       "2  Bekiroğlu  0.933376   -0.818932   0.573633\n",
       "3        Şen  1.165929    0.401707   0.736325"
      ]
     },
     "execution_count": 43,
     "metadata": {},
     "output_type": "execute_result"
    }
   ],
   "source": [
    "reset_frame"
   ]
  },
  {
   "cell_type": "code",
   "execution_count": 44,
   "id": "2e4a9779-922e-4680-9aa9-078018ea5370",
   "metadata": {},
   "outputs": [
    {
     "data": {
      "text/plain": [
       "index           Yiğit\n",
       "Salary       0.627066\n",
       "Age             100.0\n",
       "Seniority   -1.682893\n",
       "Name: 0, dtype: object"
      ]
     },
     "execution_count": 44,
     "metadata": {},
     "output_type": "execute_result"
    }
   ],
   "source": [
    "reset_frame.loc[0]"
   ]
  },
  {
   "cell_type": "code",
   "execution_count": 45,
   "id": "d177c8eb-52f5-43ab-bc0d-aed4aa3a29bd",
   "metadata": {},
   "outputs": [],
   "source": [
    "new_indices = [\"ygt\",\"alp\",\"bek\",\"sn\"]"
   ]
  },
  {
   "cell_type": "code",
   "execution_count": 46,
   "id": "6902a8f7-f728-461d-ab00-dc2ad14feff4",
   "metadata": {},
   "outputs": [],
   "source": [
    "new_df[\"NewIndex\"] = new_indices "
   ]
  },
  {
   "cell_type": "code",
   "execution_count": 47,
   "id": "44ac5251-0f29-4ee7-8ebe-9109054f8efc",
   "metadata": {},
   "outputs": [
    {
     "data": {
      "text/html": [
       "<div>\n",
       "<style scoped>\n",
       "    .dataframe tbody tr th:only-of-type {\n",
       "        vertical-align: middle;\n",
       "    }\n",
       "\n",
       "    .dataframe tbody tr th {\n",
       "        vertical-align: top;\n",
       "    }\n",
       "\n",
       "    .dataframe thead th {\n",
       "        text-align: right;\n",
       "    }\n",
       "</style>\n",
       "<table border=\"1\" class=\"dataframe\">\n",
       "  <thead>\n",
       "    <tr style=\"text-align: right;\">\n",
       "      <th></th>\n",
       "      <th>Salary</th>\n",
       "      <th>Age</th>\n",
       "      <th>Seniority</th>\n",
       "      <th>NewIndex</th>\n",
       "    </tr>\n",
       "  </thead>\n",
       "  <tbody>\n",
       "    <tr>\n",
       "      <th>Yiğit</th>\n",
       "      <td>0.627066</td>\n",
       "      <td>100.000000</td>\n",
       "      <td>-1.682893</td>\n",
       "      <td>ygt</td>\n",
       "    </tr>\n",
       "    <tr>\n",
       "      <th>Alperen</th>\n",
       "      <td>0.564884</td>\n",
       "      <td>0.298363</td>\n",
       "      <td>0.039799</td>\n",
       "      <td>alp</td>\n",
       "    </tr>\n",
       "    <tr>\n",
       "      <th>Bekiroğlu</th>\n",
       "      <td>0.933376</td>\n",
       "      <td>-0.818932</td>\n",
       "      <td>0.573633</td>\n",
       "      <td>bek</td>\n",
       "    </tr>\n",
       "    <tr>\n",
       "      <th>Şen</th>\n",
       "      <td>1.165929</td>\n",
       "      <td>0.401707</td>\n",
       "      <td>0.736325</td>\n",
       "      <td>sn</td>\n",
       "    </tr>\n",
       "  </tbody>\n",
       "</table>\n",
       "</div>"
      ],
      "text/plain": [
       "             Salary         Age  Seniority NewIndex\n",
       "Yiğit      0.627066  100.000000  -1.682893      ygt\n",
       "Alperen    0.564884    0.298363   0.039799      alp\n",
       "Bekiroğlu  0.933376   -0.818932   0.573633      bek\n",
       "Şen        1.165929    0.401707   0.736325       sn"
      ]
     },
     "execution_count": 47,
     "metadata": {},
     "output_type": "execute_result"
    }
   ],
   "source": [
    "new_df"
   ]
  },
  {
   "cell_type": "code",
   "execution_count": 49,
   "id": "a128b30d-a1b6-4a84-807d-c5d31d8cdde0",
   "metadata": {},
   "outputs": [],
   "source": [
    "new_df.set_index(\"NewIndex\",inplace = True)"
   ]
  },
  {
   "cell_type": "code",
   "execution_count": 50,
   "id": "3d61b7a8-3fa9-4e49-89ab-17a622bcfd6f",
   "metadata": {},
   "outputs": [
    {
     "data": {
      "text/html": [
       "<div>\n",
       "<style scoped>\n",
       "    .dataframe tbody tr th:only-of-type {\n",
       "        vertical-align: middle;\n",
       "    }\n",
       "\n",
       "    .dataframe tbody tr th {\n",
       "        vertical-align: top;\n",
       "    }\n",
       "\n",
       "    .dataframe thead th {\n",
       "        text-align: right;\n",
       "    }\n",
       "</style>\n",
       "<table border=\"1\" class=\"dataframe\">\n",
       "  <thead>\n",
       "    <tr style=\"text-align: right;\">\n",
       "      <th></th>\n",
       "      <th>Salary</th>\n",
       "      <th>Age</th>\n",
       "      <th>Seniority</th>\n",
       "    </tr>\n",
       "    <tr>\n",
       "      <th>NewIndex</th>\n",
       "      <th></th>\n",
       "      <th></th>\n",
       "      <th></th>\n",
       "    </tr>\n",
       "  </thead>\n",
       "  <tbody>\n",
       "    <tr>\n",
       "      <th>ygt</th>\n",
       "      <td>0.627066</td>\n",
       "      <td>100.000000</td>\n",
       "      <td>-1.682893</td>\n",
       "    </tr>\n",
       "    <tr>\n",
       "      <th>alp</th>\n",
       "      <td>0.564884</td>\n",
       "      <td>0.298363</td>\n",
       "      <td>0.039799</td>\n",
       "    </tr>\n",
       "    <tr>\n",
       "      <th>bek</th>\n",
       "      <td>0.933376</td>\n",
       "      <td>-0.818932</td>\n",
       "      <td>0.573633</td>\n",
       "    </tr>\n",
       "    <tr>\n",
       "      <th>sn</th>\n",
       "      <td>1.165929</td>\n",
       "      <td>0.401707</td>\n",
       "      <td>0.736325</td>\n",
       "    </tr>\n",
       "  </tbody>\n",
       "</table>\n",
       "</div>"
      ],
      "text/plain": [
       "            Salary         Age  Seniority\n",
       "NewIndex                                 \n",
       "ygt       0.627066  100.000000  -1.682893\n",
       "alp       0.564884    0.298363   0.039799\n",
       "bek       0.933376   -0.818932   0.573633\n",
       "sn        1.165929    0.401707   0.736325"
      ]
     },
     "execution_count": 50,
     "metadata": {},
     "output_type": "execute_result"
    }
   ],
   "source": [
    "new_df"
   ]
  },
  {
   "cell_type": "code",
   "execution_count": 52,
   "id": "04922997-8e6a-4bc8-8847-5edf25877092",
   "metadata": {},
   "outputs": [
    {
     "data": {
      "text/plain": [
       "Salary         0.627066\n",
       "Age          100.000000\n",
       "Seniority     -1.682893\n",
       "Name: ygt, dtype: float64"
      ]
     },
     "execution_count": 52,
     "metadata": {},
     "output_type": "execute_result"
    }
   ],
   "source": [
    "new_df.loc[\"ygt\"]"
   ]
  },
  {
   "cell_type": "code",
   "execution_count": 53,
   "id": "5ecd1bda-efc0-4c4f-8973-e2e56db417bc",
   "metadata": {},
   "outputs": [],
   "source": [
    "# multi index"
   ]
  },
  {
   "cell_type": "code",
   "execution_count": 54,
   "id": "36b98f09-b9ad-49d2-a0c6-0203063bf13c",
   "metadata": {},
   "outputs": [],
   "source": [
    "first_index = [\"Simpson\", \"Simpson\", \"Simpson\", \"South Park\", \"South Park\", \"South Park\"]"
   ]
  },
  {
   "cell_type": "code",
   "execution_count": 55,
   "id": "56c4b49d-bcd2-4e6c-ad01-f722063bec24",
   "metadata": {},
   "outputs": [],
   "source": [
    "inner_index = [\"Homer\",\"Bart\",\"Marge\",\"Cartman\",\"Kenny\",\"Kyle\"]"
   ]
  },
  {
   "cell_type": "code",
   "execution_count": 56,
   "id": "c187af8c-0b6e-4415-9ead-3550dc4136a0",
   "metadata": {},
   "outputs": [],
   "source": [
    "zipped_index = list(zip(first_index,inner_index))"
   ]
  },
  {
   "cell_type": "code",
   "execution_count": 57,
   "id": "0318f48a-6ec1-44bc-aace-d7a8e3e36c1e",
   "metadata": {},
   "outputs": [
    {
     "data": {
      "text/plain": [
       "[('Simpson', 'Homer'),\n",
       " ('Simpson', 'Bart'),\n",
       " ('Simpson', 'Marge'),\n",
       " ('South Park', 'Cartman'),\n",
       " ('South Park', 'Kenny'),\n",
       " ('South Park', 'Kyle')]"
      ]
     },
     "execution_count": 57,
     "metadata": {},
     "output_type": "execute_result"
    }
   ],
   "source": [
    "zipped_index"
   ]
  },
  {
   "cell_type": "code",
   "execution_count": 58,
   "id": "7bd91a95-e5c6-44aa-9e32-57401ca8d2ca",
   "metadata": {},
   "outputs": [],
   "source": [
    "zipped_index = pd.MultiIndex.from_tuples(zipped_index)"
   ]
  },
  {
   "cell_type": "code",
   "execution_count": 59,
   "id": "5fa1beac-2892-4f08-80e5-d9f2cb1e9bff",
   "metadata": {},
   "outputs": [
    {
     "data": {
      "text/plain": [
       "MultiIndex([(   'Simpson',   'Homer'),\n",
       "            (   'Simpson',    'Bart'),\n",
       "            (   'Simpson',   'Marge'),\n",
       "            ('South Park', 'Cartman'),\n",
       "            ('South Park',   'Kenny'),\n",
       "            ('South Park',    'Kyle')],\n",
       "           )"
      ]
     },
     "execution_count": 59,
     "metadata": {},
     "output_type": "execute_result"
    }
   ],
   "source": [
    "zipped_index"
   ]
  },
  {
   "cell_type": "code",
   "execution_count": 60,
   "id": "985db64c-fc58-425c-b1f7-66909f8c1e0a",
   "metadata": {},
   "outputs": [],
   "source": [
    "sample_values = np.ones((6,2))"
   ]
  },
  {
   "cell_type": "code",
   "execution_count": 61,
   "id": "6107ac11-8a01-4e08-893f-6180e14af439",
   "metadata": {},
   "outputs": [],
   "source": [
    "big_df = pd.DataFrame(sample_values, index = zipped_index, columns= [\"Age\",\"Salary\"])"
   ]
  },
  {
   "cell_type": "code",
   "execution_count": 62,
   "id": "fa2065df-2554-4df5-aef1-01fe0201c34f",
   "metadata": {},
   "outputs": [
    {
     "data": {
      "text/html": [
       "<div>\n",
       "<style scoped>\n",
       "    .dataframe tbody tr th:only-of-type {\n",
       "        vertical-align: middle;\n",
       "    }\n",
       "\n",
       "    .dataframe tbody tr th {\n",
       "        vertical-align: top;\n",
       "    }\n",
       "\n",
       "    .dataframe thead th {\n",
       "        text-align: right;\n",
       "    }\n",
       "</style>\n",
       "<table border=\"1\" class=\"dataframe\">\n",
       "  <thead>\n",
       "    <tr style=\"text-align: right;\">\n",
       "      <th></th>\n",
       "      <th></th>\n",
       "      <th>Age</th>\n",
       "      <th>Salary</th>\n",
       "    </tr>\n",
       "  </thead>\n",
       "  <tbody>\n",
       "    <tr>\n",
       "      <th rowspan=\"3\" valign=\"top\">Simpson</th>\n",
       "      <th>Homer</th>\n",
       "      <td>1.0</td>\n",
       "      <td>1.0</td>\n",
       "    </tr>\n",
       "    <tr>\n",
       "      <th>Bart</th>\n",
       "      <td>1.0</td>\n",
       "      <td>1.0</td>\n",
       "    </tr>\n",
       "    <tr>\n",
       "      <th>Marge</th>\n",
       "      <td>1.0</td>\n",
       "      <td>1.0</td>\n",
       "    </tr>\n",
       "    <tr>\n",
       "      <th rowspan=\"3\" valign=\"top\">South Park</th>\n",
       "      <th>Cartman</th>\n",
       "      <td>1.0</td>\n",
       "      <td>1.0</td>\n",
       "    </tr>\n",
       "    <tr>\n",
       "      <th>Kenny</th>\n",
       "      <td>1.0</td>\n",
       "      <td>1.0</td>\n",
       "    </tr>\n",
       "    <tr>\n",
       "      <th>Kyle</th>\n",
       "      <td>1.0</td>\n",
       "      <td>1.0</td>\n",
       "    </tr>\n",
       "  </tbody>\n",
       "</table>\n",
       "</div>"
      ],
      "text/plain": [
       "                    Age  Salary\n",
       "Simpson    Homer    1.0     1.0\n",
       "           Bart     1.0     1.0\n",
       "           Marge    1.0     1.0\n",
       "South Park Cartman  1.0     1.0\n",
       "           Kenny    1.0     1.0\n",
       "           Kyle     1.0     1.0"
      ]
     },
     "execution_count": 62,
     "metadata": {},
     "output_type": "execute_result"
    }
   ],
   "source": [
    "big_df"
   ]
  },
  {
   "cell_type": "code",
   "execution_count": 63,
   "id": "9e3f2f43-5815-4707-8c2c-667082500dee",
   "metadata": {},
   "outputs": [
    {
     "data": {
      "text/plain": [
       "Simpson     Homer      1.0\n",
       "            Bart       1.0\n",
       "            Marge      1.0\n",
       "South Park  Cartman    1.0\n",
       "            Kenny      1.0\n",
       "            Kyle       1.0\n",
       "Name: Age, dtype: float64"
      ]
     },
     "execution_count": 63,
     "metadata": {},
     "output_type": "execute_result"
    }
   ],
   "source": [
    "big_df[\"Age\"]"
   ]
  },
  {
   "cell_type": "code",
   "execution_count": 66,
   "id": "1b9947e9-aa4c-4186-b81f-6e281029a6bc",
   "metadata": {},
   "outputs": [
    {
     "data": {
      "text/html": [
       "<div>\n",
       "<style scoped>\n",
       "    .dataframe tbody tr th:only-of-type {\n",
       "        vertical-align: middle;\n",
       "    }\n",
       "\n",
       "    .dataframe tbody tr th {\n",
       "        vertical-align: top;\n",
       "    }\n",
       "\n",
       "    .dataframe thead th {\n",
       "        text-align: right;\n",
       "    }\n",
       "</style>\n",
       "<table border=\"1\" class=\"dataframe\">\n",
       "  <thead>\n",
       "    <tr style=\"text-align: right;\">\n",
       "      <th></th>\n",
       "      <th>Age</th>\n",
       "      <th>Salary</th>\n",
       "    </tr>\n",
       "  </thead>\n",
       "  <tbody>\n",
       "    <tr>\n",
       "      <th>Homer</th>\n",
       "      <td>1.0</td>\n",
       "      <td>1.0</td>\n",
       "    </tr>\n",
       "    <tr>\n",
       "      <th>Bart</th>\n",
       "      <td>1.0</td>\n",
       "      <td>1.0</td>\n",
       "    </tr>\n",
       "    <tr>\n",
       "      <th>Marge</th>\n",
       "      <td>1.0</td>\n",
       "      <td>1.0</td>\n",
       "    </tr>\n",
       "  </tbody>\n",
       "</table>\n",
       "</div>"
      ],
      "text/plain": [
       "       Age  Salary\n",
       "Homer  1.0     1.0\n",
       "Bart   1.0     1.0\n",
       "Marge  1.0     1.0"
      ]
     },
     "execution_count": 66,
     "metadata": {},
     "output_type": "execute_result"
    }
   ],
   "source": [
    "big_df.loc[\"Simpson\"]"
   ]
  },
  {
   "cell_type": "code",
   "execution_count": 67,
   "id": "2b4fe1cf-4995-489e-9c8d-c0773600d07b",
   "metadata": {},
   "outputs": [
    {
     "data": {
      "text/plain": [
       "Age       1.0\n",
       "Salary    1.0\n",
       "Name: Homer, dtype: float64"
      ]
     },
     "execution_count": 67,
     "metadata": {},
     "output_type": "execute_result"
    }
   ],
   "source": [
    "big_df.loc[\"Simpson\"].loc[\"Homer\"]"
   ]
  }
 ],
 "metadata": {
  "kernelspec": {
   "display_name": "Python 3 (ipykernel)",
   "language": "python",
   "name": "python3"
  },
  "language_info": {
   "codemirror_mode": {
    "name": "ipython",
    "version": 3
   },
   "file_extension": ".py",
   "mimetype": "text/x-python",
   "name": "python",
   "nbconvert_exporter": "python",
   "pygments_lexer": "ipython3",
   "version": "3.12.7"
  }
 },
 "nbformat": 4,
 "nbformat_minor": 5
}
