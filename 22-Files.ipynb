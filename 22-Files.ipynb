{
 "cells": [
  {
   "cell_type": "code",
   "execution_count": 2,
   "id": "523de7e0-595a-43b9-a025-45b6521f7b28",
   "metadata": {},
   "outputs": [
    {
     "name": "stdout",
     "output_type": "stream",
     "text": [
      "Writing myfile.txt\n"
     ]
    }
   ],
   "source": [
    "%%writefile myfile.txt\n",
    "test1\n",
    "test2\n",
    "test3"
   ]
  },
  {
   "cell_type": "code",
   "execution_count": 6,
   "id": "d09d855c-d3ae-4e43-afe1-7ca9a2edee5a",
   "metadata": {},
   "outputs": [],
   "source": [
    "myFile = open(\"myfile.txt\") # dosya uzantısına tek tek gitmedik çünkü bu dosyayı oluşturduğumuz yerle aynı konumda."
   ]
  },
  {
   "cell_type": "code",
   "execution_count": 7,
   "id": "633d6815-1768-4840-a8b0-70cb9f8026b9",
   "metadata": {},
   "outputs": [
    {
     "data": {
      "text/plain": [
       "_io.TextIOWrapper"
      ]
     },
     "execution_count": 7,
     "metadata": {},
     "output_type": "execute_result"
    }
   ],
   "source": [
    "type(myFile)"
   ]
  },
  {
   "cell_type": "code",
   "execution_count": 9,
   "id": "aec8537f-6b73-4e0f-99e0-3b007c062536",
   "metadata": {},
   "outputs": [
    {
     "data": {
      "text/plain": [
       "'test1\\ntest2\\ntest3\\n'"
      ]
     },
     "execution_count": 9,
     "metadata": {},
     "output_type": "execute_result"
    }
   ],
   "source": [
    "myFile.read()"
   ]
  },
  {
   "cell_type": "code",
   "execution_count": 10,
   "id": "e58c1557-b006-48e9-ae2d-caa5ed557c8b",
   "metadata": {},
   "outputs": [
    {
     "data": {
      "text/plain": [
       "''"
      ]
     },
     "execution_count": 10,
     "metadata": {},
     "output_type": "execute_result"
    }
   ],
   "source": [
    "myFile.read()"
   ]
  },
  {
   "cell_type": "code",
   "execution_count": 12,
   "id": "ca3d007c-cc0f-4ccc-bb09-fd66ebe2c8fa",
   "metadata": {},
   "outputs": [
    {
     "data": {
      "text/plain": [
       "0"
      ]
     },
     "execution_count": 12,
     "metadata": {},
     "output_type": "execute_result"
    }
   ],
   "source": [
    "myFile.seek(0)"
   ]
  },
  {
   "cell_type": "code",
   "execution_count": 13,
   "id": "1ffbed91-8fa9-47fb-bbd3-b27643f7c19d",
   "metadata": {},
   "outputs": [
    {
     "data": {
      "text/plain": [
       "'test1\\ntest2\\ntest3\\n'"
      ]
     },
     "execution_count": 13,
     "metadata": {},
     "output_type": "execute_result"
    }
   ],
   "source": [
    "myFile.read()"
   ]
  },
  {
   "cell_type": "code",
   "execution_count": 14,
   "id": "e0c3241a-4b69-4501-af59-a4ccf10c6f7b",
   "metadata": {},
   "outputs": [],
   "source": [
    "myFile.close()"
   ]
  },
  {
   "cell_type": "code",
   "execution_count": 15,
   "id": "99ffa561-5e51-477d-9331-0f7a5a90167d",
   "metadata": {},
   "outputs": [],
   "source": [
    "with open(\"myfile.txt\") as myFile:\n",
    "    myContent = myFile.read()"
   ]
  },
  {
   "cell_type": "code",
   "execution_count": 16,
   "id": "433fdded-832d-449a-b5ec-79e59e08d403",
   "metadata": {},
   "outputs": [
    {
     "data": {
      "text/plain": [
       "'test1\\ntest2\\ntest3\\n'"
      ]
     },
     "execution_count": 16,
     "metadata": {},
     "output_type": "execute_result"
    }
   ],
   "source": [
    "myContent"
   ]
  },
  {
   "cell_type": "code",
   "execution_count": 17,
   "id": "cbf8f5a2-9bd5-4e58-b1f6-9e12ad1c6783",
   "metadata": {},
   "outputs": [
    {
     "data": {
      "text/plain": [
       "'test1\\ntest2\\ntest3\\n'"
      ]
     },
     "execution_count": 17,
     "metadata": {},
     "output_type": "execute_result"
    }
   ],
   "source": [
    "myContent"
   ]
  },
  {
   "cell_type": "code",
   "execution_count": 38,
   "id": "4a31aa50-eb91-47c9-8f71-f43278db57d9",
   "metadata": {},
   "outputs": [],
   "source": [
    "with open(\"myfile.txt\", mode = \"w\") as myNewFile:\n",
    "    myNewFile.write(\"test 4\")"
   ]
  },
  {
   "cell_type": "code",
   "execution_count": 39,
   "id": "bda3589e-bbca-4a19-9a8b-f5cf8e8ac336",
   "metadata": {},
   "outputs": [
    {
     "data": {
      "text/plain": [
       "<_io.TextIOWrapper name='myfile.txt' mode='w' encoding='cp1254'>"
      ]
     },
     "execution_count": 39,
     "metadata": {},
     "output_type": "execute_result"
    }
   ],
   "source": [
    "myNewFile"
   ]
  },
  {
   "cell_type": "code",
   "execution_count": 40,
   "id": "3c28c5ce-3083-438e-bbf0-6d14c0183f92",
   "metadata": {},
   "outputs": [],
   "source": [
    "with open(\"myfile.txt\", mode = \"r\") as myFile2:\n",
    "    myContent = myFile2.read()"
   ]
  },
  {
   "cell_type": "code",
   "execution_count": 41,
   "id": "3b8f7570-db52-418a-8d72-ee29d6e5b17a",
   "metadata": {},
   "outputs": [
    {
     "data": {
      "text/plain": [
       "'test 4'"
      ]
     },
     "execution_count": 41,
     "metadata": {},
     "output_type": "execute_result"
    }
   ],
   "source": [
    "myContent"
   ]
  },
  {
   "cell_type": "markdown",
   "id": "2d951c16-68e5-4554-b585-a358d7db8135",
   "metadata": {},
   "source": [
    "w --> write, r--> read, a--> append"
   ]
  },
  {
   "cell_type": "code",
   "execution_count": 42,
   "id": "c6ec85a7-5ca2-44d5-b134-16a6da4bdee8",
   "metadata": {},
   "outputs": [],
   "source": [
    "with open(\"myfile.txt\", mode = \"a\") as myNewFile3:\n",
    "    myNewFile3.write(\"test 5\")"
   ]
  },
  {
   "cell_type": "code",
   "execution_count": 43,
   "id": "f4ace33c-04e9-460f-9311-660dfdf9d034",
   "metadata": {},
   "outputs": [],
   "source": [
    "with open(\"myfile.txt\", mode = \"r\") as myNewFile4:\n",
    "    myContent = myNewFile4.read()"
   ]
  },
  {
   "cell_type": "code",
   "execution_count": 44,
   "id": "2a715407-7f10-4718-ab17-74d5be3c43ec",
   "metadata": {},
   "outputs": [
    {
     "data": {
      "text/plain": [
       "'test 4test 5'"
      ]
     },
     "execution_count": 44,
     "metadata": {},
     "output_type": "execute_result"
    }
   ],
   "source": [
    "myContent"
   ]
  },
  {
   "cell_type": "code",
   "execution_count": null,
   "id": "78c0850e-0d59-4002-a5d2-41dd5109ab81",
   "metadata": {},
   "outputs": [],
   "source": []
  }
 ],
 "metadata": {
  "kernelspec": {
   "display_name": "Python 3 (ipykernel)",
   "language": "python",
   "name": "python3"
  },
  "language_info": {
   "codemirror_mode": {
    "name": "ipython",
    "version": 3
   },
   "file_extension": ".py",
   "mimetype": "text/x-python",
   "name": "python",
   "nbconvert_exporter": "python",
   "pygments_lexer": "ipython3",
   "version": "3.12.7"
  }
 },
 "nbformat": 4,
 "nbformat_minor": 5
}
