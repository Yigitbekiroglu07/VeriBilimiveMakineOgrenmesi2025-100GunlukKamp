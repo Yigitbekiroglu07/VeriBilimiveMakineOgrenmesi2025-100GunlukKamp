{
 "cells": [
  {
   "cell_type": "code",
   "execution_count": 1,
   "id": "fff89f18-052b-4d8e-90a3-62f587155ae1",
   "metadata": {},
   "outputs": [],
   "source": [
    "x = 3\n",
    "y = 5"
   ]
  },
  {
   "cell_type": "code",
   "execution_count": 2,
   "id": "8bf8d06e-2db4-4e0c-b5bb-a04e1bc42e77",
   "metadata": {},
   "outputs": [
    {
     "data": {
      "text/plain": [
       "False"
      ]
     },
     "execution_count": 2,
     "metadata": {},
     "output_type": "execute_result"
    }
   ],
   "source": [
    "x > y"
   ]
  },
  {
   "cell_type": "code",
   "execution_count": 3,
   "id": "e6e1833b-4ae7-4f07-9f3e-0636e39e5cea",
   "metadata": {},
   "outputs": [
    {
     "data": {
      "text/plain": [
       "True"
      ]
     },
     "execution_count": 3,
     "metadata": {},
     "output_type": "execute_result"
    }
   ],
   "source": [
    "y > x"
   ]
  },
  {
   "cell_type": "code",
   "execution_count": 4,
   "id": "f78cda67-f150-45ef-a49d-ca5186cb894e",
   "metadata": {},
   "outputs": [
    {
     "data": {
      "text/plain": [
       "True"
      ]
     },
     "execution_count": 4,
     "metadata": {},
     "output_type": "execute_result"
    }
   ],
   "source": [
    "x < y"
   ]
  },
  {
   "cell_type": "code",
   "execution_count": 5,
   "id": "ba40cc1f-5854-4e2a-99d5-86d3970903a8",
   "metadata": {},
   "outputs": [
    {
     "data": {
      "text/plain": [
       "False"
      ]
     },
     "execution_count": 5,
     "metadata": {},
     "output_type": "execute_result"
    }
   ],
   "source": [
    "y < x"
   ]
  },
  {
   "cell_type": "code",
   "execution_count": 6,
   "id": "18b16c07-df6e-484f-b1ea-6e76c193fc6f",
   "metadata": {},
   "outputs": [],
   "source": [
    "x = 5\n",
    "y = 5"
   ]
  },
  {
   "cell_type": "code",
   "execution_count": 7,
   "id": "297b3987-284e-4bae-b650-d62b5d6f5310",
   "metadata": {},
   "outputs": [
    {
     "data": {
      "text/plain": [
       "True"
      ]
     },
     "execution_count": 7,
     "metadata": {},
     "output_type": "execute_result"
    }
   ],
   "source": [
    "x >= 5"
   ]
  },
  {
   "cell_type": "code",
   "execution_count": 8,
   "id": "1ac8ca19-956b-4dec-9e99-d852b3d5a006",
   "metadata": {},
   "outputs": [
    {
     "data": {
      "text/plain": [
       "True"
      ]
     },
     "execution_count": 8,
     "metadata": {},
     "output_type": "execute_result"
    }
   ],
   "source": [
    "y >= 5"
   ]
  },
  {
   "cell_type": "code",
   "execution_count": 9,
   "id": "0db75a2d-db34-4e71-9129-5a706317138b",
   "metadata": {},
   "outputs": [
    {
     "data": {
      "text/plain": [
       "True"
      ]
     },
     "execution_count": 9,
     "metadata": {},
     "output_type": "execute_result"
    }
   ],
   "source": [
    "x >= 5.00"
   ]
  },
  {
   "cell_type": "code",
   "execution_count": 10,
   "id": "1780a2f6-963f-44bf-b663-c030c55aefc4",
   "metadata": {},
   "outputs": [
    {
     "data": {
      "text/plain": [
       "False"
      ]
     },
     "execution_count": 10,
     "metadata": {},
     "output_type": "execute_result"
    }
   ],
   "source": [
    "y >= 5.001 "
   ]
  },
  {
   "cell_type": "code",
   "execution_count": 11,
   "id": "b7dc4010-75a6-46f3-8e59-c816e081e3f5",
   "metadata": {},
   "outputs": [],
   "source": [
    "x = 10"
   ]
  },
  {
   "cell_type": "code",
   "execution_count": 12,
   "id": "ba048b8e-5882-41ab-98cc-c81875d1c4db",
   "metadata": {},
   "outputs": [],
   "source": [
    "y = 8"
   ]
  },
  {
   "cell_type": "code",
   "execution_count": 13,
   "id": "69ffea0f-782f-42bc-a465-8c3367aaf994",
   "metadata": {},
   "outputs": [],
   "source": [
    "x = y"
   ]
  },
  {
   "cell_type": "code",
   "execution_count": 14,
   "id": "4c1e5bb5-9024-4852-bcfe-e5cc27eaaf14",
   "metadata": {},
   "outputs": [
    {
     "data": {
      "text/plain": [
       "8"
      ]
     },
     "execution_count": 14,
     "metadata": {},
     "output_type": "execute_result"
    }
   ],
   "source": [
    "x"
   ]
  },
  {
   "cell_type": "code",
   "execution_count": 15,
   "id": "8f44099c-7b5d-4756-9d89-a9b0132b3d0d",
   "metadata": {},
   "outputs": [
    {
     "data": {
      "text/plain": [
       "True"
      ]
     },
     "execution_count": 15,
     "metadata": {},
     "output_type": "execute_result"
    }
   ],
   "source": [
    "x == y"
   ]
  },
  {
   "cell_type": "code",
   "execution_count": 16,
   "id": "0a30bfda-8bc1-4c0e-a029-69969740eb60",
   "metadata": {},
   "outputs": [
    {
     "data": {
      "text/plain": [
       "False"
      ]
     },
     "execution_count": 16,
     "metadata": {},
     "output_type": "execute_result"
    }
   ],
   "source": [
    "x != y"
   ]
  },
  {
   "cell_type": "code",
   "execution_count": 17,
   "id": "3b954f31-2c25-4f65-aef3-1b3a1d310034",
   "metadata": {},
   "outputs": [
    {
     "data": {
      "text/plain": [
       "False"
      ]
     },
     "execution_count": 17,
     "metadata": {},
     "output_type": "execute_result"
    }
   ],
   "source": [
    "1 > 2 and 3 > 2"
   ]
  },
  {
   "cell_type": "code",
   "execution_count": 18,
   "id": "0f4ae446-a514-48e5-8d3c-0fb2ba9c38a3",
   "metadata": {},
   "outputs": [
    {
     "data": {
      "text/plain": [
       "True"
      ]
     },
     "execution_count": 18,
     "metadata": {},
     "output_type": "execute_result"
    }
   ],
   "source": [
    "2 < 3 or 5 < 3"
   ]
  },
  {
   "cell_type": "code",
   "execution_count": 19,
   "id": "ae042972-3965-4af5-a124-a04e96fa8178",
   "metadata": {},
   "outputs": [],
   "source": [
    "my_set = {10,20,30}"
   ]
  },
  {
   "cell_type": "code",
   "execution_count": 20,
   "id": "64e0b4a8-20af-47b0-8128-a1207d98c04c",
   "metadata": {},
   "outputs": [
    {
     "data": {
      "text/plain": [
       "True"
      ]
     },
     "execution_count": 20,
     "metadata": {},
     "output_type": "execute_result"
    }
   ],
   "source": [
    "10 in my_set"
   ]
  },
  {
   "cell_type": "code",
   "execution_count": 25,
   "id": "d99a658b-3778-4c24-b395-a606efe21eab",
   "metadata": {},
   "outputs": [],
   "source": [
    "my_superhero = \"batman\""
   ]
  },
  {
   "cell_type": "code",
   "execution_count": 27,
   "id": "76ae70d5-1967-4c41-83c6-1dd76bbce78c",
   "metadata": {},
   "outputs": [
    {
     "name": "stdout",
     "output_type": "stream",
     "text": [
      "batman\n",
      "yiğit alperen bekiroğlu\n",
      "hello python\n"
     ]
    }
   ],
   "source": [
    "if my_superhero == \"batman\":\n",
    "    print(\"batman\")\n",
    "    print(\"yiğit alperen bekiroğlu\")\n",
    "# --- if bloğu artık bitti -----\n",
    "print(\"hello python\")"
   ]
  },
  {
   "cell_type": "code",
   "execution_count": 28,
   "id": "1eb12d27-abbb-4129-82c9-6e6fb901bb15",
   "metadata": {},
   "outputs": [
    {
     "name": "stdout",
     "output_type": "stream",
     "text": [
      "Fenerbahçe\n"
     ]
    }
   ],
   "source": [
    "if 5 > 2:\n",
    "    print(\"Fenerbahçe\")"
   ]
  },
  {
   "cell_type": "code",
   "execution_count": 37,
   "id": "b4b17670-da33-4baf-a2b3-0eade12a2f1f",
   "metadata": {},
   "outputs": [
    {
     "name": "stdin",
     "output_type": "stream",
     "text": [
      "my name is:  yiğit\n"
     ]
    }
   ],
   "source": [
    "my_name = input(\"my name is: \")"
   ]
  },
  {
   "cell_type": "code",
   "execution_count": 38,
   "id": "37eedf19-3954-4a76-9dab-c246256a2752",
   "metadata": {},
   "outputs": [
    {
     "name": "stdout",
     "output_type": "stream",
     "text": [
      "100\n"
     ]
    }
   ],
   "source": [
    "if my_name == \"yiğit\":\n",
    "    print(\"100\")\n",
    "elif my_name == \"kerem\":\n",
    "    print(\"90\")\n",
    "elif my_name == \"ümit\":\n",
    "    print(\"80\")\n",
    "else:\n",
    "    print(\"60\")"
   ]
  },
  {
   "cell_type": "code",
   "execution_count": 39,
   "id": "6aac639b-877a-471d-82ef-0e16d7d1c86a",
   "metadata": {},
   "outputs": [
    {
     "name": "stdin",
     "output_type": "stream",
     "text": [
      "my superhero is:  spiderman\n"
     ]
    }
   ],
   "source": [
    "my_superhero = input(\"my superhero is: \")"
   ]
  },
  {
   "cell_type": "code",
   "execution_count": 40,
   "id": "ffc4b091-01a9-4789-9fe4-52745b7c603e",
   "metadata": {},
   "outputs": [],
   "source": [
    "my_superhero_list = [\"spiderman\", \"superman\",\"batman\"]"
   ]
  },
  {
   "cell_type": "code",
   "execution_count": 42,
   "id": "4d6f3cb0-ebfd-41be-a008-af0ce4b71bbc",
   "metadata": {},
   "outputs": [
    {
     "name": "stdout",
     "output_type": "stream",
     "text": [
      ":)\n"
     ]
    }
   ],
   "source": [
    "if my_superhero in my_superhero_list:\n",
    "    print(\":)\")\n",
    "else:\n",
    "    print(\":(\")"
   ]
  },
  {
   "cell_type": "code",
   "execution_count": null,
   "id": "41496deb-5c7c-4ace-a145-11923c01bf85",
   "metadata": {},
   "outputs": [],
   "source": []
  }
 ],
 "metadata": {
  "kernelspec": {
   "display_name": "Python 3 (ipykernel)",
   "language": "python",
   "name": "python3"
  },
  "language_info": {
   "codemirror_mode": {
    "name": "ipython",
    "version": 3
   },
   "file_extension": ".py",
   "mimetype": "text/x-python",
   "name": "python",
   "nbconvert_exporter": "python",
   "pygments_lexer": "ipython3",
   "version": "3.12.7"
  }
 },
 "nbformat": 4,
 "nbformat_minor": 5
}
