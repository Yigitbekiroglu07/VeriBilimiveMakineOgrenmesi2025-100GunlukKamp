{
 "cells": [
  {
   "cell_type": "code",
   "execution_count": null,
   "id": "c0e15324-a4ab-405f-9f56-9fb592d6c038",
   "metadata": {},
   "outputs": [],
   "source": [
    "# for loop - while lopp"
   ]
  },
  {
   "cell_type": "code",
   "execution_count": null,
   "id": "80718799-6f89-488d-9699-02b9610f645c",
   "metadata": {},
   "outputs": [],
   "source": [
    "# for loop"
   ]
  },
  {
   "cell_type": "code",
   "execution_count": null,
   "id": "33161c52-9d06-4100-a945-789e60660b66",
   "metadata": {},
   "outputs": [],
   "source": [
    "my_list = [10,20,30,40,50,60,70]"
   ]
  },
  {
   "cell_type": "code",
   "execution_count": null,
   "id": "1d2d4ded-7b00-415a-be02-b9d80ff6e17d",
   "metadata": {},
   "outputs": [],
   "source": [
    "my_list[0] / 5"
   ]
  },
  {
   "cell_type": "code",
   "execution_count": null,
   "id": "43915968-e5ad-4113-9206-4d6346c49c61",
   "metadata": {},
   "outputs": [],
   "source": [
    "my_list[1] / 5"
   ]
  },
  {
   "cell_type": "code",
   "execution_count": null,
   "id": "d6ec5e20-9984-4d9f-9ce3-a8c909ddc2f7",
   "metadata": {},
   "outputs": [],
   "source": [
    "for num in my_list:\n",
    "    print(num/5)"
   ]
  },
  {
   "cell_type": "code",
   "execution_count": null,
   "id": "9270e601-937b-4a09-a930-a770a383331f",
   "metadata": {},
   "outputs": [],
   "source": [
    "my_list"
   ]
  },
  {
   "cell_type": "code",
   "execution_count": null,
   "id": "a4b53661-7758-44e9-98bd-dc6cea1b4373",
   "metadata": {},
   "outputs": [],
   "source": [
    "for x in my_list:\n",
    "    if x % 6 == 0:\n",
    "        print(x)"
   ]
  },
  {
   "cell_type": "code",
   "execution_count": null,
   "id": "0e3de751-bc68-4608-8647-01184788acf8",
   "metadata": {},
   "outputs": [],
   "source": [
    "number_list = [1,2,3,4,5,6,7,8,9,10]"
   ]
  },
  {
   "cell_type": "code",
   "execution_count": null,
   "id": "92bf39d1-42c9-417e-a057-d639b3fabd9f",
   "metadata": {},
   "outputs": [],
   "source": [
    "for y in number_list:\n",
    "    if y % 2 == 0:\n",
    "        print(y)"
   ]
  },
  {
   "cell_type": "code",
   "execution_count": null,
   "id": "531008d1-4daa-4a84-bbca-448e4e99f7f5",
   "metadata": {},
   "outputs": [],
   "source": [
    "my_name = \"yiğit\""
   ]
  },
  {
   "cell_type": "code",
   "execution_count": null,
   "id": "7f2335d2-deec-4154-b76c-bee57b2ef8a8",
   "metadata": {},
   "outputs": [],
   "source": [
    "for x in my_name:\n",
    "    print(x)"
   ]
  },
  {
   "cell_type": "code",
   "execution_count": null,
   "id": "80055aa0-3dfa-4fb7-8c01-ea654f4f4037",
   "metadata": {},
   "outputs": [],
   "source": [
    "my_tuple = (1,2,3)"
   ]
  },
  {
   "cell_type": "code",
   "execution_count": null,
   "id": "ed99a47a-90bf-4b01-856a-6afffdaf4ce8",
   "metadata": {},
   "outputs": [],
   "source": [
    "for z in my_tuple:\n",
    "    print(z/2 *3)"
   ]
  },
  {
   "cell_type": "code",
   "execution_count": null,
   "id": "c421f9a9-87c0-49e4-bc64-499d0124de85",
   "metadata": {},
   "outputs": [],
   "source": [
    "my_tuple"
   ]
  },
  {
   "cell_type": "code",
   "execution_count": null,
   "id": "2047d3c4-f5f5-4908-8868-2ae92b017045",
   "metadata": {},
   "outputs": [],
   "source": [
    "my_new_list = [(\"a\",\"b\"),(\"c\",\"d\"),(\"e\",\"f\"),(\"g\",\"h\")]"
   ]
  },
  {
   "cell_type": "code",
   "execution_count": null,
   "id": "eb299718-f3f7-4560-a5ed-b92f07e27f79",
   "metadata": {},
   "outputs": [],
   "source": [
    "len(my_new_list)"
   ]
  },
  {
   "cell_type": "code",
   "execution_count": null,
   "id": "6372d6c6-44f9-407b-8315-6bda6fee421b",
   "metadata": {},
   "outputs": [],
   "source": [
    "for elements in my_new_list:\n",
    "    print(elements)"
   ]
  },
  {
   "cell_type": "code",
   "execution_count": null,
   "id": "9e263b93-9539-4a8e-845e-f7ee1bff0fe4",
   "metadata": {},
   "outputs": [],
   "source": [
    "# tuple unpacking"
   ]
  },
  {
   "cell_type": "code",
   "execution_count": null,
   "id": "9b6597e1-e343-42b5-acd7-85010ba97b17",
   "metadata": {},
   "outputs": [],
   "source": [
    "my_new_list[2][1]"
   ]
  },
  {
   "cell_type": "code",
   "execution_count": null,
   "id": "b1afccb1-0910-49fe-96dc-2ab1f86907de",
   "metadata": {},
   "outputs": [],
   "source": [
    "for (x,y) in my_new_list:\n",
    "    print(x)"
   ]
  },
  {
   "cell_type": "code",
   "execution_count": null,
   "id": "4b83b089-1370-479f-83e7-fbe56f53ff90",
   "metadata": {},
   "outputs": [],
   "source": [
    "my_dictionary = {\"k1\": 100, \"k2\": 200, \"k3\": 300}"
   ]
  },
  {
   "cell_type": "code",
   "execution_count": null,
   "id": "83ed8bb6-340d-4a70-b6ec-908b671c03b3",
   "metadata": {},
   "outputs": [],
   "source": [
    "for elements in my_dictionary:\n",
    "    print(elements)"
   ]
  },
  {
   "cell_type": "code",
   "execution_count": null,
   "id": "1c4a87ca-c6bd-4df6-b0b8-24787b8c2216",
   "metadata": {},
   "outputs": [],
   "source": [
    "my_dictionary.items()"
   ]
  },
  {
   "cell_type": "code",
   "execution_count": null,
   "id": "4c9c98c8-5bb7-4214-b738-bcae139087a5",
   "metadata": {},
   "outputs": [],
   "source": [
    "for (key,value) in my_dictionary.items():\n",
    "    print(key)"
   ]
  },
  {
   "cell_type": "code",
   "execution_count": null,
   "id": "c7b26974-ab46-45b8-9be1-04b5be970a7d",
   "metadata": {},
   "outputs": [],
   "source": [
    "for (key,value) in my_dictionary.items():\n",
    "    print(value)"
   ]
  },
  {
   "cell_type": "code",
   "execution_count": null,
   "id": "6e2f2eea-d4ef-46fa-8bf8-b2f706993e37",
   "metadata": {},
   "outputs": [],
   "source": [
    "# continue - break - pass"
   ]
  },
  {
   "cell_type": "code",
   "execution_count": null,
   "id": "69deaeac-f83b-4d53-8e2d-fcb62f646782",
   "metadata": {},
   "outputs": [],
   "source": [
    "my_list = [10,20,30,40,50,60,70]"
   ]
  },
  {
   "cell_type": "code",
   "execution_count": null,
   "id": "2aa750ec-a112-4b7b-8436-461d3541d37e",
   "metadata": {},
   "outputs": [],
   "source": [
    "40 in my_list"
   ]
  },
  {
   "cell_type": "code",
   "execution_count": null,
   "id": "304ed29f-487b-46f2-8ff9-e6c23fa70c59",
   "metadata": {},
   "outputs": [],
   "source": [
    "for x in my_list:\n",
    "    print(x)\n",
    "    if x == 40:\n",
    "        print(\"yes\")\n",
    "        break"
   ]
  },
  {
   "cell_type": "code",
   "execution_count": null,
   "id": "826bcc97-c990-4c44-9709-8f53c5bbaef2",
   "metadata": {},
   "outputs": [],
   "source": [
    "my_list"
   ]
  },
  {
   "cell_type": "code",
   "execution_count": null,
   "id": "ac7ad3fd-31ed-4dc8-8689-f8ebefda25bc",
   "metadata": {},
   "outputs": [],
   "source": [
    "for m in my_list:\n",
    "    if m == 40:\n",
    "        continue\n",
    "    print(m)"
   ]
  },
  {
   "cell_type": "code",
   "execution_count": null,
   "id": "58e28d09-12f8-4f14-a4a1-ba06df8238ef",
   "metadata": {},
   "outputs": [],
   "source": [
    "#while"
   ]
  },
  {
   "cell_type": "code",
   "execution_count": null,
   "id": "380c8e60-33ba-4120-b9d9-5e5d2552d203",
   "metadata": {},
   "outputs": [],
   "source": [
    "x = 0"
   ]
  },
  {
   "cell_type": "code",
   "execution_count": null,
   "id": "ee57e86c-fe94-4753-b682-9bdde3b072c1",
   "metadata": {},
   "outputs": [],
   "source": [
    "print(\"while loop started\")\n",
    "while x<10:\n",
    "    print(x)\n",
    "    x = x + 1\n",
    "print(\"while loop ended\")"
   ]
  },
  {
   "cell_type": "code",
   "execution_count": null,
   "id": "ec056a78-eaf7-42b0-bc89-af49a0a2d8aa",
   "metadata": {},
   "outputs": [],
   "source": [
    "while_list = [10,20,30,40,50]"
   ]
  },
  {
   "cell_type": "code",
   "execution_count": null,
   "id": "00bae6f4-3de5-4d7b-92ae-2e0232e00f0d",
   "metadata": {},
   "outputs": [],
   "source": [
    "while 20 in while_list:\n",
    "    print(while_list)\n",
    "    while_list.pop()"
   ]
  },
  {
   "cell_type": "code",
   "execution_count": null,
   "id": "3a2d8288-f9a3-4e2f-81d6-30a4bac10bc3",
   "metadata": {},
   "outputs": [],
   "source": [
    "my_list = [10,20,30,40,50]"
   ]
  },
  {
   "cell_type": "code",
   "execution_count": null,
   "id": "91a06ad5-2b9b-480c-b154-10e79097048e",
   "metadata": {},
   "outputs": [],
   "source": [
    "print(f\"my_list: {my_list}\")"
   ]
  },
  {
   "cell_type": "code",
   "execution_count": null,
   "id": "ec7a3d9d-bdb4-47eb-8efe-64717acaad3a",
   "metadata": {},
   "outputs": [],
   "source": [
    "my_name = input(\"my name is: \") "
   ]
  },
  {
   "cell_type": "code",
   "execution_count": null,
   "id": "72dc6304-9b0e-4a2e-a771-ab2466dbb83e",
   "metadata": {},
   "outputs": [],
   "source": [
    "print(f\"my name is: {my_name}\")"
   ]
  },
  {
   "cell_type": "code",
   "execution_count": 1,
   "id": "d0d6318e-57bd-43dd-a9b4-21695eb90aa4",
   "metadata": {},
   "outputs": [
    {
     "name": "stdout",
     "output_type": "stream",
     "text": [
      "y'nin değeri: 0\n",
      "y'nin değeri: 1\n",
      "y'nin değeri: 2\n",
      "y'nin değeri: 3\n",
      "y'nin değeri: 4\n",
      "y'nin değeri: 5\n",
      "y'nin değeri: 6\n",
      "y'nin değeri: 7\n",
      "y'nin değeri: 8\n",
      "y'nin değeri: 9\n",
      "y'nin değeri: 10\n",
      "y'nin değeri: 11\n",
      "y'nin değeri: 12\n",
      "y'nin değeri: 13\n",
      "y'nin değeri: 14\n",
      "y'nin değeri: 15\n",
      "y'nin değeri: 16\n",
      "y'nin değeri: 17\n",
      "y'nin değeri: 18\n",
      "y'nin değeri: 19\n"
     ]
    }
   ],
   "source": [
    "y = 0\n",
    "while y < 20:\n",
    "    print(f\"y'nin değeri: {y}\")\n",
    "    y += 1"
   ]
  }
 ],
 "metadata": {
  "kernelspec": {
   "display_name": "Python 3 (ipykernel)",
   "language": "python",
   "name": "python3"
  },
  "language_info": {
   "codemirror_mode": {
    "name": "ipython",
    "version": 3
   },
   "file_extension": ".py",
   "mimetype": "text/x-python",
   "name": "python",
   "nbconvert_exporter": "python",
   "pygments_lexer": "ipython3",
   "version": "3.12.7"
  }
 },
 "nbformat": 4,
 "nbformat_minor": 5
}
