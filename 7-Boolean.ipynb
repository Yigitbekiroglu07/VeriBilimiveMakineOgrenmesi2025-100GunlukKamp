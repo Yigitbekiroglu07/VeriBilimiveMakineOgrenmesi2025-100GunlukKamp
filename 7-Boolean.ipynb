{
 "cells": [
  {
   "cell_type": "code",
   "execution_count": 1,
   "id": "6bb18f9c-4190-4ea0-8080-88d5e738cfef",
   "metadata": {},
   "outputs": [
    {
     "data": {
      "text/plain": [
       "True"
      ]
     },
     "execution_count": 1,
     "metadata": {},
     "output_type": "execute_result"
    }
   ],
   "source": [
    "True"
   ]
  },
  {
   "cell_type": "code",
   "execution_count": 2,
   "id": "99356039-099a-4bac-9e79-68abb40b85e2",
   "metadata": {},
   "outputs": [
    {
     "data": {
      "text/plain": [
       "False"
      ]
     },
     "execution_count": 2,
     "metadata": {},
     "output_type": "execute_result"
    }
   ],
   "source": [
    "False"
   ]
  },
  {
   "cell_type": "code",
   "execution_count": 3,
   "id": "540ac680-9539-4616-9f86-8af014276079",
   "metadata": {},
   "outputs": [],
   "source": [
    "my_boolean = True"
   ]
  },
  {
   "cell_type": "code",
   "execution_count": 4,
   "id": "8474185b-be99-403a-8993-13501fe4f4a7",
   "metadata": {},
   "outputs": [
    {
     "data": {
      "text/plain": [
       "bool"
      ]
     },
     "execution_count": 4,
     "metadata": {},
     "output_type": "execute_result"
    }
   ],
   "source": [
    "type(my_boolean)"
   ]
  },
  {
   "cell_type": "code",
   "execution_count": 5,
   "id": "5de2503d-709a-4e81-8db0-1ee40743a859",
   "metadata": {},
   "outputs": [
    {
     "data": {
      "text/plain": [
       "True"
      ]
     },
     "execution_count": 5,
     "metadata": {},
     "output_type": "execute_result"
    }
   ],
   "source": [
    "5 > 3"
   ]
  },
  {
   "cell_type": "code",
   "execution_count": 6,
   "id": "3ddcc3b4-38e1-44ab-9a79-c930fabcaac5",
   "metadata": {},
   "outputs": [
    {
     "data": {
      "text/plain": [
       "False"
      ]
     },
     "execution_count": 6,
     "metadata": {},
     "output_type": "execute_result"
    }
   ],
   "source": [
    "3 > 5"
   ]
  },
  {
   "cell_type": "code",
   "execution_count": 7,
   "id": "4476cb3e-3734-41bb-b9ed-2f20766dcc7d",
   "metadata": {},
   "outputs": [
    {
     "name": "stdin",
     "output_type": "stream",
     "text": [
      "kullanıcının yaşı:  20\n"
     ]
    }
   ],
   "source": [
    "age = input(\"kullanıcının yaşı: \")"
   ]
  },
  {
   "cell_type": "code",
   "execution_count": 11,
   "id": "86b13a15-c00d-49cd-98de-fc5e05ecc42a",
   "metadata": {},
   "outputs": [
    {
     "data": {
      "text/plain": [
       "20"
      ]
     },
     "execution_count": 11,
     "metadata": {},
     "output_type": "execute_result"
    }
   ],
   "source": [
    "int(age)"
   ]
  },
  {
   "cell_type": "code",
   "execution_count": 13,
   "id": "d3390dc7-675c-4aa1-a76b-99e1b8d33d7b",
   "metadata": {},
   "outputs": [
    {
     "data": {
      "text/plain": [
       "True"
      ]
     },
     "execution_count": 13,
     "metadata": {},
     "output_type": "execute_result"
    }
   ],
   "source": [
    "int(age) > 18"
   ]
  },
  {
   "cell_type": "code",
   "execution_count": null,
   "id": "23b942dc-e2f0-4397-b567-066405f3ab2d",
   "metadata": {},
   "outputs": [],
   "source": []
  }
 ],
 "metadata": {
  "kernelspec": {
   "display_name": "Python 3 (ipykernel)",
   "language": "python",
   "name": "python3"
  },
  "language_info": {
   "codemirror_mode": {
    "name": "ipython",
    "version": 3
   },
   "file_extension": ".py",
   "mimetype": "text/x-python",
   "name": "python",
   "nbconvert_exporter": "python",
   "pygments_lexer": "ipython3",
   "version": "3.12.7"
  }
 },
 "nbformat": 4,
 "nbformat_minor": 5
}
