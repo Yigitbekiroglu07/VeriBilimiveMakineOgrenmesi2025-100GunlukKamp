{
 "cells": [
  {
   "cell_type": "markdown",
   "id": "82843315-f10d-4768-8382-82ee545492e5",
   "metadata": {},
   "source": [
    "Inheritance"
   ]
  },
  {
   "cell_type": "code",
   "execution_count": 35,
   "id": "e282c27d-41f8-448b-845f-7b87b1a82546",
   "metadata": {},
   "outputs": [],
   "source": [
    "class Musician():\n",
    "    def __init__(self,name):\n",
    "        self.name = name\n",
    "        print(\"musician class\")\n",
    "    def test1(self):\n",
    "        print(\"test1\")\n",
    "    def test2(self):\n",
    "        print(\"test2\")"
   ]
  },
  {
   "cell_type": "code",
   "execution_count": 36,
   "id": "d1e7094c-4c66-4c66-bc42-2975396aeef3",
   "metadata": {},
   "outputs": [
    {
     "name": "stdout",
     "output_type": "stream",
     "text": [
      "musician class\n"
     ]
    }
   ],
   "source": [
    "alperen = Musician(\"alperen\")"
   ]
  },
  {
   "cell_type": "code",
   "execution_count": 37,
   "id": "ae43aa8b-9e77-4a0b-bad6-1307c313541b",
   "metadata": {},
   "outputs": [
    {
     "data": {
      "text/plain": [
       "'alperen'"
      ]
     },
     "execution_count": 37,
     "metadata": {},
     "output_type": "execute_result"
    }
   ],
   "source": [
    "alperen.name"
   ]
  },
  {
   "cell_type": "code",
   "execution_count": 38,
   "id": "9f2854a8-fc12-443e-8353-f0c76a5b6400",
   "metadata": {},
   "outputs": [
    {
     "name": "stdout",
     "output_type": "stream",
     "text": [
      "test1\n"
     ]
    }
   ],
   "source": [
    "alperen.test1()"
   ]
  },
  {
   "cell_type": "code",
   "execution_count": 39,
   "id": "62765d07-d160-4f9a-9dec-f58efca16d43",
   "metadata": {},
   "outputs": [
    {
     "name": "stdout",
     "output_type": "stream",
     "text": [
      "test2\n"
     ]
    }
   ],
   "source": [
    "alperen.test2()"
   ]
  },
  {
   "cell_type": "code",
   "execution_count": 40,
   "id": "59e0b63e-a774-4a48-9c80-26d0ec5fd9f5",
   "metadata": {},
   "outputs": [],
   "source": [
    "class musicianPlus(Musician):\n",
    "    def __init__(self,name):\n",
    "        Musician.__init__(self,name)\n",
    "        print(\"Musician Plus\")\n",
    "\n",
    "    def test3(self):\n",
    "        print(\"test3\")\n",
    "    # override --> üstüne yazmak\n",
    "    def test1(self):\n",
    "        print(\"test1 test 1 test1\")"
   ]
  },
  {
   "cell_type": "code",
   "execution_count": 41,
   "id": "54d01d1e-14b4-426e-8bf0-32d88da41139",
   "metadata": {},
   "outputs": [
    {
     "name": "stdout",
     "output_type": "stream",
     "text": [
      "musician class\n",
      "Musician Plus\n"
     ]
    }
   ],
   "source": [
    "feray = musicianPlus(\"feray\")"
   ]
  },
  {
   "cell_type": "code",
   "execution_count": 42,
   "id": "107dc77b-352c-4d7e-97e9-60b55f6c5fc7",
   "metadata": {},
   "outputs": [
    {
     "name": "stdout",
     "output_type": "stream",
     "text": [
      "test1 test 1 test1\n"
     ]
    }
   ],
   "source": [
    "feray.test1()"
   ]
  },
  {
   "cell_type": "code",
   "execution_count": 43,
   "id": "c21ee0ca-766b-4024-9a4b-4e7c57f67fe6",
   "metadata": {},
   "outputs": [
    {
     "name": "stdout",
     "output_type": "stream",
     "text": [
      "test2\n"
     ]
    }
   ],
   "source": [
    "feray.test2()"
   ]
  },
  {
   "cell_type": "code",
   "execution_count": 44,
   "id": "1d6cdf96-46eb-439a-bd9c-d4f34050005d",
   "metadata": {},
   "outputs": [
    {
     "data": {
      "text/plain": [
       "'feray'"
      ]
     },
     "execution_count": 44,
     "metadata": {},
     "output_type": "execute_result"
    }
   ],
   "source": [
    "feray.name"
   ]
  },
  {
   "cell_type": "code",
   "execution_count": 45,
   "id": "b9f6b572-a66b-423e-8175-f3110c03ddb8",
   "metadata": {},
   "outputs": [
    {
     "name": "stdout",
     "output_type": "stream",
     "text": [
      "test3\n"
     ]
    }
   ],
   "source": [
    "feray.test3()"
   ]
  },
  {
   "cell_type": "markdown",
   "id": "c6764be6-6911-452e-b487-13f8d7ec68bf",
   "metadata": {},
   "source": [
    "Polymorphism"
   ]
  },
  {
   "cell_type": "code",
   "execution_count": 46,
   "id": "8e05205c-8660-4588-b720-308b95c3050d",
   "metadata": {},
   "outputs": [],
   "source": [
    "class Banana():\n",
    "    def __init__(self,name):\n",
    "        self.name = name\n",
    "    \n",
    "    def info(self):\n",
    "        return f\"100 calorie {self.name}\"\n",
    "class Apple():\n",
    "    def __init__(self,name):\n",
    "        self.name = name\n",
    "    \n",
    "    def info(self):\n",
    "        return f\"150 calorie {self.name}\""
   ]
  },
  {
   "cell_type": "code",
   "execution_count": 47,
   "id": "f7a81e4e-76ba-463d-b93d-940db0f23a05",
   "metadata": {},
   "outputs": [],
   "source": [
    "banana = Banana(\"banana\")"
   ]
  },
  {
   "cell_type": "code",
   "execution_count": 48,
   "id": "684235c0-12b6-4822-aae1-b9ed7b705f1b",
   "metadata": {},
   "outputs": [],
   "source": [
    "apple = Apple(\"apple\")"
   ]
  },
  {
   "cell_type": "code",
   "execution_count": 49,
   "id": "87f51023-08cd-44e7-9cfb-9e5c575f5c09",
   "metadata": {},
   "outputs": [
    {
     "data": {
      "text/plain": [
       "'150 calorie apple'"
      ]
     },
     "execution_count": 49,
     "metadata": {},
     "output_type": "execute_result"
    }
   ],
   "source": [
    "apple.info()"
   ]
  },
  {
   "cell_type": "code",
   "execution_count": 50,
   "id": "9e0155bf-27a3-43fa-aca1-057a5563cb91",
   "metadata": {},
   "outputs": [
    {
     "data": {
      "text/plain": [
       "'100 calorie banana'"
      ]
     },
     "execution_count": 50,
     "metadata": {},
     "output_type": "execute_result"
    }
   ],
   "source": [
    "banana.info()"
   ]
  },
  {
   "cell_type": "code",
   "execution_count": 51,
   "id": "8de33d3a-0f69-4076-9490-5c8dd587365c",
   "metadata": {},
   "outputs": [],
   "source": [
    "fruitList = [banana, apple]"
   ]
  },
  {
   "cell_type": "code",
   "execution_count": 52,
   "id": "8c8fcb82-c556-4bc3-bf72-33eedff7d61e",
   "metadata": {},
   "outputs": [
    {
     "name": "stdout",
     "output_type": "stream",
     "text": [
      "100 calorie banana\n",
      "150 calorie apple\n"
     ]
    }
   ],
   "source": [
    "for fruit in fruitList:\n",
    "    print(fruit.info())"
   ]
  },
  {
   "cell_type": "markdown",
   "id": "a2b22800-1bea-43f8-813d-bf7078761268",
   "metadata": {},
   "source": [
    "Encapsulation"
   ]
  },
  {
   "cell_type": "code",
   "execution_count": 53,
   "id": "57a31f76-3e2b-4544-9321-d5d62b235fbf",
   "metadata": {},
   "outputs": [],
   "source": [
    "class Phone():\n",
    "    def __init__(self,name,price):\n",
    "        self.name = name\n",
    "        self.__price = price\n",
    "    def info(self):\n",
    "        print(f\"{self.name} price is {self.__price}\")\n",
    "    def changePrice(self, price):\n",
    "        self.__price = price"
   ]
  },
  {
   "cell_type": "code",
   "execution_count": 54,
   "id": "c2fc3608-f1db-4b82-aed4-3449bf44622a",
   "metadata": {},
   "outputs": [],
   "source": [
    "iphone = Phone(\"iPhone14\",500)"
   ]
  },
  {
   "cell_type": "code",
   "execution_count": 55,
   "id": "5f919645-8d97-45b0-90a5-0d27fe9f1e4f",
   "metadata": {},
   "outputs": [
    {
     "name": "stdout",
     "output_type": "stream",
     "text": [
      "iPhone14 price is 500\n"
     ]
    }
   ],
   "source": [
    "iphone.info()"
   ]
  },
  {
   "cell_type": "code",
   "execution_count": 56,
   "id": "6107711f-9493-404f-aa26-336e0f05b582",
   "metadata": {},
   "outputs": [],
   "source": [
    "iphone.__price = 400"
   ]
  },
  {
   "cell_type": "code",
   "execution_count": 57,
   "id": "d71d392a-279b-49cf-a15c-abf71fffa38f",
   "metadata": {},
   "outputs": [
    {
     "name": "stdout",
     "output_type": "stream",
     "text": [
      "iPhone14 price is 500\n"
     ]
    }
   ],
   "source": [
    "iphone.info()"
   ]
  },
  {
   "cell_type": "code",
   "execution_count": 58,
   "id": "652798e0-11d5-452a-a2ca-0999a6a0f156",
   "metadata": {},
   "outputs": [],
   "source": [
    "iphone.changePrice(300)"
   ]
  },
  {
   "cell_type": "code",
   "execution_count": 59,
   "id": "92f47dec-36fd-44b1-bc21-3b6465759bdb",
   "metadata": {},
   "outputs": [
    {
     "name": "stdout",
     "output_type": "stream",
     "text": [
      "iPhone14 price is 300\n"
     ]
    }
   ],
   "source": [
    "iphone.info()"
   ]
  },
  {
   "cell_type": "markdown",
   "id": "7614fa16-c489-4956-b4cb-a18f0e1c7662",
   "metadata": {},
   "source": [
    "Abstraction"
   ]
  },
  {
   "cell_type": "code",
   "execution_count": 60,
   "id": "7ac48696-39e9-4eed-8343-b23274e897e1",
   "metadata": {},
   "outputs": [],
   "source": [
    "from abc import ABC, abstractmethod"
   ]
  },
  {
   "cell_type": "code",
   "execution_count": 61,
   "id": "c5174b1c-30ab-4a02-a6b5-5686e89fe157",
   "metadata": {},
   "outputs": [],
   "source": [
    "class Car(ABC):\n",
    "\n",
    "    @abstractmethod\n",
    "    def maxSpeed(self):\n",
    "        pass"
   ]
  },
  {
   "cell_type": "code",
   "execution_count": 62,
   "id": "20a48292-7ebb-43c8-877b-b6109c45cb56",
   "metadata": {},
   "outputs": [],
   "source": [
    "#myCar = Car()"
   ]
  },
  {
   "cell_type": "code",
   "execution_count": 63,
   "id": "b4e7855f-9894-43f0-8bb2-d214a19412fd",
   "metadata": {},
   "outputs": [],
   "source": [
    "class Tesla():\n",
    "    def maxSpeed(self):\n",
    "        print(\"200km\")"
   ]
  },
  {
   "cell_type": "code",
   "execution_count": 64,
   "id": "fe3e697a-304b-4bd5-89b4-7a56694b1b34",
   "metadata": {},
   "outputs": [],
   "source": [
    "tesla = Tesla()"
   ]
  },
  {
   "cell_type": "code",
   "execution_count": 65,
   "id": "0a2ab9c6-031e-416d-b0cd-1b4521cf581e",
   "metadata": {},
   "outputs": [
    {
     "name": "stdout",
     "output_type": "stream",
     "text": [
      "200km\n"
     ]
    }
   ],
   "source": [
    "tesla.maxSpeed()"
   ]
  },
  {
   "cell_type": "code",
   "execution_count": 66,
   "id": "3d1bacb2-1439-4c82-822a-14184e67005e",
   "metadata": {},
   "outputs": [],
   "source": [
    "class Mercedes(Car):\n",
    "    def maxSpeed(self):\n",
    "        print(\"150km\")"
   ]
  },
  {
   "cell_type": "code",
   "execution_count": 67,
   "id": "5274a1d0-74d2-47ee-8d19-bad5db01fcd1",
   "metadata": {},
   "outputs": [],
   "source": [
    "mercedes = Mercedes()"
   ]
  },
  {
   "cell_type": "code",
   "execution_count": 68,
   "id": "eac7e457-7acd-45b9-945a-e0c04b704935",
   "metadata": {},
   "outputs": [
    {
     "name": "stdout",
     "output_type": "stream",
     "text": [
      "150km\n"
     ]
    }
   ],
   "source": [
    "mercedes.maxSpeed()"
   ]
  },
  {
   "cell_type": "markdown",
   "id": "d99989d7-c640-43ab-bdf1-65d78786be50",
   "metadata": {},
   "source": [
    "Special Methods"
   ]
  },
  {
   "cell_type": "code",
   "execution_count": 69,
   "id": "029ab9f8-44fd-4beb-8b3f-e56f90e1a79f",
   "metadata": {},
   "outputs": [],
   "source": [
    "class Fruit():\n",
    "    def __init__(self,name,calorie):\n",
    "        self.name = name\n",
    "        self.calorie = calorie\n",
    "    def __str__(self):\n",
    "        return f\"{self.name}: {self.calorie} calories\"\n",
    "    def __len__(self):\n",
    "        return self.calorie"
   ]
  },
  {
   "cell_type": "code",
   "execution_count": 70,
   "id": "c3b2a415-6b18-4a94-97e3-5bd9a6b192c5",
   "metadata": {},
   "outputs": [],
   "source": [
    "myFruit = Fruit(\"banana\",150)"
   ]
  },
  {
   "cell_type": "code",
   "execution_count": 71,
   "id": "dadd29fd-500a-427a-b6fd-24e8f0d362e4",
   "metadata": {},
   "outputs": [
    {
     "data": {
      "text/plain": [
       "'banana'"
      ]
     },
     "execution_count": 71,
     "metadata": {},
     "output_type": "execute_result"
    }
   ],
   "source": [
    "myFruit.name"
   ]
  },
  {
   "cell_type": "code",
   "execution_count": 72,
   "id": "581f45ce-0303-4a20-8982-c77121a5389e",
   "metadata": {},
   "outputs": [
    {
     "data": {
      "text/plain": [
       "150"
      ]
     },
     "execution_count": 72,
     "metadata": {},
     "output_type": "execute_result"
    }
   ],
   "source": [
    "myFruit.calorie"
   ]
  },
  {
   "cell_type": "code",
   "execution_count": 73,
   "id": "b3fd52bd-ce03-4dfb-9a19-720ef5c8d1c4",
   "metadata": {},
   "outputs": [
    {
     "name": "stdout",
     "output_type": "stream",
     "text": [
      "banana: 150 calories\n"
     ]
    }
   ],
   "source": [
    "print(myFruit)"
   ]
  },
  {
   "cell_type": "code",
   "execution_count": 74,
   "id": "d26ef739-c08c-4691-8fbc-493b4d425f8e",
   "metadata": {},
   "outputs": [
    {
     "data": {
      "text/plain": [
       "150"
      ]
     },
     "execution_count": 74,
     "metadata": {},
     "output_type": "execute_result"
    }
   ],
   "source": [
    "len(myFruit)"
   ]
  },
  {
   "cell_type": "code",
   "execution_count": 90,
   "id": "6139215a-751b-48e4-b558-465989353bf5",
   "metadata": {},
   "outputs": [],
   "source": [
    "class Train():\n",
    "    def __init__(self,name):\n",
    "        self.name = name\n",
    "\n",
    "    def __getitem__(self,key):\n",
    "        if key == \"a\":\n",
    "            return self.name\n",
    "\n",
    "        else:\n",
    "            return \"not found\"   "
   ]
  },
  {
   "cell_type": "code",
   "execution_count": 91,
   "id": "604196b1-ea6e-4790-97f7-c7b05feeb8c2",
   "metadata": {},
   "outputs": [],
   "source": [
    "myTrain = Train(\"my train\")"
   ]
  },
  {
   "cell_type": "code",
   "execution_count": 92,
   "id": "68d3c13e-79b7-4a27-999f-890d95a440a3",
   "metadata": {},
   "outputs": [
    {
     "data": {
      "text/plain": [
       "'my train'"
      ]
     },
     "execution_count": 92,
     "metadata": {},
     "output_type": "execute_result"
    }
   ],
   "source": [
    "myTrain[\"a\"]"
   ]
  },
  {
   "cell_type": "code",
   "execution_count": 94,
   "id": "d028463b-89d9-4bbc-92ed-03a9e7d89710",
   "metadata": {},
   "outputs": [
    {
     "data": {
      "text/plain": [
       "'not found'"
      ]
     },
     "execution_count": 94,
     "metadata": {},
     "output_type": "execute_result"
    }
   ],
   "source": [
    "myTrain[\"b\"]"
   ]
  },
  {
   "cell_type": "code",
   "execution_count": 95,
   "id": "0aaeba85-9a25-46e8-95f7-ea45dac865b2",
   "metadata": {},
   "outputs": [],
   "source": [
    "#myFruit[\"a\"] --> böyle bir özelliği yok, hata mesajı alırız"
   ]
  }
 ],
 "metadata": {
  "kernelspec": {
   "display_name": "Python 3 (ipykernel)",
   "language": "python",
   "name": "python3"
  },
  "language_info": {
   "codemirror_mode": {
    "name": "ipython",
    "version": 3
   },
   "file_extension": ".py",
   "mimetype": "text/x-python",
   "name": "python",
   "nbconvert_exporter": "python",
   "pygments_lexer": "ipython3",
   "version": "3.12.7"
  }
 },
 "nbformat": 4,
 "nbformat_minor": 5
}
