{
 "cells": [
  {
   "cell_type": "code",
   "execution_count": 1,
   "id": "e1d87a30-23c6-4b42-8774-fa195b61ed9e",
   "metadata": {},
   "outputs": [],
   "source": [
    "#unique elements, unordered"
   ]
  },
  {
   "cell_type": "code",
   "execution_count": 3,
   "id": "68b54d42-292d-42dd-8666-98c91f1dd2c0",
   "metadata": {},
   "outputs": [],
   "source": [
    "myList = [10,20,30,10,20,40,10,20,40]"
   ]
  },
  {
   "cell_type": "code",
   "execution_count": 4,
   "id": "c836ed44-bfa9-4a99-b565-88b417301028",
   "metadata": {},
   "outputs": [
    {
     "data": {
      "text/plain": [
       "9"
      ]
     },
     "execution_count": 4,
     "metadata": {},
     "output_type": "execute_result"
    }
   ],
   "source": [
    "len(myList)"
   ]
  },
  {
   "cell_type": "code",
   "execution_count": 5,
   "id": "1e92ea6d-8c4f-4836-a076-2abc6de97d35",
   "metadata": {},
   "outputs": [
    {
     "data": {
      "text/plain": [
       "[10, 20, 30, 10, 20, 40, 10, 20, 40]"
      ]
     },
     "execution_count": 5,
     "metadata": {},
     "output_type": "execute_result"
    }
   ],
   "source": [
    "myList"
   ]
  },
  {
   "cell_type": "code",
   "execution_count": 6,
   "id": "2f37e7bc-b176-4744-98f2-05b7e3566d2e",
   "metadata": {},
   "outputs": [],
   "source": [
    "mySets = set(myList)"
   ]
  },
  {
   "cell_type": "code",
   "execution_count": 7,
   "id": "35d7c1c0-b156-4c9e-8e48-975ab61c18c7",
   "metadata": {},
   "outputs": [
    {
     "data": {
      "text/plain": [
       "{10, 20, 30, 40}"
      ]
     },
     "execution_count": 7,
     "metadata": {},
     "output_type": "execute_result"
    }
   ],
   "source": [
    "mySets"
   ]
  },
  {
   "cell_type": "code",
   "execution_count": 8,
   "id": "8db28f3b-d839-47c8-9659-a75b10bde325",
   "metadata": {},
   "outputs": [],
   "source": [
    "mySet = {10,20,30,20,30,40}"
   ]
  },
  {
   "cell_type": "code",
   "execution_count": 9,
   "id": "47c7b7a3-1325-4f57-8a1f-6100b5f03cd8",
   "metadata": {},
   "outputs": [
    {
     "data": {
      "text/plain": [
       "{10, 20, 30, 40}"
      ]
     },
     "execution_count": 9,
     "metadata": {},
     "output_type": "execute_result"
    }
   ],
   "source": [
    "mySet"
   ]
  },
  {
   "cell_type": "code",
   "execution_count": 11,
   "id": "42722754-1bb6-4885-a572-7d518adadc8e",
   "metadata": {},
   "outputs": [],
   "source": [
    "mySet.add(50)"
   ]
  },
  {
   "cell_type": "code",
   "execution_count": 12,
   "id": "08ac5549-6652-4f0c-a881-cbaed09738cb",
   "metadata": {},
   "outputs": [
    {
     "data": {
      "text/plain": [
       "{10, 20, 30, 40, 50}"
      ]
     },
     "execution_count": 12,
     "metadata": {},
     "output_type": "execute_result"
    }
   ],
   "source": [
    "mySet"
   ]
  },
  {
   "cell_type": "code",
   "execution_count": 13,
   "id": "ae530e4d-ebbe-463c-97f4-b120978a6852",
   "metadata": {},
   "outputs": [],
   "source": [
    "mySet2 = {30,40,50,60,70} "
   ]
  },
  {
   "cell_type": "code",
   "execution_count": 14,
   "id": "a0a7a1d8-a818-416c-92a7-613013ed6d7b",
   "metadata": {},
   "outputs": [
    {
     "data": {
      "text/plain": [
       "{10, 20, 30, 40, 50}"
      ]
     },
     "execution_count": 14,
     "metadata": {},
     "output_type": "execute_result"
    }
   ],
   "source": [
    "mySet"
   ]
  },
  {
   "cell_type": "code",
   "execution_count": 15,
   "id": "80c983a5-1bd8-4ba9-96dc-f15e9d2eb00f",
   "metadata": {},
   "outputs": [
    {
     "data": {
      "text/plain": [
       "{30, 40, 50, 60, 70}"
      ]
     },
     "execution_count": 15,
     "metadata": {},
     "output_type": "execute_result"
    }
   ],
   "source": [
    "mySet2"
   ]
  },
  {
   "cell_type": "code",
   "execution_count": 16,
   "id": "f463d3db-806e-428d-8cbe-0d2ec3ebc923",
   "metadata": {},
   "outputs": [
    {
     "data": {
      "text/plain": [
       "{10, 20, 30, 40, 50, 60, 70}"
      ]
     },
     "execution_count": 16,
     "metadata": {},
     "output_type": "execute_result"
    }
   ],
   "source": [
    "mySet.union(mySet2)"
   ]
  },
  {
   "cell_type": "code",
   "execution_count": 17,
   "id": "e9928b4a-474a-4fbb-8325-1c5c7fa993af",
   "metadata": {},
   "outputs": [
    {
     "data": {
      "text/plain": [
       "{30, 40, 50}"
      ]
     },
     "execution_count": 17,
     "metadata": {},
     "output_type": "execute_result"
    }
   ],
   "source": [
    "mySet.intersection(mySet2)"
   ]
  },
  {
   "cell_type": "code",
   "execution_count": 18,
   "id": "44d4034b-34fb-4ac0-9ce1-e3ac4bfa184e",
   "metadata": {},
   "outputs": [],
   "source": [
    "countryList = [\"de\",\"fr\",\"tr\",\"fr\",\"tr\"]"
   ]
  },
  {
   "cell_type": "code",
   "execution_count": 19,
   "id": "fa5e68e9-7bdf-46f9-bcbd-93aa811fd657",
   "metadata": {},
   "outputs": [
    {
     "data": {
      "text/plain": [
       "5"
      ]
     },
     "execution_count": 19,
     "metadata": {},
     "output_type": "execute_result"
    }
   ],
   "source": [
    "len(countryList)"
   ]
  },
  {
   "cell_type": "code",
   "execution_count": 20,
   "id": "bbd48af4-3c1f-4f74-a594-a4876dcf035a",
   "metadata": {},
   "outputs": [
    {
     "data": {
      "text/plain": [
       "3"
      ]
     },
     "execution_count": 20,
     "metadata": {},
     "output_type": "execute_result"
    }
   ],
   "source": [
    "len(set(countryList))"
   ]
  },
  {
   "cell_type": "code",
   "execution_count": 21,
   "id": "e07d153e-6abf-4277-8449-6d62fd7fdaa0",
   "metadata": {},
   "outputs": [],
   "source": [
    "empty_set = {}"
   ]
  },
  {
   "cell_type": "code",
   "execution_count": 22,
   "id": "51b826d3-b079-4149-9e87-344ca473725f",
   "metadata": {},
   "outputs": [
    {
     "data": {
      "text/plain": [
       "dict"
      ]
     },
     "execution_count": 22,
     "metadata": {},
     "output_type": "execute_result"
    }
   ],
   "source": [
    "type(empty_set)"
   ]
  },
  {
   "cell_type": "code",
   "execution_count": 23,
   "id": "32e1ad7c-5839-455e-8a5a-1d11399cebf3",
   "metadata": {},
   "outputs": [],
   "source": [
    "empty_set = set()"
   ]
  },
  {
   "cell_type": "code",
   "execution_count": 24,
   "id": "595c9436-1d98-4e40-ba55-2bc2b204946b",
   "metadata": {},
   "outputs": [
    {
     "data": {
      "text/plain": [
       "set"
      ]
     },
     "execution_count": 24,
     "metadata": {},
     "output_type": "execute_result"
    }
   ],
   "source": [
    "type(empty_set)"
   ]
  },
  {
   "cell_type": "code",
   "execution_count": 26,
   "id": "4679581c-89a2-46a6-bcb3-86b74cf78240",
   "metadata": {},
   "outputs": [],
   "source": [
    "empty_set.add(10)\n",
    "empty_set.add(20)\n",
    "empty_set.add(30)"
   ]
  },
  {
   "cell_type": "code",
   "execution_count": 30,
   "id": "6b7145ab-be60-4666-aa1c-39c86d7e25d1",
   "metadata": {},
   "outputs": [
    {
     "data": {
      "text/plain": [
       "{10, 20, 30}"
      ]
     },
     "execution_count": 30,
     "metadata": {},
     "output_type": "execute_result"
    }
   ],
   "source": [
    "empty_set"
   ]
  },
  {
   "cell_type": "code",
   "execution_count": 31,
   "id": "f605afe2-0424-4a9f-b2c0-80030cc55d8c",
   "metadata": {},
   "outputs": [],
   "source": [
    "empty_list = list()"
   ]
  },
  {
   "cell_type": "code",
   "execution_count": 32,
   "id": "3cca8379-8374-442f-9443-7fa9b385a402",
   "metadata": {},
   "outputs": [],
   "source": [
    "empty_list.append(55)"
   ]
  },
  {
   "cell_type": "code",
   "execution_count": 33,
   "id": "327d74dd-13b0-4a64-8951-73506a204a77",
   "metadata": {},
   "outputs": [
    {
     "data": {
      "text/plain": [
       "[55]"
      ]
     },
     "execution_count": 33,
     "metadata": {},
     "output_type": "execute_result"
    }
   ],
   "source": [
    "empty_list"
   ]
  },
  {
   "cell_type": "code",
   "execution_count": 34,
   "id": "026313bd-cc4d-4d53-9906-72218814e4cd",
   "metadata": {},
   "outputs": [],
   "source": [
    "empty_dict = dict()"
   ]
  },
  {
   "cell_type": "code",
   "execution_count": 37,
   "id": "a1ec2ee8-984f-4c31-b022-0bc5f0aee039",
   "metadata": {},
   "outputs": [],
   "source": [
    "empty_dict[\"a\"] = 55\n",
    "empty_dict[\"b\"] = 35"
   ]
  },
  {
   "cell_type": "code",
   "execution_count": 38,
   "id": "dde86a73-9762-41ae-9f53-9cd657530289",
   "metadata": {},
   "outputs": [
    {
     "data": {
      "text/plain": [
       "{'a': 55, 'b': 35}"
      ]
     },
     "execution_count": 38,
     "metadata": {},
     "output_type": "execute_result"
    }
   ],
   "source": [
    "empty_dict"
   ]
  },
  {
   "cell_type": "code",
   "execution_count": null,
   "id": "170e0284-9fa9-4408-84f3-3b82a6b9651f",
   "metadata": {},
   "outputs": [],
   "source": []
  }
 ],
 "metadata": {
  "kernelspec": {
   "display_name": "Python 3 (ipykernel)",
   "language": "python",
   "name": "python3"
  },
  "language_info": {
   "codemirror_mode": {
    "name": "ipython",
    "version": 3
   },
   "file_extension": ".py",
   "mimetype": "text/x-python",
   "name": "python",
   "nbconvert_exporter": "python",
   "pygments_lexer": "ipython3",
   "version": "3.12.7"
  }
 },
 "nbformat": 4,
 "nbformat_minor": 5
}
