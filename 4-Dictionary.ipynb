{
 "cells": [
  {
   "cell_type": "code",
   "execution_count": 1,
   "id": "45ab7dfd-a1e8-468a-ad97-561b6edd5b61",
   "metadata": {},
   "outputs": [],
   "source": [
    "# key-value pairing "
   ]
  },
  {
   "cell_type": "code",
   "execution_count": 2,
   "id": "94507287-24ff-4250-a056-e554c767b197",
   "metadata": {},
   "outputs": [],
   "source": [
    "fruit_list = [\"banana\",\"apple\"]"
   ]
  },
  {
   "cell_type": "code",
   "execution_count": 3,
   "id": "167495e3-cf82-49cb-8df9-a220b73ef162",
   "metadata": {},
   "outputs": [],
   "source": [
    "calorie_list = [100,150]"
   ]
  },
  {
   "cell_type": "code",
   "execution_count": 4,
   "id": "bbd67677-0e02-4d05-99af-a0b1e972b39c",
   "metadata": {},
   "outputs": [
    {
     "data": {
      "text/plain": [
       "'banana'"
      ]
     },
     "execution_count": 4,
     "metadata": {},
     "output_type": "execute_result"
    }
   ],
   "source": [
    "fruit_list[0]"
   ]
  },
  {
   "cell_type": "code",
   "execution_count": 5,
   "id": "3761fcab-923c-48f1-abee-6f18e056ee9e",
   "metadata": {},
   "outputs": [
    {
     "data": {
      "text/plain": [
       "100"
      ]
     },
     "execution_count": 5,
     "metadata": {},
     "output_type": "execute_result"
    }
   ],
   "source": [
    "calorie_list[0]"
   ]
  },
  {
   "cell_type": "code",
   "execution_count": 6,
   "id": "58a66c2b-fad0-4430-b64b-3db75d3d84bf",
   "metadata": {},
   "outputs": [],
   "source": [
    "fitness_dictionary = {\"banana\":100, \"apple\":150}"
   ]
  },
  {
   "cell_type": "code",
   "execution_count": 7,
   "id": "dcd8fe02-e231-4c0f-bfca-ca8b3390203f",
   "metadata": {},
   "outputs": [
    {
     "data": {
      "text/plain": [
       "dict"
      ]
     },
     "execution_count": 7,
     "metadata": {},
     "output_type": "execute_result"
    }
   ],
   "source": [
    "type(fitness_dictionary)"
   ]
  },
  {
   "cell_type": "code",
   "execution_count": 8,
   "id": "99ed3ee2-2076-44e6-a4b6-17caf0026660",
   "metadata": {},
   "outputs": [
    {
     "data": {
      "text/plain": [
       "100"
      ]
     },
     "execution_count": 8,
     "metadata": {},
     "output_type": "execute_result"
    }
   ],
   "source": [
    "fitness_dictionary[\"banana\"]"
   ]
  },
  {
   "cell_type": "code",
   "execution_count": 11,
   "id": "d0c01e3d-5f49-4489-9a12-65a669321630",
   "metadata": {},
   "outputs": [
    {
     "data": {
      "text/plain": [
       "dict_keys(['banana', 'apple'])"
      ]
     },
     "execution_count": 11,
     "metadata": {},
     "output_type": "execute_result"
    }
   ],
   "source": [
    "fitness_dictionary.keys()"
   ]
  },
  {
   "cell_type": "code",
   "execution_count": 12,
   "id": "b0d77f94-d760-48fc-863c-c342c8aef15a",
   "metadata": {},
   "outputs": [
    {
     "data": {
      "text/plain": [
       "dict_values([100, 150])"
      ]
     },
     "execution_count": 12,
     "metadata": {},
     "output_type": "execute_result"
    }
   ],
   "source": [
    "fitness_dictionary.values()"
   ]
  },
  {
   "cell_type": "code",
   "execution_count": 13,
   "id": "15cac601-c505-4de7-b3a2-ce67505b0202",
   "metadata": {},
   "outputs": [
    {
     "data": {
      "text/plain": [
       "[100, 150]"
      ]
     },
     "execution_count": 13,
     "metadata": {},
     "output_type": "execute_result"
    }
   ],
   "source": [
    "list(fitness_dictionary.values())"
   ]
  },
  {
   "cell_type": "code",
   "execution_count": 14,
   "id": "ed6eeaf1-1170-4029-b9a9-614847f35528",
   "metadata": {},
   "outputs": [
    {
     "data": {
      "text/plain": [
       "0"
      ]
     },
     "execution_count": 14,
     "metadata": {},
     "output_type": "execute_result"
    }
   ],
   "source": [
    "fitness_dictionary.get(\"appl\",0)"
   ]
  },
  {
   "cell_type": "code",
   "execution_count": 15,
   "id": "0e46f13a-303c-4d73-8dfb-5a98d2ab6d16",
   "metadata": {},
   "outputs": [],
   "source": [
    "my_dictionary = {100:\"a\",200:\"b\"}"
   ]
  },
  {
   "cell_type": "code",
   "execution_count": 16,
   "id": "ec9103a6-45d6-4a59-a0b1-2114961d0a7c",
   "metadata": {},
   "outputs": [
    {
     "data": {
      "text/plain": [
       "'a'"
      ]
     },
     "execution_count": 16,
     "metadata": {},
     "output_type": "execute_result"
    }
   ],
   "source": [
    "my_dictionary[100]"
   ]
  },
  {
   "cell_type": "code",
   "execution_count": 19,
   "id": "96bb9a43-746d-401e-8456-393a15a8c38e",
   "metadata": {},
   "outputs": [],
   "source": [
    "my_mixed_dictionary = {\"key1\":10,\"key2\":3.14,\"key3\":[10,20,30]}"
   ]
  },
  {
   "cell_type": "code",
   "execution_count": 20,
   "id": "3a3a3a1b-884b-46d7-a61f-8ee134856d17",
   "metadata": {},
   "outputs": [
    {
     "data": {
      "text/plain": [
       "30"
      ]
     },
     "execution_count": 20,
     "metadata": {},
     "output_type": "execute_result"
    }
   ],
   "source": [
    "my_mixed_dictionary[\"key3\"][2]"
   ]
  },
  {
   "cell_type": "code",
   "execution_count": 21,
   "id": "a7d29018-dd65-44ca-9c1d-1cd8a9bbaaf1",
   "metadata": {},
   "outputs": [],
   "source": [
    "last_dictionary = {\"k1\":10,\"k2\":[10,20,30,40,50],\"k3\":\"string\",\"k4\":{\"a\":100,\"b\":200}}"
   ]
  },
  {
   "cell_type": "code",
   "execution_count": 23,
   "id": "df993fb9-f8c2-4d10-abce-4f8d540bc2a8",
   "metadata": {},
   "outputs": [
    {
     "data": {
      "text/plain": [
       "200"
      ]
     },
     "execution_count": 23,
     "metadata": {},
     "output_type": "execute_result"
    }
   ],
   "source": [
    "last_dictionary[\"k4\"][\"b\"]"
   ]
  },
  {
   "cell_type": "code",
   "execution_count": null,
   "id": "ce18a6c7-d785-468c-a9dd-8384d6f1629b",
   "metadata": {},
   "outputs": [],
   "source": []
  }
 ],
 "metadata": {
  "kernelspec": {
   "display_name": "Python 3 (ipykernel)",
   "language": "python",
   "name": "python3"
  },
  "language_info": {
   "codemirror_mode": {
    "name": "ipython",
    "version": 3
   },
   "file_extension": ".py",
   "mimetype": "text/x-python",
   "name": "python",
   "nbconvert_exporter": "python",
   "pygments_lexer": "ipython3",
   "version": "3.12.7"
  }
 },
 "nbformat": 4,
 "nbformat_minor": 5
}
