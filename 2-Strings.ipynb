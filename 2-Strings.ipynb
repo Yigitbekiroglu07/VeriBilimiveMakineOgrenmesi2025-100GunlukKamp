{
 "cells": [
  {
   "cell_type": "code",
   "execution_count": 1,
   "id": "96a3b4f9-e2ba-40b2-85d4-0b3eefb2d658",
   "metadata": {},
   "outputs": [
    {
     "data": {
      "text/plain": [
       "'hello world'"
      ]
     },
     "execution_count": 1,
     "metadata": {},
     "output_type": "execute_result"
    }
   ],
   "source": [
    "\"hello world\""
   ]
  },
  {
   "cell_type": "code",
   "execution_count": 3,
   "id": "4e735859-dd34-468b-8768-eb01d1dbc111",
   "metadata": {},
   "outputs": [
    {
     "name": "stdout",
     "output_type": "stream",
     "text": [
      "hello world\n"
     ]
    }
   ],
   "source": [
    "print(\"hello world\")"
   ]
  },
  {
   "cell_type": "code",
   "execution_count": 4,
   "id": "77a5a773-4930-41a6-82dc-10e2be521e08",
   "metadata": {},
   "outputs": [],
   "source": [
    "name = \"yiğit\""
   ]
  },
  {
   "cell_type": "code",
   "execution_count": 5,
   "id": "2fd2a275-528f-4a2a-90cf-75f517c1f7b3",
   "metadata": {},
   "outputs": [
    {
     "data": {
      "text/plain": [
       "str"
      ]
     },
     "execution_count": 5,
     "metadata": {},
     "output_type": "execute_result"
    }
   ],
   "source": [
    "type(name)"
   ]
  },
  {
   "cell_type": "code",
   "execution_count": 6,
   "id": "e946a8f2-56bf-4d50-8841-46646fdcaae2",
   "metadata": {},
   "outputs": [
    {
     "data": {
      "text/plain": [
       "'yiğit alperen bekiroğlu'"
      ]
     },
     "execution_count": 6,
     "metadata": {},
     "output_type": "execute_result"
    }
   ],
   "source": [
    "\"yiğit alperen bekiroğlu\""
   ]
  },
  {
   "cell_type": "code",
   "execution_count": 7,
   "id": "ac1623aa-842c-476e-9430-1caa04f05234",
   "metadata": {},
   "outputs": [
    {
     "data": {
      "text/plain": [
       "'yiğit alperen bekiroğlu'"
      ]
     },
     "execution_count": 7,
     "metadata": {},
     "output_type": "execute_result"
    }
   ],
   "source": [
    "'yiğit alperen bekiroğlu'"
   ]
  },
  {
   "cell_type": "code",
   "execution_count": 8,
   "id": "7e29dce0-d7b0-4036-b39c-6d1995d7f842",
   "metadata": {},
   "outputs": [],
   "source": [
    "name = \"yiğit bekiroğlu\""
   ]
  },
  {
   "cell_type": "code",
   "execution_count": 9,
   "id": "f56284a1-3d4f-48e4-834b-88d0f549610d",
   "metadata": {},
   "outputs": [
    {
     "data": {
      "text/plain": [
       "str"
      ]
     },
     "execution_count": 9,
     "metadata": {},
     "output_type": "execute_result"
    }
   ],
   "source": [
    "type(name)"
   ]
  },
  {
   "cell_type": "code",
   "execution_count": 11,
   "id": "74e3adcf-7245-4205-841e-689274259b0f",
   "metadata": {},
   "outputs": [
    {
     "data": {
      "text/plain": [
       "'Yiğit bekiroğlu'"
      ]
     },
     "execution_count": 11,
     "metadata": {},
     "output_type": "execute_result"
    }
   ],
   "source": [
    "name.capitalize()"
   ]
  },
  {
   "cell_type": "code",
   "execution_count": 12,
   "id": "cd0903d5-e4b8-4334-866e-91f26892dd4c",
   "metadata": {},
   "outputs": [],
   "source": [
    "x = 10"
   ]
  },
  {
   "cell_type": "code",
   "execution_count": 13,
   "id": "32c32aaf-fae0-41db-a95e-191a7f95e048",
   "metadata": {},
   "outputs": [
    {
     "data": {
      "text/plain": [
       "'yiğit bekiroğlu'"
      ]
     },
     "execution_count": 13,
     "metadata": {},
     "output_type": "execute_result"
    }
   ],
   "source": [
    "name"
   ]
  },
  {
   "cell_type": "code",
   "execution_count": 14,
   "id": "5c984d40-9508-479c-9d5f-270c19af68bf",
   "metadata": {},
   "outputs": [
    {
     "data": {
      "text/plain": [
       "1"
      ]
     },
     "execution_count": 14,
     "metadata": {},
     "output_type": "execute_result"
    }
   ],
   "source": [
    "name.count(\"y\")"
   ]
  },
  {
   "cell_type": "code",
   "execution_count": 15,
   "id": "f5733a2d-7b22-4d70-ab01-4580c38741f0",
   "metadata": {},
   "outputs": [
    {
     "data": {
      "text/plain": [
       "0"
      ]
     },
     "execution_count": 15,
     "metadata": {},
     "output_type": "execute_result"
    }
   ],
   "source": [
    "name.count(\"s\")"
   ]
  },
  {
   "cell_type": "code",
   "execution_count": 16,
   "id": "30f6db6a-170a-473d-9fd0-beb54ebffba4",
   "metadata": {},
   "outputs": [
    {
     "data": {
      "text/plain": [
       "'YIĞIT BEKIROĞLU'"
      ]
     },
     "execution_count": 16,
     "metadata": {},
     "output_type": "execute_result"
    }
   ],
   "source": [
    "name.upper()"
   ]
  },
  {
   "cell_type": "code",
   "execution_count": 17,
   "id": "dba326ae-57cc-4bcf-84a1-11e102d1d7c4",
   "metadata": {},
   "outputs": [
    {
     "data": {
      "text/plain": [
       "'yiğit bekiroğlu'"
      ]
     },
     "execution_count": 17,
     "metadata": {},
     "output_type": "execute_result"
    }
   ],
   "source": [
    "name"
   ]
  },
  {
   "cell_type": "code",
   "execution_count": 18,
   "id": "d2fb40ae-54cc-43d1-b0d8-996fe091cd1e",
   "metadata": {},
   "outputs": [],
   "source": [
    "x = 10\n",
    "y = 5"
   ]
  },
  {
   "cell_type": "code",
   "execution_count": 19,
   "id": "51ba3da1-0322-48dd-ba75-3c8a6c4efea8",
   "metadata": {},
   "outputs": [],
   "source": [
    "z = x + y"
   ]
  },
  {
   "cell_type": "code",
   "execution_count": 20,
   "id": "a9d16cd2-4e42-4084-9c15-5a3001d4c979",
   "metadata": {},
   "outputs": [
    {
     "data": {
      "text/plain": [
       "15"
      ]
     },
     "execution_count": 20,
     "metadata": {},
     "output_type": "execute_result"
    }
   ],
   "source": [
    "z"
   ]
  },
  {
   "cell_type": "code",
   "execution_count": 21,
   "id": "843efd6a-d1c6-464c-80c7-353524075b01",
   "metadata": {},
   "outputs": [],
   "source": [
    "nameUpper = name.upper()"
   ]
  },
  {
   "cell_type": "code",
   "execution_count": 22,
   "id": "694bbc51-2a28-4503-bf84-8f5a566103ef",
   "metadata": {},
   "outputs": [
    {
     "data": {
      "text/plain": [
       "'YIĞIT BEKIROĞLU'"
      ]
     },
     "execution_count": 22,
     "metadata": {},
     "output_type": "execute_result"
    }
   ],
   "source": [
    "nameUpper"
   ]
  },
  {
   "cell_type": "code",
   "execution_count": 23,
   "id": "c0012018-7247-4483-83a1-a13be8a96440",
   "metadata": {},
   "outputs": [
    {
     "data": {
      "text/plain": [
       "15"
      ]
     },
     "execution_count": 23,
     "metadata": {},
     "output_type": "execute_result"
    }
   ],
   "source": [
    "len(name) #length"
   ]
  },
  {
   "cell_type": "code",
   "execution_count": 1,
   "id": "ab8d739e-448c-4ff9-ab33-d0195abfe920",
   "metadata": {},
   "outputs": [
    {
     "name": "stdout",
     "output_type": "stream",
     "text": [
      "yiğit\n"
     ]
    }
   ],
   "source": [
    "print(\"yiğit\")"
   ]
  },
  {
   "cell_type": "code",
   "execution_count": 4,
   "id": "5f3a78f6-ce98-45f5-901a-55426d94639a",
   "metadata": {},
   "outputs": [
    {
     "name": "stdout",
     "output_type": "stream",
     "text": [
      "yiğit \n",
      "alperen\n"
     ]
    }
   ],
   "source": [
    "print(\"yiğit \\nalperen\")"
   ]
  },
  {
   "cell_type": "code",
   "execution_count": 5,
   "id": "340412d8-2366-4742-b3e7-e47ccfc0b78b",
   "metadata": {},
   "outputs": [],
   "source": [
    "# \\n --> new line"
   ]
  },
  {
   "cell_type": "code",
   "execution_count": 6,
   "id": "e51f849e-01e3-4136-8b35-1ed1f0d1e225",
   "metadata": {},
   "outputs": [],
   "source": [
    "# \\t --> tab"
   ]
  },
  {
   "cell_type": "markdown",
   "id": "932a082a-7acb-419a-a841-349aa42d570e",
   "metadata": {},
   "source": [
    "Index"
   ]
  },
  {
   "cell_type": "code",
   "execution_count": 7,
   "id": "4f594e32-ab4a-4783-aac4-6b6a3b905841",
   "metadata": {},
   "outputs": [],
   "source": [
    "myString = \"Hello Python\""
   ]
  },
  {
   "cell_type": "code",
   "execution_count": 9,
   "id": "17cc7b05-1b90-441f-bdbd-dd2ae6e783fd",
   "metadata": {},
   "outputs": [
    {
     "data": {
      "text/plain": [
       "'o'"
      ]
     },
     "execution_count": 9,
     "metadata": {},
     "output_type": "execute_result"
    }
   ],
   "source": [
    "myString[4]"
   ]
  },
  {
   "cell_type": "code",
   "execution_count": 10,
   "id": "6f6b1024-1493-4e1a-abcf-714fceb706b8",
   "metadata": {},
   "outputs": [
    {
     "data": {
      "text/plain": [
       "12"
      ]
     },
     "execution_count": 10,
     "metadata": {},
     "output_type": "execute_result"
    }
   ],
   "source": [
    "len(myString)"
   ]
  },
  {
   "cell_type": "code",
   "execution_count": 12,
   "id": "201497db-d5c4-4956-afaa-03fb6f480a1b",
   "metadata": {},
   "outputs": [
    {
     "data": {
      "text/plain": [
       "11"
      ]
     },
     "execution_count": 12,
     "metadata": {},
     "output_type": "execute_result"
    }
   ],
   "source": [
    "len(myString) - 1 #son indexi verir."
   ]
  },
  {
   "cell_type": "code",
   "execution_count": 13,
   "id": "356af208-d7a8-4f07-8347-eab3c29cee6a",
   "metadata": {},
   "outputs": [],
   "source": [
    "myName = \"James Hetfield\""
   ]
  },
  {
   "cell_type": "code",
   "execution_count": 19,
   "id": "407ab9f1-f119-45d0-a28a-9d0f902a71d8",
   "metadata": {},
   "outputs": [
    {
     "data": {
      "text/plain": [
       "'d'"
      ]
     },
     "execution_count": 19,
     "metadata": {},
     "output_type": "execute_result"
    }
   ],
   "source": [
    "myName[len(myName)-1]"
   ]
  },
  {
   "cell_type": "code",
   "execution_count": 20,
   "id": "c546e2ea-5ce0-468c-b694-460ec0e05665",
   "metadata": {},
   "outputs": [
    {
     "data": {
      "text/plain": [
       "'d'"
      ]
     },
     "execution_count": 20,
     "metadata": {},
     "output_type": "execute_result"
    }
   ],
   "source": [
    "myName[-1]"
   ]
  },
  {
   "cell_type": "code",
   "execution_count": 21,
   "id": "63c85438-cfbc-4075-a16d-22e9e9969a90",
   "metadata": {},
   "outputs": [
    {
     "data": {
      "text/plain": [
       "'l'"
      ]
     },
     "execution_count": 21,
     "metadata": {},
     "output_type": "execute_result"
    }
   ],
   "source": [
    "myName[-2]"
   ]
  },
  {
   "cell_type": "code",
   "execution_count": 22,
   "id": "7c524e2b-2598-46f5-ae14-940549bbdad4",
   "metadata": {},
   "outputs": [],
   "source": [
    "barcode = \"ABCDE345678\""
   ]
  },
  {
   "cell_type": "code",
   "execution_count": 23,
   "id": "69a69642-433b-4665-98c9-ff6a07e9b11c",
   "metadata": {},
   "outputs": [
    {
     "data": {
      "text/plain": [
       "'ABC'"
      ]
     },
     "execution_count": 23,
     "metadata": {},
     "output_type": "execute_result"
    }
   ],
   "source": [
    "barcode[0] + barcode[1] + barcode[2]"
   ]
  },
  {
   "cell_type": "code",
   "execution_count": 24,
   "id": "fae36350-94e9-44d8-af93-a76176881e6b",
   "metadata": {},
   "outputs": [],
   "source": [
    "# slicing, starting index, stopping index, stepping size"
   ]
  },
  {
   "cell_type": "code",
   "execution_count": 25,
   "id": "7cbd78f1-a6d3-43b6-9d42-492cc664d3be",
   "metadata": {},
   "outputs": [
    {
     "data": {
      "text/plain": [
       "'ABCDE345678'"
      ]
     },
     "execution_count": 25,
     "metadata": {},
     "output_type": "execute_result"
    }
   ],
   "source": [
    "barcode[: : ]"
   ]
  },
  {
   "cell_type": "code",
   "execution_count": 26,
   "id": "526e8e28-312e-4a84-9822-66f2ac5519d2",
   "metadata": {},
   "outputs": [],
   "source": [
    "#barcode[starting index, stopping index, stepping size]"
   ]
  },
  {
   "cell_type": "code",
   "execution_count": 27,
   "id": "1474eac6-6fac-4110-be55-7c6b7e9da8a9",
   "metadata": {},
   "outputs": [
    {
     "data": {
      "text/plain": [
       "'DE345678'"
      ]
     },
     "execution_count": 27,
     "metadata": {},
     "output_type": "execute_result"
    }
   ],
   "source": [
    "barcode[3::]"
   ]
  },
  {
   "cell_type": "code",
   "execution_count": 28,
   "id": "0ea59ff4-48cb-46a0-881c-91e2524b0014",
   "metadata": {},
   "outputs": [
    {
     "data": {
      "text/plain": [
       "'ABC'"
      ]
     },
     "execution_count": 28,
     "metadata": {},
     "output_type": "execute_result"
    }
   ],
   "source": [
    "barcode[:3:]"
   ]
  },
  {
   "cell_type": "code",
   "execution_count": 29,
   "id": "12f889d2-478e-4e99-80f2-6731d1c92679",
   "metadata": {},
   "outputs": [
    {
     "data": {
      "text/plain": [
       "'ACE468'"
      ]
     },
     "execution_count": 29,
     "metadata": {},
     "output_type": "execute_result"
    }
   ],
   "source": [
    "barcode[::2]"
   ]
  },
  {
   "cell_type": "code",
   "execution_count": 30,
   "id": "c4b73e81-cf5f-40c7-9440-b60d2dbd5023",
   "metadata": {},
   "outputs": [
    {
     "data": {
      "text/plain": [
       "'DE'"
      ]
     },
     "execution_count": 30,
     "metadata": {},
     "output_type": "execute_result"
    }
   ],
   "source": [
    "barcode[3:5:]"
   ]
  },
  {
   "cell_type": "code",
   "execution_count": 31,
   "id": "6545f9ee-d7f8-4cc0-b08a-99576eb94722",
   "metadata": {},
   "outputs": [
    {
     "data": {
      "text/plain": [
       "'876543EDCBA'"
      ]
     },
     "execution_count": 31,
     "metadata": {},
     "output_type": "execute_result"
    }
   ],
   "source": [
    "barcode[::-1]"
   ]
  },
  {
   "cell_type": "code",
   "execution_count": 37,
   "id": "81840df4-64e4-4585-9b6e-7429ec00dedc",
   "metadata": {},
   "outputs": [
    {
     "data": {
      "text/plain": [
       "6"
      ]
     },
     "execution_count": 37,
     "metadata": {},
     "output_type": "execute_result"
    }
   ],
   "source": [
    "barcode.index(\"4\")"
   ]
  },
  {
   "cell_type": "code",
   "execution_count": 39,
   "id": "9966b797-0684-4283-b4ce-44eef45a7771",
   "metadata": {},
   "outputs": [
    {
     "name": "stdout",
     "output_type": "stream",
     "text": [
      "Help on built-in function index:\n",
      "\n",
      "index(...) method of builtins.str instance\n",
      "    S.index(sub[, start[, end]]) -> int\n",
      "\n",
      "    Return the lowest index in S where substring sub is found,\n",
      "    such that sub is contained within S[start:end].  Optional\n",
      "    arguments start and end are interpreted as in slice notation.\n",
      "\n",
      "    Raises ValueError when the substring is not found.\n",
      "\n"
     ]
    }
   ],
   "source": [
    "help(barcode.index)"
   ]
  },
  {
   "cell_type": "code",
   "execution_count": 40,
   "id": "30cd18d2-fbdc-49f4-8620-1ca281be1a05",
   "metadata": {},
   "outputs": [
    {
     "data": {
      "text/plain": [
       "['ABCDE345678']"
      ]
     },
     "execution_count": 40,
     "metadata": {},
     "output_type": "execute_result"
    }
   ],
   "source": [
    "barcode.split()"
   ]
  },
  {
   "cell_type": "code",
   "execution_count": 41,
   "id": "4874c014-18d0-480c-8bf0-31ca0f78c63e",
   "metadata": {},
   "outputs": [
    {
     "data": {
      "text/plain": [
       "['James', 'Hetfield']"
      ]
     },
     "execution_count": 41,
     "metadata": {},
     "output_type": "execute_result"
    }
   ],
   "source": [
    "myName.split()"
   ]
  },
  {
   "cell_type": "code",
   "execution_count": 44,
   "id": "86e834e5-7c00-47b8-93d7-bf2c8ac41ccc",
   "metadata": {},
   "outputs": [
    {
     "data": {
      "text/plain": [
       "list"
      ]
     },
     "execution_count": 44,
     "metadata": {},
     "output_type": "execute_result"
    }
   ],
   "source": [
    "type(myName.split())"
   ]
  },
  {
   "cell_type": "code",
   "execution_count": null,
   "id": "f9596c45-b521-4506-9615-21c46c1bd617",
   "metadata": {},
   "outputs": [],
   "source": []
  }
 ],
 "metadata": {
  "kernelspec": {
   "display_name": "Python 3 (ipykernel)",
   "language": "python",
   "name": "python3"
  },
  "language_info": {
   "codemirror_mode": {
    "name": "ipython",
    "version": 3
   },
   "file_extension": ".py",
   "mimetype": "text/x-python",
   "name": "python",
   "nbconvert_exporter": "python",
   "pygments_lexer": "ipython3",
   "version": "3.12.7"
  }
 },
 "nbformat": 4,
 "nbformat_minor": 5
}
