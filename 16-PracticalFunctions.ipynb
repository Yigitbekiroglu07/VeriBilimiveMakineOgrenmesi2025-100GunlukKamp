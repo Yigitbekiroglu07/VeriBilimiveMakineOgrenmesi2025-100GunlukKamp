{
 "cells": [
  {
   "cell_type": "code",
   "execution_count": 37,
   "id": "df212f8c-9cf3-4c3c-a901-9099f8774c5a",
   "metadata": {},
   "outputs": [],
   "source": [
    "def divide_number(number):\n",
    "    return number / 2"
   ]
  },
  {
   "cell_type": "code",
   "execution_count": 38,
   "id": "36d89518-a12c-45e2-9914-1c916e7cc5d2",
   "metadata": {},
   "outputs": [
    {
     "data": {
      "text/plain": [
       "10.0"
      ]
     },
     "execution_count": 38,
     "metadata": {},
     "output_type": "execute_result"
    }
   ],
   "source": [
    "divide_number(20)"
   ]
  },
  {
   "cell_type": "code",
   "execution_count": 39,
   "id": "a6fd262b-3ab1-4195-86e2-8594b275c389",
   "metadata": {},
   "outputs": [],
   "source": [
    "myList = [3,5,7,10,20,30]"
   ]
  },
  {
   "cell_type": "code",
   "execution_count": 40,
   "id": "024a3a2b-67e7-465e-8f5d-b2372bc1277d",
   "metadata": {},
   "outputs": [
    {
     "name": "stdout",
     "output_type": "stream",
     "text": [
      "[1.5, 2.5, 3.5, 5.0, 10.0, 15.0]\n"
     ]
    }
   ],
   "source": [
    "myResultList = []\n",
    "for num in myList:\n",
    "    myResultList.append(divide_number(num))\n",
    "print(myResultList)"
   ]
  },
  {
   "cell_type": "markdown",
   "id": "08191691-dc71-4ef6-8342-28316a65833b",
   "metadata": {},
   "source": [
    "Map"
   ]
  },
  {
   "cell_type": "code",
   "execution_count": 41,
   "id": "ba15cab0-12c8-47e1-ab06-885cf3a882cd",
   "metadata": {},
   "outputs": [
    {
     "name": "stdout",
     "output_type": "stream",
     "text": [
      "Help on class map in module builtins:\n",
      "\n",
      "class map(object)\n",
      " |  map(func, *iterables) --> map object\n",
      " |\n",
      " |  Make an iterator that computes the function using arguments from\n",
      " |  each of the iterables.  Stops when the shortest iterable is exhausted.\n",
      " |\n",
      " |  Methods defined here:\n",
      " |\n",
      " |  __getattribute__(self, name, /)\n",
      " |      Return getattr(self, name).\n",
      " |\n",
      " |  __iter__(self, /)\n",
      " |      Implement iter(self).\n",
      " |\n",
      " |  __next__(self, /)\n",
      " |      Implement next(self).\n",
      " |\n",
      " |  __reduce__(...)\n",
      " |      Return state information for pickling.\n",
      " |\n",
      " |  ----------------------------------------------------------------------\n",
      " |  Static methods defined here:\n",
      " |\n",
      " |  __new__(*args, **kwargs)\n",
      " |      Create and return a new object.  See help(type) for accurate signature.\n",
      "\n"
     ]
    }
   ],
   "source": [
    "help(map)"
   ]
  },
  {
   "cell_type": "code",
   "execution_count": 44,
   "id": "74553401-18a5-441f-ad68-1e62945f6c18",
   "metadata": {},
   "outputs": [
    {
     "data": {
      "text/plain": [
       "[1.5, 2.5, 3.5, 5.0, 10.0, 15.0]"
      ]
     },
     "execution_count": 44,
     "metadata": {},
     "output_type": "execute_result"
    }
   ],
   "source": [
    "list(map(divide_number,myList))"
   ]
  },
  {
   "cell_type": "code",
   "execution_count": 45,
   "id": "048e6bd8-124c-4d0e-951e-0253cc19f054",
   "metadata": {},
   "outputs": [],
   "source": [
    "def controlString(string):\n",
    "    return \"yiğit\" in string"
   ]
  },
  {
   "cell_type": "code",
   "execution_count": 47,
   "id": "adc1e05c-1b8d-4a61-8caf-6760eb37f74f",
   "metadata": {},
   "outputs": [
    {
     "data": {
      "text/plain": [
       "True"
      ]
     },
     "execution_count": 47,
     "metadata": {},
     "output_type": "execute_result"
    }
   ],
   "source": [
    "controlString(\"yiğit bekiroğlu\")"
   ]
  },
  {
   "cell_type": "code",
   "execution_count": 48,
   "id": "2b9cff13-2366-4565-ab39-e6b4bf7f5aaa",
   "metadata": {},
   "outputs": [
    {
     "data": {
      "text/plain": [
       "False"
      ]
     },
     "execution_count": 48,
     "metadata": {},
     "output_type": "execute_result"
    }
   ],
   "source": [
    "controlString(\"alperen bekiroğlu\")"
   ]
  },
  {
   "cell_type": "code",
   "execution_count": 49,
   "id": "535d7553-1453-4173-9389-c978255e51d1",
   "metadata": {},
   "outputs": [],
   "source": [
    "myList = [\"yiğit\",\"alperen\",\"bekiroğlu\",\"yiğit bekiroğlu\"]"
   ]
  },
  {
   "cell_type": "code",
   "execution_count": 50,
   "id": "545c5a4e-ce8e-4bb3-b064-cc3de99eeda2",
   "metadata": {},
   "outputs": [
    {
     "data": {
      "text/plain": [
       "[True, False, False, True]"
      ]
     },
     "execution_count": 50,
     "metadata": {},
     "output_type": "execute_result"
    }
   ],
   "source": [
    "list(map(controlString,myList))"
   ]
  },
  {
   "cell_type": "markdown",
   "id": "3d3739fc-3028-4d8a-909b-ca98c077efc7",
   "metadata": {},
   "source": [
    "filter"
   ]
  },
  {
   "cell_type": "code",
   "execution_count": 51,
   "id": "12cb0352-3691-4ad2-988c-a611a9039af6",
   "metadata": {},
   "outputs": [
    {
     "data": {
      "text/plain": [
       "<filter at 0x1468505b970>"
      ]
     },
     "execution_count": 51,
     "metadata": {},
     "output_type": "execute_result"
    }
   ],
   "source": [
    "filter(controlString,myList)"
   ]
  },
  {
   "cell_type": "code",
   "execution_count": 52,
   "id": "32cc9c4a-3451-48d3-91e1-17e0803b07eb",
   "metadata": {},
   "outputs": [
    {
     "data": {
      "text/plain": [
       "['yiğit', 'yiğit bekiroğlu']"
      ]
     },
     "execution_count": 52,
     "metadata": {},
     "output_type": "execute_result"
    }
   ],
   "source": [
    "list(filter(controlString,myList))"
   ]
  },
  {
   "cell_type": "markdown",
   "id": "8ddcc09f-0546-41d2-8d04-9da0830b2962",
   "metadata": {},
   "source": [
    "lambda"
   ]
  },
  {
   "cell_type": "code",
   "execution_count": 53,
   "id": "8a736f1b-1277-439a-95f5-b560623be47f",
   "metadata": {},
   "outputs": [],
   "source": [
    "multiplyLambda = lambda num : num *3"
   ]
  },
  {
   "cell_type": "code",
   "execution_count": 54,
   "id": "aba988fd-24b0-45a7-a670-7633812c74bb",
   "metadata": {},
   "outputs": [
    {
     "data": {
      "text/plain": [
       "function"
      ]
     },
     "execution_count": 54,
     "metadata": {},
     "output_type": "execute_result"
    }
   ],
   "source": [
    "type(multiplyLambda)"
   ]
  },
  {
   "cell_type": "code",
   "execution_count": 55,
   "id": "bc49bab3-9730-41eb-b574-1d252aa9e497",
   "metadata": {},
   "outputs": [
    {
     "data": {
      "text/plain": [
       "60"
      ]
     },
     "execution_count": 55,
     "metadata": {},
     "output_type": "execute_result"
    }
   ],
   "source": [
    "multiplyLambda(20)"
   ]
  },
  {
   "cell_type": "code",
   "execution_count": 56,
   "id": "bf0a566e-bcb7-4496-a632-62b7262692b2",
   "metadata": {},
   "outputs": [],
   "source": [
    "result = multiplyLambda(20)"
   ]
  },
  {
   "cell_type": "code",
   "execution_count": 57,
   "id": "ecd63728-c737-4e98-9dba-51ad88fe9798",
   "metadata": {},
   "outputs": [
    {
     "data": {
      "text/plain": [
       "60"
      ]
     },
     "execution_count": 57,
     "metadata": {},
     "output_type": "execute_result"
    }
   ],
   "source": [
    "result"
   ]
  },
  {
   "cell_type": "code",
   "execution_count": 59,
   "id": "93cf9ad0-17ad-49a1-981d-761b60ea65dd",
   "metadata": {},
   "outputs": [],
   "source": [
    "numList = [10,20,30,40]"
   ]
  },
  {
   "cell_type": "code",
   "execution_count": 61,
   "id": "d6dac9d5-d9b9-4b69-ae43-cb81edc434dc",
   "metadata": {},
   "outputs": [
    {
     "data": {
      "text/plain": [
       "[2.5, 5.0, 7.5, 10.0]"
      ]
     },
     "execution_count": 61,
     "metadata": {},
     "output_type": "execute_result"
    }
   ],
   "source": [
    "list(map(lambda num:num/4,numList))"
   ]
  },
  {
   "cell_type": "markdown",
   "id": "76d1588b-5edd-4396-8cd6-125525c849cd",
   "metadata": {},
   "source": [
    "scope"
   ]
  },
  {
   "cell_type": "code",
   "execution_count": 5,
   "id": "b7a696d5-37b6-4dec-a62b-13d05d5c2b51",
   "metadata": {},
   "outputs": [],
   "source": [
    "x = 20\n",
    "def multiply(num):\n",
    "    x = 5\n",
    "    return num * x "
   ]
  },
  {
   "cell_type": "code",
   "execution_count": 6,
   "id": "82d7fa57-fef0-4f34-a70f-b4dba11d20a3",
   "metadata": {},
   "outputs": [
    {
     "data": {
      "text/plain": [
       "50"
      ]
     },
     "execution_count": 6,
     "metadata": {},
     "output_type": "execute_result"
    }
   ],
   "source": [
    "multiply(10)"
   ]
  },
  {
   "cell_type": "code",
   "execution_count": 7,
   "id": "0eb8d723-a718-4f82-ae78-0bbe5d681219",
   "metadata": {},
   "outputs": [
    {
     "name": "stdout",
     "output_type": "stream",
     "text": [
      "20\n"
     ]
    }
   ],
   "source": [
    "print(x)"
   ]
  },
  {
   "cell_type": "code",
   "execution_count": 8,
   "id": "75eb2c44-1c73-4a03-98d3-a9c00249efc6",
   "metadata": {},
   "outputs": [],
   "source": [
    "x = 20\n",
    "def multiply(num):\n",
    "    return num * x "
   ]
  },
  {
   "cell_type": "code",
   "execution_count": 9,
   "id": "f28dc008-42ba-442d-acd3-a91a3f4446ee",
   "metadata": {},
   "outputs": [
    {
     "data": {
      "text/plain": [
       "400"
      ]
     },
     "execution_count": 9,
     "metadata": {},
     "output_type": "execute_result"
    }
   ],
   "source": [
    "multiply(20)"
   ]
  },
  {
   "cell_type": "markdown",
   "id": "9ea1d8ee-981b-4aef-bfd9-15011708286d",
   "metadata": {},
   "source": [
    "#LEGB --> Local, Enclosing, Global, Built In"
   ]
  },
  {
   "cell_type": "code",
   "execution_count": 32,
   "id": "95d83ef7-5dd4-40a2-a2c4-191ee28a4565",
   "metadata": {},
   "outputs": [],
   "source": [
    "#Global\n",
    "myString = \"yiğit\"\n",
    "def name():\n",
    "    #Enclosing\n",
    "    myString = \"yiğit 2\"\n",
    "    print(myString)\n",
    "    \n",
    "    def name2():\n",
    "        #local\n",
    "        myString = \"yiğit 3\"\n",
    "        print(myString)\n",
    "        \n",
    "    name2()"
   ]
  },
  {
   "cell_type": "code",
   "execution_count": 33,
   "id": "1098d737-7e1c-4a75-a8de-31e6028b32ce",
   "metadata": {},
   "outputs": [
    {
     "data": {
      "text/plain": [
       "'yiğit'"
      ]
     },
     "execution_count": 33,
     "metadata": {},
     "output_type": "execute_result"
    }
   ],
   "source": [
    "myString"
   ]
  },
  {
   "cell_type": "code",
   "execution_count": 34,
   "id": "719f1072-257f-4207-9e3c-36b2d0c6d8ab",
   "metadata": {},
   "outputs": [
    {
     "name": "stdout",
     "output_type": "stream",
     "text": [
      "yiğit 2\n",
      "yiğit 3\n"
     ]
    }
   ],
   "source": [
    "name()"
   ]
  },
  {
   "cell_type": "code",
   "execution_count": 36,
   "id": "ff8ee552-c0c5-4d24-929b-c94cd8f1b78f",
   "metadata": {},
   "outputs": [],
   "source": [
    "def test1():\n",
    "    myX = 10\n",
    "    print(myX)\n",
    "def test2():\n",
    "    print(myX)"
   ]
  },
  {
   "cell_type": "code",
   "execution_count": 38,
   "id": "29a60216-4a37-41bf-b31b-c83a7c6e3bb2",
   "metadata": {},
   "outputs": [
    {
     "name": "stdout",
     "output_type": "stream",
     "text": [
      "10\n"
     ]
    }
   ],
   "source": [
    "test1()"
   ]
  },
  {
   "cell_type": "code",
   "execution_count": 40,
   "id": "dac1d1f6-af4d-4b19-9b21-9a748ec8f1c4",
   "metadata": {},
   "outputs": [],
   "source": [
    "#test2()"
   ]
  },
  {
   "cell_type": "code",
   "execution_count": 41,
   "id": "a69b4265-d13c-4b7b-8f67-98844c5e8034",
   "metadata": {},
   "outputs": [],
   "source": [
    "y = 10\n",
    "def changeY():\n",
    "    global y\n",
    "    y = 5\n",
    "    print(y)"
   ]
  },
  {
   "cell_type": "code",
   "execution_count": 43,
   "id": "7198ec87-53c9-475a-8c96-18574fb45419",
   "metadata": {},
   "outputs": [
    {
     "name": "stdout",
     "output_type": "stream",
     "text": [
      "5\n"
     ]
    }
   ],
   "source": [
    "changeY()"
   ]
  },
  {
   "cell_type": "code",
   "execution_count": 44,
   "id": "a52ddc47-bdb1-46a8-923d-ae8e98b931b0",
   "metadata": {},
   "outputs": [
    {
     "data": {
      "text/plain": [
       "5"
      ]
     },
     "execution_count": 44,
     "metadata": {},
     "output_type": "execute_result"
    }
   ],
   "source": [
    "y"
   ]
  }
 ],
 "metadata": {
  "kernelspec": {
   "display_name": "Python 3 (ipykernel)",
   "language": "python",
   "name": "python3"
  },
  "language_info": {
   "codemirror_mode": {
    "name": "ipython",
    "version": 3
   },
   "file_extension": ".py",
   "mimetype": "text/x-python",
   "name": "python",
   "nbconvert_exporter": "python",
   "pygments_lexer": "ipython3",
   "version": "3.12.7"
  }
 },
 "nbformat": 4,
 "nbformat_minor": 5
}
