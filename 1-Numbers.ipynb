{
 "cells": [
  {
   "cell_type": "code",
   "execution_count": 1,
   "id": "18bc0937-41b7-4b45-b044-04505416b460",
   "metadata": {},
   "outputs": [
    {
     "data": {
      "text/plain": [
       "8"
      ]
     },
     "execution_count": 1,
     "metadata": {},
     "output_type": "execute_result"
    }
   ],
   "source": [
    "3 + 5"
   ]
  },
  {
   "cell_type": "code",
   "execution_count": 2,
   "id": "0ce495da-614b-4a17-8ebf-d7aee4cf450a",
   "metadata": {},
   "outputs": [
    {
     "data": {
      "text/plain": [
       "12"
      ]
     },
     "execution_count": 2,
     "metadata": {},
     "output_type": "execute_result"
    }
   ],
   "source": [
    "3 * 4"
   ]
  },
  {
   "cell_type": "code",
   "execution_count": 3,
   "id": "f93b9646-2fce-496c-a2c6-ad192f01fe84",
   "metadata": {},
   "outputs": [
    {
     "data": {
      "text/plain": [
       "225.0"
      ]
     },
     "execution_count": 3,
     "metadata": {},
     "output_type": "execute_result"
    }
   ],
   "source": [
    "900 / 4"
   ]
  },
  {
   "cell_type": "code",
   "execution_count": 4,
   "id": "cb3ac8c8-9711-45a6-8c1b-042a7d2cbfbd",
   "metadata": {},
   "outputs": [
    {
     "data": {
      "text/plain": [
       "128.57142857142858"
      ]
     },
     "execution_count": 4,
     "metadata": {},
     "output_type": "execute_result"
    }
   ],
   "source": [
    "900 / 7"
   ]
  },
  {
   "cell_type": "code",
   "execution_count": 5,
   "id": "5679a53f-079e-4e13-889e-80a04605dccb",
   "metadata": {},
   "outputs": [],
   "source": [
    "age = 50"
   ]
  },
  {
   "cell_type": "code",
   "execution_count": 6,
   "id": "631e79be-f492-434a-8866-055e8a14e382",
   "metadata": {},
   "outputs": [
    {
     "data": {
      "text/plain": [
       "50"
      ]
     },
     "execution_count": 6,
     "metadata": {},
     "output_type": "execute_result"
    }
   ],
   "source": [
    "age"
   ]
  },
  {
   "cell_type": "code",
   "execution_count": 7,
   "id": "8b597af8-64ba-4e67-a840-1881aaa9fb73",
   "metadata": {},
   "outputs": [
    {
     "data": {
      "text/plain": [
       "100"
      ]
     },
     "execution_count": 7,
     "metadata": {},
     "output_type": "execute_result"
    }
   ],
   "source": [
    "age * 2"
   ]
  },
  {
   "cell_type": "code",
   "execution_count": 8,
   "id": "8490876c-98ed-41bb-8771-2af335b4d29d",
   "metadata": {},
   "outputs": [
    {
     "data": {
      "text/plain": [
       "16.666666666666668"
      ]
     },
     "execution_count": 8,
     "metadata": {},
     "output_type": "execute_result"
    }
   ],
   "source": [
    "age / 3"
   ]
  },
  {
   "cell_type": "code",
   "execution_count": 10,
   "id": "bca8ca00-a07b-4b1f-abff-c57e45d38949",
   "metadata": {},
   "outputs": [],
   "source": [
    "# data type"
   ]
  },
  {
   "cell_type": "code",
   "execution_count": 11,
   "id": "108bb935-d90d-4711-9da3-0015a3de815e",
   "metadata": {},
   "outputs": [
    {
     "data": {
      "text/plain": [
       "int"
      ]
     },
     "execution_count": 11,
     "metadata": {},
     "output_type": "execute_result"
    }
   ],
   "source": [
    "type(10)"
   ]
  },
  {
   "cell_type": "code",
   "execution_count": 12,
   "id": "246d0142-1924-46b9-bc93-ab2809540610",
   "metadata": {},
   "outputs": [
    {
     "data": {
      "text/plain": [
       "int"
      ]
     },
     "execution_count": 12,
     "metadata": {},
     "output_type": "execute_result"
    }
   ],
   "source": [
    "type (age * 5)"
   ]
  },
  {
   "cell_type": "code",
   "execution_count": 13,
   "id": "2e763bb0-c501-433e-8484-13a52573ab1d",
   "metadata": {},
   "outputs": [],
   "source": [
    "# int --> integer"
   ]
  },
  {
   "cell_type": "code",
   "execution_count": 14,
   "id": "6e2452dd-de52-4706-8012-b3e5c7e385ff",
   "metadata": {},
   "outputs": [
    {
     "data": {
      "text/plain": [
       "float"
      ]
     },
     "execution_count": 14,
     "metadata": {},
     "output_type": "execute_result"
    }
   ],
   "source": [
    "type(3.14)"
   ]
  },
  {
   "cell_type": "code",
   "execution_count": 15,
   "id": "dfddc2e8-d1f9-43af-9028-fc6529052edb",
   "metadata": {},
   "outputs": [],
   "source": [
    "# float --> floating point - kesirli sayılar için"
   ]
  },
  {
   "cell_type": "code",
   "execution_count": 16,
   "id": "f3905cc2-60f4-45e9-b2c8-44884ce1f116",
   "metadata": {},
   "outputs": [],
   "source": [
    "myFloat = 1.33224325"
   ]
  },
  {
   "cell_type": "code",
   "execution_count": 17,
   "id": "d39e1283-6776-460a-961b-17115ca4fb91",
   "metadata": {},
   "outputs": [
    {
     "data": {
      "text/plain": [
       "float"
      ]
     },
     "execution_count": 17,
     "metadata": {},
     "output_type": "execute_result"
    }
   ],
   "source": [
    "type(myFloat)"
   ]
  },
  {
   "cell_type": "code",
   "execution_count": 18,
   "id": "58aad0b8-7552-47bc-83e7-a90439579821",
   "metadata": {},
   "outputs": [],
   "source": [
    "#camelCase\n",
    "#snake_case kullanılır."
   ]
  },
  {
   "cell_type": "code",
   "execution_count": 19,
   "id": "bea7d6dc-50da-49f6-9467-281b9d9cbdd0",
   "metadata": {},
   "outputs": [
    {
     "data": {
      "text/plain": [
       "10.0"
      ]
     },
     "execution_count": 19,
     "metadata": {},
     "output_type": "execute_result"
    }
   ],
   "source": [
    "40 / 4"
   ]
  },
  {
   "cell_type": "code",
   "execution_count": 22,
   "id": "b71efaaf-ffb6-47ce-ba5c-53277e7a2ab9",
   "metadata": {},
   "outputs": [
    {
     "data": {
      "text/plain": [
       "float"
      ]
     },
     "execution_count": 22,
     "metadata": {},
     "output_type": "execute_result"
    }
   ],
   "source": [
    "type(40/4)"
   ]
  },
  {
   "cell_type": "code",
   "execution_count": 23,
   "id": "7b1d1857-eb63-4487-84a8-15b1749086da",
   "metadata": {},
   "outputs": [
    {
     "data": {
      "text/plain": [
       "float"
      ]
     },
     "execution_count": 23,
     "metadata": {},
     "output_type": "execute_result"
    }
   ],
   "source": [
    "type(40/4)"
   ]
  },
  {
   "cell_type": "code",
   "execution_count": 24,
   "id": "53856363-b30b-48d7-b7af-3b259da41e54",
   "metadata": {},
   "outputs": [
    {
     "data": {
      "text/plain": [
       "2.0999999999999996"
      ]
     },
     "execution_count": 24,
     "metadata": {},
     "output_type": "execute_result"
    }
   ],
   "source": [
    "4.1-2"
   ]
  },
  {
   "cell_type": "code",
   "execution_count": 25,
   "id": "993d3ece-45a8-4f99-bda5-b035b974b252",
   "metadata": {},
   "outputs": [
    {
     "data": {
      "text/plain": [
       "2.5"
      ]
     },
     "execution_count": 25,
     "metadata": {},
     "output_type": "execute_result"
    }
   ],
   "source": [
    "4.5-2"
   ]
  },
  {
   "cell_type": "code",
   "execution_count": 26,
   "id": "78ff73a5-e392-4c91-8aca-d96fe94ee872",
   "metadata": {},
   "outputs": [
    {
     "data": {
      "text/plain": [
       "12.600000000000001"
      ]
     },
     "execution_count": 26,
     "metadata": {},
     "output_type": "execute_result"
    }
   ],
   "source": [
    "4.2 * 3"
   ]
  },
  {
   "cell_type": "code",
   "execution_count": 27,
   "id": "b04051dc-427f-49a9-beb5-a920cbad88c7",
   "metadata": {},
   "outputs": [
    {
     "data": {
      "text/plain": [
       "13.020000000000001"
      ]
     },
     "execution_count": 27,
     "metadata": {},
     "output_type": "execute_result"
    }
   ],
   "source": [
    "4.2*3.1"
   ]
  },
  {
   "cell_type": "code",
   "execution_count": 28,
   "id": "3cdbff2c-47ea-4e3a-947f-be24c14182c2",
   "metadata": {},
   "outputs": [
    {
     "data": {
      "text/plain": [
       "-18"
      ]
     },
     "execution_count": 28,
     "metadata": {},
     "output_type": "execute_result"
    }
   ],
   "source": [
    "2 - 10*2"
   ]
  },
  {
   "cell_type": "code",
   "execution_count": 29,
   "id": "8ddf2cd2-a474-4e18-9116-543d54c16044",
   "metadata": {},
   "outputs": [
    {
     "data": {
      "text/plain": [
       "32"
      ]
     },
     "execution_count": 29,
     "metadata": {},
     "output_type": "execute_result"
    }
   ],
   "source": [
    "2*2*2*2*2"
   ]
  },
  {
   "cell_type": "code",
   "execution_count": 30,
   "id": "ed2deb71-a157-4dac-96aa-3c031f979560",
   "metadata": {},
   "outputs": [
    {
     "data": {
      "text/plain": [
       "32"
      ]
     },
     "execution_count": 30,
     "metadata": {},
     "output_type": "execute_result"
    }
   ],
   "source": [
    "2**5"
   ]
  },
  {
   "cell_type": "code",
   "execution_count": 32,
   "id": "98acd41d-c9e3-43c2-b2d4-5f80335698a6",
   "metadata": {},
   "outputs": [
    {
     "data": {
      "text/plain": [
       "1"
      ]
     },
     "execution_count": 32,
     "metadata": {},
     "output_type": "execute_result"
    }
   ],
   "source": [
    "10 % 3 #remainder"
   ]
  },
  {
   "cell_type": "code",
   "execution_count": null,
   "id": "80489229-50ab-400a-8dd6-01b64983c018",
   "metadata": {},
   "outputs": [],
   "source": []
  }
 ],
 "metadata": {
  "kernelspec": {
   "display_name": "Python 3 (ipykernel)",
   "language": "python",
   "name": "python3"
  },
  "language_info": {
   "codemirror_mode": {
    "name": "ipython",
    "version": 3
   },
   "file_extension": ".py",
   "mimetype": "text/x-python",
   "name": "python",
   "nbconvert_exporter": "python",
   "pygments_lexer": "ipython3",
   "version": "3.12.7"
  }
 },
 "nbformat": 4,
 "nbformat_minor": 5
}
